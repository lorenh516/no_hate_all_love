{
 "cells": [
  {
   "cell_type": "markdown",
   "metadata": {},
   "source": [
    "# SVM models"
   ]
  },
  {
   "cell_type": "markdown",
   "metadata": {},
   "source": [
    "This notebook was run on an Amazon SageMaker ml.c5.4xlarge instance.  "
   ]
  },
  {
   "cell_type": "code",
   "execution_count": 1,
   "metadata": {},
   "outputs": [],
   "source": [
    "import pandas as pd\n",
    "import string\n",
    "import re\n",
    "import string\n",
    "import numpy as np\n",
    "import datetime\n",
    "import seaborn as sns\n",
    "\n",
    "import warnings\n",
    "warnings.filterwarnings('ignore')\n",
    "\n",
    "import nltk\n",
    "from nltk.corpus import stopwords\n",
    "from nltk.stem import PorterStemmer \n",
    "from nltk.stem import LancasterStemmer \n",
    "\n",
    "import sklearn\n",
    "from sklearn.feature_extraction.text import CountVectorizer\n",
    "from sklearn.feature_extraction.text import TfidfTransformer\n",
    "from sklearn.feature_extraction.text import TfidfVectorizer\n",
    "\n",
    "from sklearn.naive_bayes import MultinomialNB,GaussianNB\n",
    "from sklearn import svm\n",
    "from sklearn.linear_model import LogisticRegression\n",
    "\n",
    "from sklearn.metrics import accuracy_score, precision_score, recall_score, f1_score, roc_auc_score"
   ]
  },
  {
   "cell_type": "code",
   "execution_count": 2,
   "metadata": {},
   "outputs": [],
   "source": [
    "import pickle_functions as pf"
   ]
  },
  {
   "cell_type": "code",
   "execution_count": 3,
   "metadata": {},
   "outputs": [],
   "source": [
    "import model_functions as mf"
   ]
  },
  {
   "cell_type": "markdown",
   "metadata": {},
   "source": [
    "# 1) SVM - weighted 1/3 toxic, 2/3 nontoxic"
   ]
  },
  {
   "cell_type": "markdown",
   "metadata": {},
   "source": [
    "### Load and shuffle data"
   ]
  },
  {
   "cell_type": "code",
   "execution_count": 4,
   "metadata": {},
   "outputs": [],
   "source": [
    "train1 = pf.read_pickle(bucket_name='advancedml-koch-mathur-hinkson', \n",
    "                        filename='sub_train_df4_preprocessed')"
   ]
  },
  {
   "cell_type": "code",
   "execution_count": 5,
   "metadata": {},
   "outputs": [],
   "source": [
    "drop_cols = ['split', 'cleaned_w_stopwords', 'cleaned_no_stem', 'cleaned_porter', 'cleaned_lancaster', \n",
    "             'bigrams_unstemmed', 'perc_upper', 'num_exclam', 'num_words', 'perc_stopwords', 'num_upper_words']"
   ]
  },
  {
   "cell_type": "code",
   "execution_count": 6,
   "metadata": {},
   "outputs": [],
   "source": [
    "train1 = train1.drop(drop_cols, axis = 1)"
   ]
  },
  {
   "cell_type": "code",
   "execution_count": 7,
   "metadata": {},
   "outputs": [
    {
     "data": {
      "text/plain": [
       "(100000, 49)"
      ]
     },
     "execution_count": 7,
     "metadata": {},
     "output_type": "execute_result"
    }
   ],
   "source": [
    "train1.shape"
   ]
  },
  {
   "cell_type": "code",
   "execution_count": 8,
   "metadata": {},
   "outputs": [
    {
     "data": {
      "text/plain": [
       "Index(['id', 'target', 'comment_text', 'severe_toxicity', 'obscene',\n",
       "       'identity_attack', 'insult', 'threat', 'asian', 'atheist', 'bisexual',\n",
       "       'black', 'buddhist', 'christian', 'female', 'heterosexual', 'hindu',\n",
       "       'homosexual_gay_or_lesbian', 'intellectual_or_learning_disability',\n",
       "       'jewish', 'latino', 'male', 'muslim', 'other_disability',\n",
       "       'other_gender', 'other_race_or_ethnicity', 'other_religion',\n",
       "       'other_sexual_orientation', 'physical_disability',\n",
       "       'psychiatric_or_mental_illness', 'transgender', 'white', 'created_date',\n",
       "       'publication_id', 'parent_id', 'article_id', 'rating', 'funny', 'wow',\n",
       "       'sad', 'likes', 'disagree', 'sexual_explicit',\n",
       "       'identity_annotator_count', 'toxicity_annotator_count',\n",
       "       'cleaned_w_stopwords_str', 'cleaned_no_stem_str', 'cleaned_porter_str',\n",
       "       'cleaned_lancaster_str'],\n",
       "      dtype='object')"
      ]
     },
     "execution_count": 8,
     "metadata": {},
     "output_type": "execute_result"
    }
   ],
   "source": [
    "train1.columns"
   ]
  },
  {
   "cell_type": "markdown",
   "metadata": {},
   "source": [
    "Create a new column called \"toxicity_category\" in the train data frame categorizing comments as toxic (\"1\") or non-toxic (\"0\")."
   ]
  },
  {
   "cell_type": "code",
   "execution_count": 9,
   "metadata": {},
   "outputs": [],
   "source": [
    "train1['toxicity_category'] = train1.target.apply(lambda x: 1 if x > 0.5 else 0)"
   ]
  },
  {
   "cell_type": "markdown",
   "metadata": {},
   "source": [
    "Split train.csv into training (80%) and hold out sets (20%)."
   ]
  },
  {
   "cell_type": "code",
   "execution_count": 10,
   "metadata": {},
   "outputs": [],
   "source": [
    "#Citation: https://stackoverflow.com/questions/24147278/how-do-i-create-test-and-train-samples-from-one-dataframe-with-pandas\n",
    "msk = np.random.rand(len(train1)) < 0.8\n",
    "train_set1 = train1[msk]\n",
    "hold_out_set1 = train1[~msk]"
   ]
  },
  {
   "cell_type": "code",
   "execution_count": 11,
   "metadata": {},
   "outputs": [
    {
     "name": "stdout",
     "output_type": "stream",
     "text": [
      "0    75257\n",
      "1     4775\n",
      "Name: toxicity_category, dtype: int64\n"
     ]
    }
   ],
   "source": [
    "print(train_set1.toxicity_category.value_counts())"
   ]
  },
  {
   "cell_type": "code",
   "execution_count": 12,
   "metadata": {},
   "outputs": [
    {
     "name": "stdout",
     "output_type": "stream",
     "text": [
      "0    18831\n",
      "1     1137\n",
      "Name: toxicity_category, dtype: int64\n"
     ]
    }
   ],
   "source": [
    "print(hold_out_set1.toxicity_category.value_counts())"
   ]
  },
  {
   "cell_type": "code",
   "execution_count": 13,
   "metadata": {},
   "outputs": [],
   "source": [
    "toxic1 = train_set1[train_set1.toxicity_category == 1]\n",
    "nontoxic1 = train_set1[train_set1.toxicity_category == 0]"
   ]
  },
  {
   "cell_type": "code",
   "execution_count": 14,
   "metadata": {},
   "outputs": [
    {
     "data": {
      "text/plain": [
       "((80032, 50), (4775, 50), (75257, 50))"
      ]
     },
     "execution_count": 14,
     "metadata": {},
     "output_type": "execute_result"
    }
   ],
   "source": [
    "train_set1.shape, toxic1.shape, nontoxic1.shape"
   ]
  },
  {
   "cell_type": "markdown",
   "metadata": {},
   "source": [
    "Create a data set of 1/3 toxic and 2/3 nontoxic comments, and shuffle the data such that you do not have a data set of grouped toxic and grouped nontoxic comments"
   ]
  },
  {
   "cell_type": "code",
   "execution_count": 15,
   "metadata": {},
   "outputs": [
    {
     "name": "stdout",
     "output_type": "stream",
     "text": [
      "0    9550\n",
      "1    4775\n",
      "Name: toxicity_category, dtype: int64\n"
     ]
    }
   ],
   "source": [
    "prepared_33 = toxic1.append(nontoxic1.sample(len(toxic1)*2))\n",
    "prepared_33 = prepared_33.sample(frac=1).reset_index(drop=True)\n",
    "print(prepared_33.toxicity_category.value_counts())"
   ]
  },
  {
   "cell_type": "markdown",
   "metadata": {},
   "source": [
    "### Run model"
   ]
  },
  {
   "cell_type": "code",
   "execution_count": 16,
   "metadata": {},
   "outputs": [
    {
     "name": "stdout",
     "output_type": "stream",
     "text": [
      "fitting model now\n"
     ]
    }
   ],
   "source": [
    "classifier1, output1, fitted_vectorizer1 = mf.run_model(model_df=prepared_33, \n",
    "                                                     model_type=\"SVM\", \n",
    "                                                     comments = \"cleaned_no_stem_str\", \n",
    "                                                     train_perc=0.95, \n",
    "                                                     target=\"toxicity_category\", \n",
    "                                                     see_inside=False)"
   ]
  },
  {
   "cell_type": "code",
   "execution_count": 17,
   "metadata": {},
   "outputs": [
    {
     "data": {
      "text/html": [
       "<style  type=\"text/css\" >\n",
       "</style><table id=\"T_a00975c8_87e1_11e9_afc2_2bccf1bc5391\" ><thead>    <tr>        <th class=\"blank level0\" ></th>        <th class=\"col_heading level0 col0\" >id</th>        <th class=\"col_heading level0 col1\" >target</th>        <th class=\"col_heading level0 col2\" >comment_text</th>        <th class=\"col_heading level0 col3\" >severe_toxicity</th>        <th class=\"col_heading level0 col4\" >obscene</th>        <th class=\"col_heading level0 col5\" >identity_attack</th>        <th class=\"col_heading level0 col6\" >insult</th>        <th class=\"col_heading level0 col7\" >threat</th>        <th class=\"col_heading level0 col8\" >asian</th>        <th class=\"col_heading level0 col9\" >atheist</th>        <th class=\"col_heading level0 col10\" >bisexual</th>        <th class=\"col_heading level0 col11\" >black</th>        <th class=\"col_heading level0 col12\" >buddhist</th>        <th class=\"col_heading level0 col13\" >christian</th>        <th class=\"col_heading level0 col14\" >female</th>        <th class=\"col_heading level0 col15\" >heterosexual</th>        <th class=\"col_heading level0 col16\" >hindu</th>        <th class=\"col_heading level0 col17\" >homosexual_gay_or_lesbian</th>        <th class=\"col_heading level0 col18\" >intellectual_or_learning_disability</th>        <th class=\"col_heading level0 col19\" >jewish</th>        <th class=\"col_heading level0 col20\" >latino</th>        <th class=\"col_heading level0 col21\" >male</th>        <th class=\"col_heading level0 col22\" >muslim</th>        <th class=\"col_heading level0 col23\" >other_disability</th>        <th class=\"col_heading level0 col24\" >other_gender</th>        <th class=\"col_heading level0 col25\" >other_race_or_ethnicity</th>        <th class=\"col_heading level0 col26\" >other_religion</th>        <th class=\"col_heading level0 col27\" >other_sexual_orientation</th>        <th class=\"col_heading level0 col28\" >physical_disability</th>        <th class=\"col_heading level0 col29\" >psychiatric_or_mental_illness</th>        <th class=\"col_heading level0 col30\" >transgender</th>        <th class=\"col_heading level0 col31\" >white</th>        <th class=\"col_heading level0 col32\" >created_date</th>        <th class=\"col_heading level0 col33\" >publication_id</th>        <th class=\"col_heading level0 col34\" >parent_id</th>        <th class=\"col_heading level0 col35\" >article_id</th>        <th class=\"col_heading level0 col36\" >rating</th>        <th class=\"col_heading level0 col37\" >funny</th>        <th class=\"col_heading level0 col38\" >wow</th>        <th class=\"col_heading level0 col39\" >sad</th>        <th class=\"col_heading level0 col40\" >likes</th>        <th class=\"col_heading level0 col41\" >disagree</th>        <th class=\"col_heading level0 col42\" >sexual_explicit</th>        <th class=\"col_heading level0 col43\" >identity_annotator_count</th>        <th class=\"col_heading level0 col44\" >toxicity_annotator_count</th>        <th class=\"col_heading level0 col45\" >cleaned_w_stopwords_str</th>        <th class=\"col_heading level0 col46\" >cleaned_no_stem_str</th>        <th class=\"col_heading level0 col47\" >cleaned_porter_str</th>        <th class=\"col_heading level0 col48\" >cleaned_lancaster_str</th>        <th class=\"col_heading level0 col49\" >toxicity_category</th>        <th class=\"col_heading level0 col50\" >predicted</th>        <th class=\"col_heading level0 col51\" >y_test</th>        <th class=\"col_heading level0 col52\" >accuracy</th>    </tr></thead><tbody>\n",
       "                <tr>\n",
       "                        <th id=\"T_a00975c8_87e1_11e9_afc2_2bccf1bc5391level0_row0\" class=\"row_heading level0 row0\" >13609</th>\n",
       "                        <td id=\"T_a00975c8_87e1_11e9_afc2_2bccf1bc5391row0_col0\" class=\"data row0 col0\" >725180</td>\n",
       "                        <td id=\"T_a00975c8_87e1_11e9_afc2_2bccf1bc5391row0_col1\" class=\"data row0 col1\" >0</td>\n",
       "                        <td id=\"T_a00975c8_87e1_11e9_afc2_2bccf1bc5391row0_col2\" class=\"data row0 col2\" >I  hope the CRA is keeping track of these under the table businesses and prosecuting them appropriately.</td>\n",
       "                        <td id=\"T_a00975c8_87e1_11e9_afc2_2bccf1bc5391row0_col3\" class=\"data row0 col3\" >0</td>\n",
       "                        <td id=\"T_a00975c8_87e1_11e9_afc2_2bccf1bc5391row0_col4\" class=\"data row0 col4\" >0</td>\n",
       "                        <td id=\"T_a00975c8_87e1_11e9_afc2_2bccf1bc5391row0_col5\" class=\"data row0 col5\" >0</td>\n",
       "                        <td id=\"T_a00975c8_87e1_11e9_afc2_2bccf1bc5391row0_col6\" class=\"data row0 col6\" >0</td>\n",
       "                        <td id=\"T_a00975c8_87e1_11e9_afc2_2bccf1bc5391row0_col7\" class=\"data row0 col7\" >0</td>\n",
       "                        <td id=\"T_a00975c8_87e1_11e9_afc2_2bccf1bc5391row0_col8\" class=\"data row0 col8\" >nan</td>\n",
       "                        <td id=\"T_a00975c8_87e1_11e9_afc2_2bccf1bc5391row0_col9\" class=\"data row0 col9\" >nan</td>\n",
       "                        <td id=\"T_a00975c8_87e1_11e9_afc2_2bccf1bc5391row0_col10\" class=\"data row0 col10\" >nan</td>\n",
       "                        <td id=\"T_a00975c8_87e1_11e9_afc2_2bccf1bc5391row0_col11\" class=\"data row0 col11\" >nan</td>\n",
       "                        <td id=\"T_a00975c8_87e1_11e9_afc2_2bccf1bc5391row0_col12\" class=\"data row0 col12\" >nan</td>\n",
       "                        <td id=\"T_a00975c8_87e1_11e9_afc2_2bccf1bc5391row0_col13\" class=\"data row0 col13\" >nan</td>\n",
       "                        <td id=\"T_a00975c8_87e1_11e9_afc2_2bccf1bc5391row0_col14\" class=\"data row0 col14\" >nan</td>\n",
       "                        <td id=\"T_a00975c8_87e1_11e9_afc2_2bccf1bc5391row0_col15\" class=\"data row0 col15\" >nan</td>\n",
       "                        <td id=\"T_a00975c8_87e1_11e9_afc2_2bccf1bc5391row0_col16\" class=\"data row0 col16\" >nan</td>\n",
       "                        <td id=\"T_a00975c8_87e1_11e9_afc2_2bccf1bc5391row0_col17\" class=\"data row0 col17\" >nan</td>\n",
       "                        <td id=\"T_a00975c8_87e1_11e9_afc2_2bccf1bc5391row0_col18\" class=\"data row0 col18\" >nan</td>\n",
       "                        <td id=\"T_a00975c8_87e1_11e9_afc2_2bccf1bc5391row0_col19\" class=\"data row0 col19\" >nan</td>\n",
       "                        <td id=\"T_a00975c8_87e1_11e9_afc2_2bccf1bc5391row0_col20\" class=\"data row0 col20\" >nan</td>\n",
       "                        <td id=\"T_a00975c8_87e1_11e9_afc2_2bccf1bc5391row0_col21\" class=\"data row0 col21\" >nan</td>\n",
       "                        <td id=\"T_a00975c8_87e1_11e9_afc2_2bccf1bc5391row0_col22\" class=\"data row0 col22\" >nan</td>\n",
       "                        <td id=\"T_a00975c8_87e1_11e9_afc2_2bccf1bc5391row0_col23\" class=\"data row0 col23\" >nan</td>\n",
       "                        <td id=\"T_a00975c8_87e1_11e9_afc2_2bccf1bc5391row0_col24\" class=\"data row0 col24\" >nan</td>\n",
       "                        <td id=\"T_a00975c8_87e1_11e9_afc2_2bccf1bc5391row0_col25\" class=\"data row0 col25\" >nan</td>\n",
       "                        <td id=\"T_a00975c8_87e1_11e9_afc2_2bccf1bc5391row0_col26\" class=\"data row0 col26\" >nan</td>\n",
       "                        <td id=\"T_a00975c8_87e1_11e9_afc2_2bccf1bc5391row0_col27\" class=\"data row0 col27\" >nan</td>\n",
       "                        <td id=\"T_a00975c8_87e1_11e9_afc2_2bccf1bc5391row0_col28\" class=\"data row0 col28\" >nan</td>\n",
       "                        <td id=\"T_a00975c8_87e1_11e9_afc2_2bccf1bc5391row0_col29\" class=\"data row0 col29\" >nan</td>\n",
       "                        <td id=\"T_a00975c8_87e1_11e9_afc2_2bccf1bc5391row0_col30\" class=\"data row0 col30\" >nan</td>\n",
       "                        <td id=\"T_a00975c8_87e1_11e9_afc2_2bccf1bc5391row0_col31\" class=\"data row0 col31\" >nan</td>\n",
       "                        <td id=\"T_a00975c8_87e1_11e9_afc2_2bccf1bc5391row0_col32\" class=\"data row0 col32\" >2016-12-18 06:39:13.634671+00</td>\n",
       "                        <td id=\"T_a00975c8_87e1_11e9_afc2_2bccf1bc5391row0_col33\" class=\"data row0 col33\" >54</td>\n",
       "                        <td id=\"T_a00975c8_87e1_11e9_afc2_2bccf1bc5391row0_col34\" class=\"data row0 col34\" >nan</td>\n",
       "                        <td id=\"T_a00975c8_87e1_11e9_afc2_2bccf1bc5391row0_col35\" class=\"data row0 col35\" >157088</td>\n",
       "                        <td id=\"T_a00975c8_87e1_11e9_afc2_2bccf1bc5391row0_col36\" class=\"data row0 col36\" >approved</td>\n",
       "                        <td id=\"T_a00975c8_87e1_11e9_afc2_2bccf1bc5391row0_col37\" class=\"data row0 col37\" >0</td>\n",
       "                        <td id=\"T_a00975c8_87e1_11e9_afc2_2bccf1bc5391row0_col38\" class=\"data row0 col38\" >0</td>\n",
       "                        <td id=\"T_a00975c8_87e1_11e9_afc2_2bccf1bc5391row0_col39\" class=\"data row0 col39\" >0</td>\n",
       "                        <td id=\"T_a00975c8_87e1_11e9_afc2_2bccf1bc5391row0_col40\" class=\"data row0 col40\" >9</td>\n",
       "                        <td id=\"T_a00975c8_87e1_11e9_afc2_2bccf1bc5391row0_col41\" class=\"data row0 col41\" >0</td>\n",
       "                        <td id=\"T_a00975c8_87e1_11e9_afc2_2bccf1bc5391row0_col42\" class=\"data row0 col42\" >0</td>\n",
       "                        <td id=\"T_a00975c8_87e1_11e9_afc2_2bccf1bc5391row0_col43\" class=\"data row0 col43\" >0</td>\n",
       "                        <td id=\"T_a00975c8_87e1_11e9_afc2_2bccf1bc5391row0_col44\" class=\"data row0 col44\" >4</td>\n",
       "                        <td id=\"T_a00975c8_87e1_11e9_afc2_2bccf1bc5391row0_col45\" class=\"data row0 col45\" >I  hope the CRA is keeping track of these under the table businesses and prosecuting them appropriately</td>\n",
       "                        <td id=\"T_a00975c8_87e1_11e9_afc2_2bccf1bc5391row0_col46\" class=\"data row0 col46\" >i hope cra keeping track under table businesses prosecuting them appropriately</td>\n",
       "                        <td id=\"T_a00975c8_87e1_11e9_afc2_2bccf1bc5391row0_col47\" class=\"data row0 col47\" >i hope cra keep track under tabl busi prosecut them appropri</td>\n",
       "                        <td id=\"T_a00975c8_87e1_11e9_afc2_2bccf1bc5391row0_col48\" class=\"data row0 col48\" >i hop cra keep track und tabl busy prosecut them appropry</td>\n",
       "                        <td id=\"T_a00975c8_87e1_11e9_afc2_2bccf1bc5391row0_col49\" class=\"data row0 col49\" >0</td>\n",
       "                        <td id=\"T_a00975c8_87e1_11e9_afc2_2bccf1bc5391row0_col50\" class=\"data row0 col50\" >0</td>\n",
       "                        <td id=\"T_a00975c8_87e1_11e9_afc2_2bccf1bc5391row0_col51\" class=\"data row0 col51\" >0</td>\n",
       "                        <td id=\"T_a00975c8_87e1_11e9_afc2_2bccf1bc5391row0_col52\" class=\"data row0 col52\" >True</td>\n",
       "            </tr>\n",
       "            <tr>\n",
       "                        <th id=\"T_a00975c8_87e1_11e9_afc2_2bccf1bc5391level0_row1\" class=\"row_heading level0 row1\" >13610</th>\n",
       "                        <td id=\"T_a00975c8_87e1_11e9_afc2_2bccf1bc5391row1_col0\" class=\"data row1 col0\" >714257</td>\n",
       "                        <td id=\"T_a00975c8_87e1_11e9_afc2_2bccf1bc5391row1_col1\" class=\"data row1 col1\" >0</td>\n",
       "                        <td id=\"T_a00975c8_87e1_11e9_afc2_2bccf1bc5391row1_col2\" class=\"data row1 col2\" >We are now .5 or a half point behind the US. Close the gap and the problem will start to resolve itself. Its called monetary economics.</td>\n",
       "                        <td id=\"T_a00975c8_87e1_11e9_afc2_2bccf1bc5391row1_col3\" class=\"data row1 col3\" >0</td>\n",
       "                        <td id=\"T_a00975c8_87e1_11e9_afc2_2bccf1bc5391row1_col4\" class=\"data row1 col4\" >0</td>\n",
       "                        <td id=\"T_a00975c8_87e1_11e9_afc2_2bccf1bc5391row1_col5\" class=\"data row1 col5\" >0</td>\n",
       "                        <td id=\"T_a00975c8_87e1_11e9_afc2_2bccf1bc5391row1_col6\" class=\"data row1 col6\" >0</td>\n",
       "                        <td id=\"T_a00975c8_87e1_11e9_afc2_2bccf1bc5391row1_col7\" class=\"data row1 col7\" >0</td>\n",
       "                        <td id=\"T_a00975c8_87e1_11e9_afc2_2bccf1bc5391row1_col8\" class=\"data row1 col8\" >nan</td>\n",
       "                        <td id=\"T_a00975c8_87e1_11e9_afc2_2bccf1bc5391row1_col9\" class=\"data row1 col9\" >nan</td>\n",
       "                        <td id=\"T_a00975c8_87e1_11e9_afc2_2bccf1bc5391row1_col10\" class=\"data row1 col10\" >nan</td>\n",
       "                        <td id=\"T_a00975c8_87e1_11e9_afc2_2bccf1bc5391row1_col11\" class=\"data row1 col11\" >nan</td>\n",
       "                        <td id=\"T_a00975c8_87e1_11e9_afc2_2bccf1bc5391row1_col12\" class=\"data row1 col12\" >nan</td>\n",
       "                        <td id=\"T_a00975c8_87e1_11e9_afc2_2bccf1bc5391row1_col13\" class=\"data row1 col13\" >nan</td>\n",
       "                        <td id=\"T_a00975c8_87e1_11e9_afc2_2bccf1bc5391row1_col14\" class=\"data row1 col14\" >nan</td>\n",
       "                        <td id=\"T_a00975c8_87e1_11e9_afc2_2bccf1bc5391row1_col15\" class=\"data row1 col15\" >nan</td>\n",
       "                        <td id=\"T_a00975c8_87e1_11e9_afc2_2bccf1bc5391row1_col16\" class=\"data row1 col16\" >nan</td>\n",
       "                        <td id=\"T_a00975c8_87e1_11e9_afc2_2bccf1bc5391row1_col17\" class=\"data row1 col17\" >nan</td>\n",
       "                        <td id=\"T_a00975c8_87e1_11e9_afc2_2bccf1bc5391row1_col18\" class=\"data row1 col18\" >nan</td>\n",
       "                        <td id=\"T_a00975c8_87e1_11e9_afc2_2bccf1bc5391row1_col19\" class=\"data row1 col19\" >nan</td>\n",
       "                        <td id=\"T_a00975c8_87e1_11e9_afc2_2bccf1bc5391row1_col20\" class=\"data row1 col20\" >nan</td>\n",
       "                        <td id=\"T_a00975c8_87e1_11e9_afc2_2bccf1bc5391row1_col21\" class=\"data row1 col21\" >nan</td>\n",
       "                        <td id=\"T_a00975c8_87e1_11e9_afc2_2bccf1bc5391row1_col22\" class=\"data row1 col22\" >nan</td>\n",
       "                        <td id=\"T_a00975c8_87e1_11e9_afc2_2bccf1bc5391row1_col23\" class=\"data row1 col23\" >nan</td>\n",
       "                        <td id=\"T_a00975c8_87e1_11e9_afc2_2bccf1bc5391row1_col24\" class=\"data row1 col24\" >nan</td>\n",
       "                        <td id=\"T_a00975c8_87e1_11e9_afc2_2bccf1bc5391row1_col25\" class=\"data row1 col25\" >nan</td>\n",
       "                        <td id=\"T_a00975c8_87e1_11e9_afc2_2bccf1bc5391row1_col26\" class=\"data row1 col26\" >nan</td>\n",
       "                        <td id=\"T_a00975c8_87e1_11e9_afc2_2bccf1bc5391row1_col27\" class=\"data row1 col27\" >nan</td>\n",
       "                        <td id=\"T_a00975c8_87e1_11e9_afc2_2bccf1bc5391row1_col28\" class=\"data row1 col28\" >nan</td>\n",
       "                        <td id=\"T_a00975c8_87e1_11e9_afc2_2bccf1bc5391row1_col29\" class=\"data row1 col29\" >nan</td>\n",
       "                        <td id=\"T_a00975c8_87e1_11e9_afc2_2bccf1bc5391row1_col30\" class=\"data row1 col30\" >nan</td>\n",
       "                        <td id=\"T_a00975c8_87e1_11e9_afc2_2bccf1bc5391row1_col31\" class=\"data row1 col31\" >nan</td>\n",
       "                        <td id=\"T_a00975c8_87e1_11e9_afc2_2bccf1bc5391row1_col32\" class=\"data row1 col32\" >2016-12-15 17:55:35.755987+00</td>\n",
       "                        <td id=\"T_a00975c8_87e1_11e9_afc2_2bccf1bc5391row1_col33\" class=\"data row1 col33\" >54</td>\n",
       "                        <td id=\"T_a00975c8_87e1_11e9_afc2_2bccf1bc5391row1_col34\" class=\"data row1 col34\" >nan</td>\n",
       "                        <td id=\"T_a00975c8_87e1_11e9_afc2_2bccf1bc5391row1_col35\" class=\"data row1 col35\" >156750</td>\n",
       "                        <td id=\"T_a00975c8_87e1_11e9_afc2_2bccf1bc5391row1_col36\" class=\"data row1 col36\" >approved</td>\n",
       "                        <td id=\"T_a00975c8_87e1_11e9_afc2_2bccf1bc5391row1_col37\" class=\"data row1 col37\" >0</td>\n",
       "                        <td id=\"T_a00975c8_87e1_11e9_afc2_2bccf1bc5391row1_col38\" class=\"data row1 col38\" >0</td>\n",
       "                        <td id=\"T_a00975c8_87e1_11e9_afc2_2bccf1bc5391row1_col39\" class=\"data row1 col39\" >0</td>\n",
       "                        <td id=\"T_a00975c8_87e1_11e9_afc2_2bccf1bc5391row1_col40\" class=\"data row1 col40\" >1</td>\n",
       "                        <td id=\"T_a00975c8_87e1_11e9_afc2_2bccf1bc5391row1_col41\" class=\"data row1 col41\" >0</td>\n",
       "                        <td id=\"T_a00975c8_87e1_11e9_afc2_2bccf1bc5391row1_col42\" class=\"data row1 col42\" >0</td>\n",
       "                        <td id=\"T_a00975c8_87e1_11e9_afc2_2bccf1bc5391row1_col43\" class=\"data row1 col43\" >0</td>\n",
       "                        <td id=\"T_a00975c8_87e1_11e9_afc2_2bccf1bc5391row1_col44\" class=\"data row1 col44\" >4</td>\n",
       "                        <td id=\"T_a00975c8_87e1_11e9_afc2_2bccf1bc5391row1_col45\" class=\"data row1 col45\" >We are now 5 or a half point behind the US Close the gap and the problem will start to resolve itself Its called monetary economics</td>\n",
       "                        <td id=\"T_a00975c8_87e1_11e9_afc2_2bccf1bc5391row1_col46\" class=\"data row1 col46\" >we 5 half point behind us close gap problem start resolve its called monetary economics</td>\n",
       "                        <td id=\"T_a00975c8_87e1_11e9_afc2_2bccf1bc5391row1_col47\" class=\"data row1 col47\" >we 5 half point behind us close gap problem start resolv it call monetari econom</td>\n",
       "                        <td id=\"T_a00975c8_87e1_11e9_afc2_2bccf1bc5391row1_col48\" class=\"data row1 col48\" >we 5 half point behind us clos gap problem start resolv it cal monet econom</td>\n",
       "                        <td id=\"T_a00975c8_87e1_11e9_afc2_2bccf1bc5391row1_col49\" class=\"data row1 col49\" >0</td>\n",
       "                        <td id=\"T_a00975c8_87e1_11e9_afc2_2bccf1bc5391row1_col50\" class=\"data row1 col50\" >0</td>\n",
       "                        <td id=\"T_a00975c8_87e1_11e9_afc2_2bccf1bc5391row1_col51\" class=\"data row1 col51\" >0</td>\n",
       "                        <td id=\"T_a00975c8_87e1_11e9_afc2_2bccf1bc5391row1_col52\" class=\"data row1 col52\" >True</td>\n",
       "            </tr>\n",
       "            <tr>\n",
       "                        <th id=\"T_a00975c8_87e1_11e9_afc2_2bccf1bc5391level0_row2\" class=\"row_heading level0 row2\" >13611</th>\n",
       "                        <td id=\"T_a00975c8_87e1_11e9_afc2_2bccf1bc5391row2_col0\" class=\"data row2 col0\" >634809</td>\n",
       "                        <td id=\"T_a00975c8_87e1_11e9_afc2_2bccf1bc5391row2_col1\" class=\"data row2 col1\" >0</td>\n",
       "                        <td id=\"T_a00975c8_87e1_11e9_afc2_2bccf1bc5391row2_col2\" class=\"data row2 col2\" >In the context of the City Hall fiasco (and there's no other word for it), this article paints a really damning picture of Eugene's civic leadership (or lack of it).  Seems that the improvements in communication cited here have mainly served  to facilitate deep rooted dialogues of incompetence, however well intentioned some of the participants may be.   How in Heaven's name could people with a modicum of wisdom and foresight allow contradictory, half-baked stabs at decision making to pile up over such long period of time. Oh, sorry, Mr. Ruiz is praised for  giving \"clear direction\"  on \"some items\" - maybe like where to put a drinking fountain or what color to paint a park bench???  The sad likelihood is that this glowing in-house appraisal will result in a hefty salary increase.  But then, without a Ruiz to guide the current cast of characters, how will Eugene be able to stay ahead of 'hot button issues' that abound. Hmmm.</td>\n",
       "                        <td id=\"T_a00975c8_87e1_11e9_afc2_2bccf1bc5391row2_col3\" class=\"data row2 col3\" >0</td>\n",
       "                        <td id=\"T_a00975c8_87e1_11e9_afc2_2bccf1bc5391row2_col4\" class=\"data row2 col4\" >0</td>\n",
       "                        <td id=\"T_a00975c8_87e1_11e9_afc2_2bccf1bc5391row2_col5\" class=\"data row2 col5\" >0</td>\n",
       "                        <td id=\"T_a00975c8_87e1_11e9_afc2_2bccf1bc5391row2_col6\" class=\"data row2 col6\" >0</td>\n",
       "                        <td id=\"T_a00975c8_87e1_11e9_afc2_2bccf1bc5391row2_col7\" class=\"data row2 col7\" >0</td>\n",
       "                        <td id=\"T_a00975c8_87e1_11e9_afc2_2bccf1bc5391row2_col8\" class=\"data row2 col8\" >nan</td>\n",
       "                        <td id=\"T_a00975c8_87e1_11e9_afc2_2bccf1bc5391row2_col9\" class=\"data row2 col9\" >nan</td>\n",
       "                        <td id=\"T_a00975c8_87e1_11e9_afc2_2bccf1bc5391row2_col10\" class=\"data row2 col10\" >nan</td>\n",
       "                        <td id=\"T_a00975c8_87e1_11e9_afc2_2bccf1bc5391row2_col11\" class=\"data row2 col11\" >nan</td>\n",
       "                        <td id=\"T_a00975c8_87e1_11e9_afc2_2bccf1bc5391row2_col12\" class=\"data row2 col12\" >nan</td>\n",
       "                        <td id=\"T_a00975c8_87e1_11e9_afc2_2bccf1bc5391row2_col13\" class=\"data row2 col13\" >nan</td>\n",
       "                        <td id=\"T_a00975c8_87e1_11e9_afc2_2bccf1bc5391row2_col14\" class=\"data row2 col14\" >nan</td>\n",
       "                        <td id=\"T_a00975c8_87e1_11e9_afc2_2bccf1bc5391row2_col15\" class=\"data row2 col15\" >nan</td>\n",
       "                        <td id=\"T_a00975c8_87e1_11e9_afc2_2bccf1bc5391row2_col16\" class=\"data row2 col16\" >nan</td>\n",
       "                        <td id=\"T_a00975c8_87e1_11e9_afc2_2bccf1bc5391row2_col17\" class=\"data row2 col17\" >nan</td>\n",
       "                        <td id=\"T_a00975c8_87e1_11e9_afc2_2bccf1bc5391row2_col18\" class=\"data row2 col18\" >nan</td>\n",
       "                        <td id=\"T_a00975c8_87e1_11e9_afc2_2bccf1bc5391row2_col19\" class=\"data row2 col19\" >nan</td>\n",
       "                        <td id=\"T_a00975c8_87e1_11e9_afc2_2bccf1bc5391row2_col20\" class=\"data row2 col20\" >nan</td>\n",
       "                        <td id=\"T_a00975c8_87e1_11e9_afc2_2bccf1bc5391row2_col21\" class=\"data row2 col21\" >nan</td>\n",
       "                        <td id=\"T_a00975c8_87e1_11e9_afc2_2bccf1bc5391row2_col22\" class=\"data row2 col22\" >nan</td>\n",
       "                        <td id=\"T_a00975c8_87e1_11e9_afc2_2bccf1bc5391row2_col23\" class=\"data row2 col23\" >nan</td>\n",
       "                        <td id=\"T_a00975c8_87e1_11e9_afc2_2bccf1bc5391row2_col24\" class=\"data row2 col24\" >nan</td>\n",
       "                        <td id=\"T_a00975c8_87e1_11e9_afc2_2bccf1bc5391row2_col25\" class=\"data row2 col25\" >nan</td>\n",
       "                        <td id=\"T_a00975c8_87e1_11e9_afc2_2bccf1bc5391row2_col26\" class=\"data row2 col26\" >nan</td>\n",
       "                        <td id=\"T_a00975c8_87e1_11e9_afc2_2bccf1bc5391row2_col27\" class=\"data row2 col27\" >nan</td>\n",
       "                        <td id=\"T_a00975c8_87e1_11e9_afc2_2bccf1bc5391row2_col28\" class=\"data row2 col28\" >nan</td>\n",
       "                        <td id=\"T_a00975c8_87e1_11e9_afc2_2bccf1bc5391row2_col29\" class=\"data row2 col29\" >nan</td>\n",
       "                        <td id=\"T_a00975c8_87e1_11e9_afc2_2bccf1bc5391row2_col30\" class=\"data row2 col30\" >nan</td>\n",
       "                        <td id=\"T_a00975c8_87e1_11e9_afc2_2bccf1bc5391row2_col31\" class=\"data row2 col31\" >nan</td>\n",
       "                        <td id=\"T_a00975c8_87e1_11e9_afc2_2bccf1bc5391row2_col32\" class=\"data row2 col32\" >2016-11-29 17:06:00.834481+00</td>\n",
       "                        <td id=\"T_a00975c8_87e1_11e9_afc2_2bccf1bc5391row2_col33\" class=\"data row2 col33\" >13</td>\n",
       "                        <td id=\"T_a00975c8_87e1_11e9_afc2_2bccf1bc5391row2_col34\" class=\"data row2 col34\" >nan</td>\n",
       "                        <td id=\"T_a00975c8_87e1_11e9_afc2_2bccf1bc5391row2_col35\" class=\"data row2 col35\" >153308</td>\n",
       "                        <td id=\"T_a00975c8_87e1_11e9_afc2_2bccf1bc5391row2_col36\" class=\"data row2 col36\" >approved</td>\n",
       "                        <td id=\"T_a00975c8_87e1_11e9_afc2_2bccf1bc5391row2_col37\" class=\"data row2 col37\" >0</td>\n",
       "                        <td id=\"T_a00975c8_87e1_11e9_afc2_2bccf1bc5391row2_col38\" class=\"data row2 col38\" >0</td>\n",
       "                        <td id=\"T_a00975c8_87e1_11e9_afc2_2bccf1bc5391row2_col39\" class=\"data row2 col39\" >0</td>\n",
       "                        <td id=\"T_a00975c8_87e1_11e9_afc2_2bccf1bc5391row2_col40\" class=\"data row2 col40\" >4</td>\n",
       "                        <td id=\"T_a00975c8_87e1_11e9_afc2_2bccf1bc5391row2_col41\" class=\"data row2 col41\" >0</td>\n",
       "                        <td id=\"T_a00975c8_87e1_11e9_afc2_2bccf1bc5391row2_col42\" class=\"data row2 col42\" >0</td>\n",
       "                        <td id=\"T_a00975c8_87e1_11e9_afc2_2bccf1bc5391row2_col43\" class=\"data row2 col43\" >0</td>\n",
       "                        <td id=\"T_a00975c8_87e1_11e9_afc2_2bccf1bc5391row2_col44\" class=\"data row2 col44\" >4</td>\n",
       "                        <td id=\"T_a00975c8_87e1_11e9_afc2_2bccf1bc5391row2_col45\" class=\"data row2 col45\" >In the context of the City Hall fiasco and there's no other word for it this article paints a really damning picture of Eugene's civic leadership or lack of it  Seems that the improvements in communication cited here have mainly served  to facilitate deep rooted dialogues of incompetence however well intentioned some of the participants may be   How in Heaven's name could people with a modicum of wisdom and foresight allow contradictory half baked stabs at decision making to pile up over such long period of time Oh sorry Mr Ruiz is praised for  giving clear direction  on some items   maybe like where to put a drinking fountain or what color to paint a park bench  The sad likelihood is that this glowing in house appraisal will result in a hefty salary increase  But then without a Ruiz to guide the current cast of characters how will Eugene be able to stay ahead of hot button issues that abound Hmmm</td>\n",
       "                        <td id=\"T_a00975c8_87e1_11e9_afc2_2bccf1bc5391row2_col46\" class=\"data row2 col46\" >in context city hall fiasco there's word article paints really damning picture eugene's civic leadership lack seems improvements communication cited mainly served facilitate deep rooted dialogues incompetence however well intentioned participants may how heaven's name could people modicum wisdom foresight allow contradictory half baked stabs decision making pile over long period time oh sorry mr ruiz praised giving clear direction items maybe like put drinking fountain color paint park bench the sad likelihood glowing house appraisal result hefty salary increase but without ruiz guide current cast characters eugene able stay ahead hot button issues abound hmmm</td>\n",
       "                        <td id=\"T_a00975c8_87e1_11e9_afc2_2bccf1bc5391row2_col47\" class=\"data row2 col47\" >in context citi hall fiasco there' word articl paint realli damn pictur eugene' civic leadership lack seem improv commun cite mainli serv facilit deep root dialogu incompet howev well intent particip may how heaven' name could peopl modicum wisdom foresight allow contradictori half bake stab decis make pile over long period time oh sorri mr ruiz prais give clear direct item mayb like put drink fountain color paint park bench the sad likelihood glow hous apprais result hefti salari increas but without ruiz guid current cast charact eugen abl stay ahead hot button issu abound hmmm</td>\n",
       "                        <td id=\"T_a00975c8_87e1_11e9_afc2_2bccf1bc5391row2_col48\" class=\"data row2 col48\" >in context city hal fiasco there's word artic paint real damn pict eugene's civ lead lack seem improv commun cit main serv facilit deep root dialog incompet howev wel int particip may how heaven's nam could peopl modic wisdom foresight allow contradict half bak stab decid mak pil ov long period tim oh sorry mr ruiz pra giv clear direct item mayb lik put drink fountain col paint park bench the sad lik glow hous appra result hefty sal increas but without ruiz guid cur cast charact eug abl stay ahead hot button issu abound hmmm</td>\n",
       "                        <td id=\"T_a00975c8_87e1_11e9_afc2_2bccf1bc5391row2_col49\" class=\"data row2 col49\" >0</td>\n",
       "                        <td id=\"T_a00975c8_87e1_11e9_afc2_2bccf1bc5391row2_col50\" class=\"data row2 col50\" >0</td>\n",
       "                        <td id=\"T_a00975c8_87e1_11e9_afc2_2bccf1bc5391row2_col51\" class=\"data row2 col51\" >0</td>\n",
       "                        <td id=\"T_a00975c8_87e1_11e9_afc2_2bccf1bc5391row2_col52\" class=\"data row2 col52\" >True</td>\n",
       "            </tr>\n",
       "            <tr>\n",
       "                        <th id=\"T_a00975c8_87e1_11e9_afc2_2bccf1bc5391level0_row3\" class=\"row_heading level0 row3\" >13612</th>\n",
       "                        <td id=\"T_a00975c8_87e1_11e9_afc2_2bccf1bc5391row3_col0\" class=\"data row3 col0\" >655638</td>\n",
       "                        <td id=\"T_a00975c8_87e1_11e9_afc2_2bccf1bc5391row3_col1\" class=\"data row3 col1\" >0.2</td>\n",
       "                        <td id=\"T_a00975c8_87e1_11e9_afc2_2bccf1bc5391row3_col2\" class=\"data row3 col2\" >This same nonsense has been raging through U.S. campuses for some time now. The big name comedians who would regularly tour the larger campuses have stopped going because they would have to change their routine so much, the material would no longer be recognizable. The first to drop out was Chris Rock. The unfortunately the leaders at this universities and colleges lack the intestinal fortitude to stand up and declare that enough is enough this has to stop.</td>\n",
       "                        <td id=\"T_a00975c8_87e1_11e9_afc2_2bccf1bc5391row3_col3\" class=\"data row3 col3\" >0</td>\n",
       "                        <td id=\"T_a00975c8_87e1_11e9_afc2_2bccf1bc5391row3_col4\" class=\"data row3 col4\" >0</td>\n",
       "                        <td id=\"T_a00975c8_87e1_11e9_afc2_2bccf1bc5391row3_col5\" class=\"data row3 col5\" >0</td>\n",
       "                        <td id=\"T_a00975c8_87e1_11e9_afc2_2bccf1bc5391row3_col6\" class=\"data row3 col6\" >0.2</td>\n",
       "                        <td id=\"T_a00975c8_87e1_11e9_afc2_2bccf1bc5391row3_col7\" class=\"data row3 col7\" >0</td>\n",
       "                        <td id=\"T_a00975c8_87e1_11e9_afc2_2bccf1bc5391row3_col8\" class=\"data row3 col8\" >nan</td>\n",
       "                        <td id=\"T_a00975c8_87e1_11e9_afc2_2bccf1bc5391row3_col9\" class=\"data row3 col9\" >nan</td>\n",
       "                        <td id=\"T_a00975c8_87e1_11e9_afc2_2bccf1bc5391row3_col10\" class=\"data row3 col10\" >nan</td>\n",
       "                        <td id=\"T_a00975c8_87e1_11e9_afc2_2bccf1bc5391row3_col11\" class=\"data row3 col11\" >nan</td>\n",
       "                        <td id=\"T_a00975c8_87e1_11e9_afc2_2bccf1bc5391row3_col12\" class=\"data row3 col12\" >nan</td>\n",
       "                        <td id=\"T_a00975c8_87e1_11e9_afc2_2bccf1bc5391row3_col13\" class=\"data row3 col13\" >nan</td>\n",
       "                        <td id=\"T_a00975c8_87e1_11e9_afc2_2bccf1bc5391row3_col14\" class=\"data row3 col14\" >nan</td>\n",
       "                        <td id=\"T_a00975c8_87e1_11e9_afc2_2bccf1bc5391row3_col15\" class=\"data row3 col15\" >nan</td>\n",
       "                        <td id=\"T_a00975c8_87e1_11e9_afc2_2bccf1bc5391row3_col16\" class=\"data row3 col16\" >nan</td>\n",
       "                        <td id=\"T_a00975c8_87e1_11e9_afc2_2bccf1bc5391row3_col17\" class=\"data row3 col17\" >nan</td>\n",
       "                        <td id=\"T_a00975c8_87e1_11e9_afc2_2bccf1bc5391row3_col18\" class=\"data row3 col18\" >nan</td>\n",
       "                        <td id=\"T_a00975c8_87e1_11e9_afc2_2bccf1bc5391row3_col19\" class=\"data row3 col19\" >nan</td>\n",
       "                        <td id=\"T_a00975c8_87e1_11e9_afc2_2bccf1bc5391row3_col20\" class=\"data row3 col20\" >nan</td>\n",
       "                        <td id=\"T_a00975c8_87e1_11e9_afc2_2bccf1bc5391row3_col21\" class=\"data row3 col21\" >nan</td>\n",
       "                        <td id=\"T_a00975c8_87e1_11e9_afc2_2bccf1bc5391row3_col22\" class=\"data row3 col22\" >nan</td>\n",
       "                        <td id=\"T_a00975c8_87e1_11e9_afc2_2bccf1bc5391row3_col23\" class=\"data row3 col23\" >nan</td>\n",
       "                        <td id=\"T_a00975c8_87e1_11e9_afc2_2bccf1bc5391row3_col24\" class=\"data row3 col24\" >nan</td>\n",
       "                        <td id=\"T_a00975c8_87e1_11e9_afc2_2bccf1bc5391row3_col25\" class=\"data row3 col25\" >nan</td>\n",
       "                        <td id=\"T_a00975c8_87e1_11e9_afc2_2bccf1bc5391row3_col26\" class=\"data row3 col26\" >nan</td>\n",
       "                        <td id=\"T_a00975c8_87e1_11e9_afc2_2bccf1bc5391row3_col27\" class=\"data row3 col27\" >nan</td>\n",
       "                        <td id=\"T_a00975c8_87e1_11e9_afc2_2bccf1bc5391row3_col28\" class=\"data row3 col28\" >nan</td>\n",
       "                        <td id=\"T_a00975c8_87e1_11e9_afc2_2bccf1bc5391row3_col29\" class=\"data row3 col29\" >nan</td>\n",
       "                        <td id=\"T_a00975c8_87e1_11e9_afc2_2bccf1bc5391row3_col30\" class=\"data row3 col30\" >nan</td>\n",
       "                        <td id=\"T_a00975c8_87e1_11e9_afc2_2bccf1bc5391row3_col31\" class=\"data row3 col31\" >nan</td>\n",
       "                        <td id=\"T_a00975c8_87e1_11e9_afc2_2bccf1bc5391row3_col32\" class=\"data row3 col32\" >2016-12-03 15:39:12.198731+00</td>\n",
       "                        <td id=\"T_a00975c8_87e1_11e9_afc2_2bccf1bc5391row3_col33\" class=\"data row3 col33\" >54</td>\n",
       "                        <td id=\"T_a00975c8_87e1_11e9_afc2_2bccf1bc5391row3_col34\" class=\"data row3 col34\" >nan</td>\n",
       "                        <td id=\"T_a00975c8_87e1_11e9_afc2_2bccf1bc5391row3_col35\" class=\"data row3 col35\" >154404</td>\n",
       "                        <td id=\"T_a00975c8_87e1_11e9_afc2_2bccf1bc5391row3_col36\" class=\"data row3 col36\" >approved</td>\n",
       "                        <td id=\"T_a00975c8_87e1_11e9_afc2_2bccf1bc5391row3_col37\" class=\"data row3 col37\" >0</td>\n",
       "                        <td id=\"T_a00975c8_87e1_11e9_afc2_2bccf1bc5391row3_col38\" class=\"data row3 col38\" >0</td>\n",
       "                        <td id=\"T_a00975c8_87e1_11e9_afc2_2bccf1bc5391row3_col39\" class=\"data row3 col39\" >0</td>\n",
       "                        <td id=\"T_a00975c8_87e1_11e9_afc2_2bccf1bc5391row3_col40\" class=\"data row3 col40\" >7</td>\n",
       "                        <td id=\"T_a00975c8_87e1_11e9_afc2_2bccf1bc5391row3_col41\" class=\"data row3 col41\" >0</td>\n",
       "                        <td id=\"T_a00975c8_87e1_11e9_afc2_2bccf1bc5391row3_col42\" class=\"data row3 col42\" >0</td>\n",
       "                        <td id=\"T_a00975c8_87e1_11e9_afc2_2bccf1bc5391row3_col43\" class=\"data row3 col43\" >0</td>\n",
       "                        <td id=\"T_a00975c8_87e1_11e9_afc2_2bccf1bc5391row3_col44\" class=\"data row3 col44\" >5</td>\n",
       "                        <td id=\"T_a00975c8_87e1_11e9_afc2_2bccf1bc5391row3_col45\" class=\"data row3 col45\" >This same nonsense has been raging through U.S campuses for some time now The big name comedians who would regularly tour the larger campuses have stopped going because they would have to change their routine so much the material would no longer be recognizable The first to drop out was Chris Rock The unfortunately the leaders at this universities and colleges lack the intestinal fortitude to stand up and declare that enough is enough this has to stop</td>\n",
       "                        <td id=\"T_a00975c8_87e1_11e9_afc2_2bccf1bc5391row3_col46\" class=\"data row3 col46\" >this nonsense raging u.s campuses time the big name comedians would regularly tour larger campuses stopped going would change routine much material would longer recognizable the first drop chris rock the unfortunately leaders universities colleges lack intestinal fortitude stand declare enough enough stop</td>\n",
       "                        <td id=\"T_a00975c8_87e1_11e9_afc2_2bccf1bc5391row3_col47\" class=\"data row3 col47\" >thi nonsens rage u. campus time the big name comedian would regularli tour larger campus stop go would chang routin much materi would longer recogniz the first drop chri rock the unfortun leader univers colleg lack intestin fortitud stand declar enough enough stop</td>\n",
       "                        <td id=\"T_a00975c8_87e1_11e9_afc2_2bccf1bc5391row3_col48\" class=\"data row3 col48\" >thi nonsens rag u.s campus tim the big nam com would regul tour larg campus stop going would chang routin much mat would long recogn the first drop chris rock the unfortun lead univers colleg lack intestin fortitud stand decl enough enough stop</td>\n",
       "                        <td id=\"T_a00975c8_87e1_11e9_afc2_2bccf1bc5391row3_col49\" class=\"data row3 col49\" >0</td>\n",
       "                        <td id=\"T_a00975c8_87e1_11e9_afc2_2bccf1bc5391row3_col50\" class=\"data row3 col50\" >0</td>\n",
       "                        <td id=\"T_a00975c8_87e1_11e9_afc2_2bccf1bc5391row3_col51\" class=\"data row3 col51\" >0</td>\n",
       "                        <td id=\"T_a00975c8_87e1_11e9_afc2_2bccf1bc5391row3_col52\" class=\"data row3 col52\" >True</td>\n",
       "            </tr>\n",
       "            <tr>\n",
       "                        <th id=\"T_a00975c8_87e1_11e9_afc2_2bccf1bc5391level0_row4\" class=\"row_heading level0 row4\" >13613</th>\n",
       "                        <td id=\"T_a00975c8_87e1_11e9_afc2_2bccf1bc5391row4_col0\" class=\"data row4 col0\" >665189</td>\n",
       "                        <td id=\"T_a00975c8_87e1_11e9_afc2_2bccf1bc5391row4_col1\" class=\"data row4 col1\" >0</td>\n",
       "                        <td id=\"T_a00975c8_87e1_11e9_afc2_2bccf1bc5391row4_col2\" class=\"data row4 col2\" >RIP Mike. No matter your personal issues you had the best reindeer sausage dogs ever. We would drive from clear up the mountain to get one of those dogs. Funny, you better know what you want by the time you got to the front of the line. Gruff, haha, Alaskan yes, kind, great guy. That will always be \"Mike's\" corner to me. \n",
       "I traveled for years with your Mom Joan.  Now you two are together. Hope you're at peace, God is with you, see you Mike.</td>\n",
       "                        <td id=\"T_a00975c8_87e1_11e9_afc2_2bccf1bc5391row4_col3\" class=\"data row4 col3\" >0</td>\n",
       "                        <td id=\"T_a00975c8_87e1_11e9_afc2_2bccf1bc5391row4_col4\" class=\"data row4 col4\" >0</td>\n",
       "                        <td id=\"T_a00975c8_87e1_11e9_afc2_2bccf1bc5391row4_col5\" class=\"data row4 col5\" >0</td>\n",
       "                        <td id=\"T_a00975c8_87e1_11e9_afc2_2bccf1bc5391row4_col6\" class=\"data row4 col6\" >0</td>\n",
       "                        <td id=\"T_a00975c8_87e1_11e9_afc2_2bccf1bc5391row4_col7\" class=\"data row4 col7\" >0</td>\n",
       "                        <td id=\"T_a00975c8_87e1_11e9_afc2_2bccf1bc5391row4_col8\" class=\"data row4 col8\" >nan</td>\n",
       "                        <td id=\"T_a00975c8_87e1_11e9_afc2_2bccf1bc5391row4_col9\" class=\"data row4 col9\" >nan</td>\n",
       "                        <td id=\"T_a00975c8_87e1_11e9_afc2_2bccf1bc5391row4_col10\" class=\"data row4 col10\" >nan</td>\n",
       "                        <td id=\"T_a00975c8_87e1_11e9_afc2_2bccf1bc5391row4_col11\" class=\"data row4 col11\" >nan</td>\n",
       "                        <td id=\"T_a00975c8_87e1_11e9_afc2_2bccf1bc5391row4_col12\" class=\"data row4 col12\" >nan</td>\n",
       "                        <td id=\"T_a00975c8_87e1_11e9_afc2_2bccf1bc5391row4_col13\" class=\"data row4 col13\" >nan</td>\n",
       "                        <td id=\"T_a00975c8_87e1_11e9_afc2_2bccf1bc5391row4_col14\" class=\"data row4 col14\" >nan</td>\n",
       "                        <td id=\"T_a00975c8_87e1_11e9_afc2_2bccf1bc5391row4_col15\" class=\"data row4 col15\" >nan</td>\n",
       "                        <td id=\"T_a00975c8_87e1_11e9_afc2_2bccf1bc5391row4_col16\" class=\"data row4 col16\" >nan</td>\n",
       "                        <td id=\"T_a00975c8_87e1_11e9_afc2_2bccf1bc5391row4_col17\" class=\"data row4 col17\" >nan</td>\n",
       "                        <td id=\"T_a00975c8_87e1_11e9_afc2_2bccf1bc5391row4_col18\" class=\"data row4 col18\" >nan</td>\n",
       "                        <td id=\"T_a00975c8_87e1_11e9_afc2_2bccf1bc5391row4_col19\" class=\"data row4 col19\" >nan</td>\n",
       "                        <td id=\"T_a00975c8_87e1_11e9_afc2_2bccf1bc5391row4_col20\" class=\"data row4 col20\" >nan</td>\n",
       "                        <td id=\"T_a00975c8_87e1_11e9_afc2_2bccf1bc5391row4_col21\" class=\"data row4 col21\" >nan</td>\n",
       "                        <td id=\"T_a00975c8_87e1_11e9_afc2_2bccf1bc5391row4_col22\" class=\"data row4 col22\" >nan</td>\n",
       "                        <td id=\"T_a00975c8_87e1_11e9_afc2_2bccf1bc5391row4_col23\" class=\"data row4 col23\" >nan</td>\n",
       "                        <td id=\"T_a00975c8_87e1_11e9_afc2_2bccf1bc5391row4_col24\" class=\"data row4 col24\" >nan</td>\n",
       "                        <td id=\"T_a00975c8_87e1_11e9_afc2_2bccf1bc5391row4_col25\" class=\"data row4 col25\" >nan</td>\n",
       "                        <td id=\"T_a00975c8_87e1_11e9_afc2_2bccf1bc5391row4_col26\" class=\"data row4 col26\" >nan</td>\n",
       "                        <td id=\"T_a00975c8_87e1_11e9_afc2_2bccf1bc5391row4_col27\" class=\"data row4 col27\" >nan</td>\n",
       "                        <td id=\"T_a00975c8_87e1_11e9_afc2_2bccf1bc5391row4_col28\" class=\"data row4 col28\" >nan</td>\n",
       "                        <td id=\"T_a00975c8_87e1_11e9_afc2_2bccf1bc5391row4_col29\" class=\"data row4 col29\" >nan</td>\n",
       "                        <td id=\"T_a00975c8_87e1_11e9_afc2_2bccf1bc5391row4_col30\" class=\"data row4 col30\" >nan</td>\n",
       "                        <td id=\"T_a00975c8_87e1_11e9_afc2_2bccf1bc5391row4_col31\" class=\"data row4 col31\" >nan</td>\n",
       "                        <td id=\"T_a00975c8_87e1_11e9_afc2_2bccf1bc5391row4_col32\" class=\"data row4 col32\" >2016-12-05 20:51:19.489334+00</td>\n",
       "                        <td id=\"T_a00975c8_87e1_11e9_afc2_2bccf1bc5391row4_col33\" class=\"data row4 col33\" >21</td>\n",
       "                        <td id=\"T_a00975c8_87e1_11e9_afc2_2bccf1bc5391row4_col34\" class=\"data row4 col34\" >nan</td>\n",
       "                        <td id=\"T_a00975c8_87e1_11e9_afc2_2bccf1bc5391row4_col35\" class=\"data row4 col35\" >154741</td>\n",
       "                        <td id=\"T_a00975c8_87e1_11e9_afc2_2bccf1bc5391row4_col36\" class=\"data row4 col36\" >approved</td>\n",
       "                        <td id=\"T_a00975c8_87e1_11e9_afc2_2bccf1bc5391row4_col37\" class=\"data row4 col37\" >1</td>\n",
       "                        <td id=\"T_a00975c8_87e1_11e9_afc2_2bccf1bc5391row4_col38\" class=\"data row4 col38\" >0</td>\n",
       "                        <td id=\"T_a00975c8_87e1_11e9_afc2_2bccf1bc5391row4_col39\" class=\"data row4 col39\" >0</td>\n",
       "                        <td id=\"T_a00975c8_87e1_11e9_afc2_2bccf1bc5391row4_col40\" class=\"data row4 col40\" >6</td>\n",
       "                        <td id=\"T_a00975c8_87e1_11e9_afc2_2bccf1bc5391row4_col41\" class=\"data row4 col41\" >1</td>\n",
       "                        <td id=\"T_a00975c8_87e1_11e9_afc2_2bccf1bc5391row4_col42\" class=\"data row4 col42\" >0</td>\n",
       "                        <td id=\"T_a00975c8_87e1_11e9_afc2_2bccf1bc5391row4_col43\" class=\"data row4 col43\" >0</td>\n",
       "                        <td id=\"T_a00975c8_87e1_11e9_afc2_2bccf1bc5391row4_col44\" class=\"data row4 col44\" >4</td>\n",
       "                        <td id=\"T_a00975c8_87e1_11e9_afc2_2bccf1bc5391row4_col45\" class=\"data row4 col45\" >RIP Mike No matter your personal issues you had the best reindeer sausage dogs ever We would drive from clear up the mountain to get one of those dogs Funny you better know what you want by the time you got to the front of the line Gruff haha Alaskan yes kind great guy That will always be Mike's corner to me \n",
       "I traveled for years with your Mom Joan  Now you two are together Hope you're at peace God is with you see you Mike</td>\n",
       "                        <td id=\"T_a00975c8_87e1_11e9_afc2_2bccf1bc5391row4_col46\" class=\"data row4 col46\" >rip mike no matter personal issues best reindeer sausage dogs ever we would drive clear mountain get one dogs funny better know want time got front line gruff haha alaskan yes kind great guy that always mike's corner \n",
       "i traveled years mom joan now two together hope peace god see mike</td>\n",
       "                        <td id=\"T_a00975c8_87e1_11e9_afc2_2bccf1bc5391row4_col47\" class=\"data row4 col47\" >rip mike no matter person issu best reindeer sausag dog ever we would drive clear mountain get one dog funni better know want time got front line gruff haha alaskan ye kind great guy that alway mike' corner \n",
       "i travel year mom joan now two togeth hope peac god see mike</td>\n",
       "                        <td id=\"T_a00975c8_87e1_11e9_afc2_2bccf1bc5391row4_col48\" class=\"data row4 col48\" >rip mik no mat person issu best reind saus dog ev we would driv clear mountain get on dog funny bet know want tim got front lin gruff hah alask ye kind gre guy that alway mike's corn \n",
       "i travel year mom joan now two togeth hop peac god see mik</td>\n",
       "                        <td id=\"T_a00975c8_87e1_11e9_afc2_2bccf1bc5391row4_col49\" class=\"data row4 col49\" >0</td>\n",
       "                        <td id=\"T_a00975c8_87e1_11e9_afc2_2bccf1bc5391row4_col50\" class=\"data row4 col50\" >0</td>\n",
       "                        <td id=\"T_a00975c8_87e1_11e9_afc2_2bccf1bc5391row4_col51\" class=\"data row4 col51\" >0</td>\n",
       "                        <td id=\"T_a00975c8_87e1_11e9_afc2_2bccf1bc5391row4_col52\" class=\"data row4 col52\" >True</td>\n",
       "            </tr>\n",
       "    </tbody></table>"
      ],
      "text/plain": [
       "<pandas.io.formats.style.Styler at 0x7f80e23a5e10>"
      ]
     },
     "execution_count": 17,
     "metadata": {},
     "output_type": "execute_result"
    }
   ],
   "source": [
    "output1.head(5).style"
   ]
  },
  {
   "cell_type": "code",
   "execution_count": 18,
   "metadata": {},
   "outputs": [
    {
     "name": "stdout",
     "output_type": "stream",
     "text": [
      "Index(['id', 'target', 'comment_text', 'severe_toxicity', 'obscene',\n",
      "       'identity_attack', 'insult', 'threat', 'asian', 'atheist', 'bisexual',\n",
      "       'black', 'buddhist', 'christian', 'female', 'heterosexual', 'hindu',\n",
      "       'homosexual_gay_or_lesbian', 'intellectual_or_learning_disability',\n",
      "       'jewish', 'latino', 'male', 'muslim', 'other_disability',\n",
      "       'other_gender', 'other_race_or_ethnicity', 'other_religion',\n",
      "       'other_sexual_orientation', 'physical_disability',\n",
      "       'psychiatric_or_mental_illness', 'transgender', 'white', 'created_date',\n",
      "       'publication_id', 'parent_id', 'article_id', 'rating', 'funny', 'wow',\n",
      "       'sad', 'likes', 'disagree', 'sexual_explicit',\n",
      "       'identity_annotator_count', 'toxicity_annotator_count',\n",
      "       'cleaned_w_stopwords_str', 'cleaned_no_stem_str', 'cleaned_porter_str',\n",
      "       'cleaned_lancaster_str', 'toxicity_category', 'predicted', 'y_test'],\n",
      "      dtype='object')\n"
     ]
    }
   ],
   "source": [
    "hold_out_results1 = mf.run_model_test(model_df=hold_out_set1, \n",
    "                                     clf=classifier1, \n",
    "                                     vectorizer=fitted_vectorizer1, \n",
    "                                     comments=\"cleaned_no_stem_str\", target=\"toxicity_category\")"
   ]
  },
  {
   "cell_type": "code",
   "execution_count": 19,
   "metadata": {},
   "outputs": [
    {
     "name": "stdout",
     "output_type": "stream",
     "text": [
      "Overall Accuracy: 0.9389523237179487\n",
      "Overall Precision: 0.4747847478474785\n",
      "Overall Recall: 0.6789797713280563\n",
      "Overall F1 Score: 0.5588128845457836\n",
      "ROC_AUC: 0.817\n",
      "\n",
      "Target Accuracy: 0.6789797713280563\n",
      "Target Precision: 1.0\n",
      "Target Recall: 0.6789797713280563\n",
      "Target F1 Score: 0.8088004190675747\n",
      "\n",
      "Non-Target Accuracy: 0.95464924857947\n",
      "Non-Target Precision: 1.0\n",
      "Non-Target Recall: 0.95464924857947\n",
      "Non-Target F1 Score: 0.9767985220604216\n",
      "\n",
      "Strong Identity Accuracy: 0.6338028169014085\n",
      "Strong Identity Precision: 0.9761904761904762\n",
      "Strong Identity Recall: 0.6212121212121212\n",
      "Strong Identity F1 Score: 1.0\n",
      "\n",
      "Obscenity Accuracy: 0.7671232876712328\n",
      "Obscenity Precision: 1.0\n",
      "Obscenity Recall: 0.7638888888888888\n",
      "Obscenity F1 Score: 1.0\n",
      "\n",
      "Insults Accuracy: 0.7373271889400922\n",
      "Insults Precision: 0.9874411302982732\n",
      "Insults Recall: 0.7408716136631331\n",
      "Insults F1 Score: 1.0\n",
      "\n",
      "Threats Accuracy: 0.4117647058823529\n",
      "Threats Precision: 1.0\n",
      "Threats Recall: 0.3939393939393939\n",
      "Threats F1 Score: 1.0\n",
      "\n"
     ]
    }
   ],
   "source": [
    "hold_out_metrics1 = mf.get_metrics(output=hold_out_results1, \n",
    "                                   detailed=True, \n",
    "                                   should_print=True, \n",
    "                                   round_to=3)"
   ]
  },
  {
   "cell_type": "markdown",
   "metadata": {},
   "source": [
    "# 2) SVM - weighted 25% toxic, 75% nontoxic"
   ]
  },
  {
   "cell_type": "markdown",
   "metadata": {},
   "source": [
    "### Load and shuffle data"
   ]
  },
  {
   "cell_type": "code",
   "execution_count": 30,
   "metadata": {},
   "outputs": [],
   "source": [
    "train2 = pf.read_pickle(bucket_name='advancedml-koch-mathur-hinkson', filename='sub_train_df7_preprocessed')"
   ]
  },
  {
   "cell_type": "code",
   "execution_count": 31,
   "metadata": {},
   "outputs": [],
   "source": [
    "drop_cols = ['split', 'cleaned_w_stopwords', 'cleaned_no_stem', 'cleaned_porter', 'cleaned_lancaster', 'bigrams_unstemmed',\n",
    "       'perc_upper', 'num_exclam', 'num_words', 'perc_stopwords',\n",
    "       'num_upper_words']"
   ]
  },
  {
   "cell_type": "code",
   "execution_count": 32,
   "metadata": {},
   "outputs": [],
   "source": [
    "train2 = train2.drop(drop_cols, axis = 1)"
   ]
  },
  {
   "cell_type": "code",
   "execution_count": 33,
   "metadata": {},
   "outputs": [
    {
     "data": {
      "text/plain": [
       "(100000, 49)"
      ]
     },
     "execution_count": 33,
     "metadata": {},
     "output_type": "execute_result"
    }
   ],
   "source": [
    "train2.shape"
   ]
  },
  {
   "cell_type": "code",
   "execution_count": 34,
   "metadata": {},
   "outputs": [
    {
     "data": {
      "text/plain": [
       "Index(['id', 'target', 'comment_text', 'severe_toxicity', 'obscene',\n",
       "       'identity_attack', 'insult', 'threat', 'asian', 'atheist', 'bisexual',\n",
       "       'black', 'buddhist', 'christian', 'female', 'heterosexual', 'hindu',\n",
       "       'homosexual_gay_or_lesbian', 'intellectual_or_learning_disability',\n",
       "       'jewish', 'latino', 'male', 'muslim', 'other_disability',\n",
       "       'other_gender', 'other_race_or_ethnicity', 'other_religion',\n",
       "       'other_sexual_orientation', 'physical_disability',\n",
       "       'psychiatric_or_mental_illness', 'transgender', 'white', 'created_date',\n",
       "       'publication_id', 'parent_id', 'article_id', 'rating', 'funny', 'wow',\n",
       "       'sad', 'likes', 'disagree', 'sexual_explicit',\n",
       "       'identity_annotator_count', 'toxicity_annotator_count',\n",
       "       'cleaned_w_stopwords_str', 'cleaned_no_stem_str', 'cleaned_porter_str',\n",
       "       'cleaned_lancaster_str'],\n",
       "      dtype='object')"
      ]
     },
     "execution_count": 34,
     "metadata": {},
     "output_type": "execute_result"
    }
   ],
   "source": [
    "train2.columns"
   ]
  },
  {
   "cell_type": "markdown",
   "metadata": {},
   "source": [
    "Create a new column called \"toxicity_category\" in the train data frame categorizing comments as toxic (\"1\") or non-toxic (\"0\")."
   ]
  },
  {
   "cell_type": "code",
   "execution_count": 35,
   "metadata": {},
   "outputs": [],
   "source": [
    "train2['toxicity_category'] = train2.target.apply(lambda x: 1 if x > 0.5 else 0)"
   ]
  },
  {
   "cell_type": "markdown",
   "metadata": {},
   "source": [
    "Split train.csv into training (80%) and hold out sets (20%)."
   ]
  },
  {
   "cell_type": "code",
   "execution_count": 36,
   "metadata": {},
   "outputs": [],
   "source": [
    "#Citation: https://stackoverflow.com/questions/24147278/how-do-i-create-test-and-train-samples-from-one-dataframe-with-pandas\n",
    "msk = np.random.rand(len(train2)) < 0.8\n",
    "train_set2 = train2[msk]\n",
    "hold_out_set2 = train2[~msk]\n"
   ]
  },
  {
   "cell_type": "code",
   "execution_count": 37,
   "metadata": {},
   "outputs": [
    {
     "name": "stdout",
     "output_type": "stream",
     "text": [
      "0    75913\n",
      "1     4188\n",
      "Name: toxicity_category, dtype: int64\n"
     ]
    }
   ],
   "source": [
    "print(train_set2.toxicity_category.value_counts())"
   ]
  },
  {
   "cell_type": "code",
   "execution_count": 38,
   "metadata": {},
   "outputs": [
    {
     "name": "stdout",
     "output_type": "stream",
     "text": [
      "0    18899\n",
      "1     1000\n",
      "Name: toxicity_category, dtype: int64\n"
     ]
    }
   ],
   "source": [
    "print(hold_out_set2.toxicity_category.value_counts())"
   ]
  },
  {
   "cell_type": "code",
   "execution_count": 39,
   "metadata": {},
   "outputs": [],
   "source": [
    "toxic2 = train_set2[train_set2.toxicity_category == 1]\n",
    "nontoxic2 = train_set2[train_set2.toxicity_category == 0]"
   ]
  },
  {
   "cell_type": "code",
   "execution_count": 41,
   "metadata": {},
   "outputs": [
    {
     "data": {
      "text/plain": [
       "((80101, 50), (4188, 50), (75913, 50))"
      ]
     },
     "execution_count": 41,
     "metadata": {},
     "output_type": "execute_result"
    }
   ],
   "source": [
    "train_set2.shape, toxic2.shape, nontoxic2.shape"
   ]
  },
  {
   "cell_type": "markdown",
   "metadata": {},
   "source": [
    "Create a data set of 25% toxic and 75% nontoxic comments, and shuffle the data such that you do not have a data set of grouped toxic and grouped nontoxic comments"
   ]
  },
  {
   "cell_type": "code",
   "execution_count": 42,
   "metadata": {},
   "outputs": [
    {
     "name": "stdout",
     "output_type": "stream",
     "text": [
      "0    12564\n",
      "1     4188\n",
      "Name: toxicity_category, dtype: int64\n"
     ]
    }
   ],
   "source": [
    "prepared_25 = toxic2.append(nontoxic2.sample(len(toxic2)*3))\n",
    "prepared_25 = prepared_25.sample(frac=1).reset_index(drop=True)\n",
    "print(prepared_25.toxicity_category.value_counts())"
   ]
  },
  {
   "cell_type": "markdown",
   "metadata": {},
   "source": [
    "## Run model"
   ]
  },
  {
   "cell_type": "code",
   "execution_count": 43,
   "metadata": {},
   "outputs": [
    {
     "name": "stdout",
     "output_type": "stream",
     "text": [
      "fitting model now\n"
     ]
    }
   ],
   "source": [
    "classifier2, output2, fitted_vectorizer2 = mf.run_model(model_df=prepared_25, \n",
    "                                                     model_type=\"SVM\", \n",
    "                                                     comments = \"cleaned_no_stem_str\", \n",
    "                                                     train_perc=0.95, \n",
    "                                                     target=\"toxicity_category\", \n",
    "                                                     see_inside=False)"
   ]
  },
  {
   "cell_type": "code",
   "execution_count": 44,
   "metadata": {},
   "outputs": [
    {
     "data": {
      "text/html": [
       "<style  type=\"text/css\" >\n",
       "</style><table id=\"T_81edcc14_87e2_11e9_afc2_2bccf1bc5391\" ><thead>    <tr>        <th class=\"blank level0\" ></th>        <th class=\"col_heading level0 col0\" >id</th>        <th class=\"col_heading level0 col1\" >target</th>        <th class=\"col_heading level0 col2\" >comment_text</th>        <th class=\"col_heading level0 col3\" >severe_toxicity</th>        <th class=\"col_heading level0 col4\" >obscene</th>        <th class=\"col_heading level0 col5\" >identity_attack</th>        <th class=\"col_heading level0 col6\" >insult</th>        <th class=\"col_heading level0 col7\" >threat</th>        <th class=\"col_heading level0 col8\" >asian</th>        <th class=\"col_heading level0 col9\" >atheist</th>        <th class=\"col_heading level0 col10\" >bisexual</th>        <th class=\"col_heading level0 col11\" >black</th>        <th class=\"col_heading level0 col12\" >buddhist</th>        <th class=\"col_heading level0 col13\" >christian</th>        <th class=\"col_heading level0 col14\" >female</th>        <th class=\"col_heading level0 col15\" >heterosexual</th>        <th class=\"col_heading level0 col16\" >hindu</th>        <th class=\"col_heading level0 col17\" >homosexual_gay_or_lesbian</th>        <th class=\"col_heading level0 col18\" >intellectual_or_learning_disability</th>        <th class=\"col_heading level0 col19\" >jewish</th>        <th class=\"col_heading level0 col20\" >latino</th>        <th class=\"col_heading level0 col21\" >male</th>        <th class=\"col_heading level0 col22\" >muslim</th>        <th class=\"col_heading level0 col23\" >other_disability</th>        <th class=\"col_heading level0 col24\" >other_gender</th>        <th class=\"col_heading level0 col25\" >other_race_or_ethnicity</th>        <th class=\"col_heading level0 col26\" >other_religion</th>        <th class=\"col_heading level0 col27\" >other_sexual_orientation</th>        <th class=\"col_heading level0 col28\" >physical_disability</th>        <th class=\"col_heading level0 col29\" >psychiatric_or_mental_illness</th>        <th class=\"col_heading level0 col30\" >transgender</th>        <th class=\"col_heading level0 col31\" >white</th>        <th class=\"col_heading level0 col32\" >created_date</th>        <th class=\"col_heading level0 col33\" >publication_id</th>        <th class=\"col_heading level0 col34\" >parent_id</th>        <th class=\"col_heading level0 col35\" >article_id</th>        <th class=\"col_heading level0 col36\" >rating</th>        <th class=\"col_heading level0 col37\" >funny</th>        <th class=\"col_heading level0 col38\" >wow</th>        <th class=\"col_heading level0 col39\" >sad</th>        <th class=\"col_heading level0 col40\" >likes</th>        <th class=\"col_heading level0 col41\" >disagree</th>        <th class=\"col_heading level0 col42\" >sexual_explicit</th>        <th class=\"col_heading level0 col43\" >identity_annotator_count</th>        <th class=\"col_heading level0 col44\" >toxicity_annotator_count</th>        <th class=\"col_heading level0 col45\" >cleaned_w_stopwords_str</th>        <th class=\"col_heading level0 col46\" >cleaned_no_stem_str</th>        <th class=\"col_heading level0 col47\" >cleaned_porter_str</th>        <th class=\"col_heading level0 col48\" >cleaned_lancaster_str</th>        <th class=\"col_heading level0 col49\" >toxicity_category</th>        <th class=\"col_heading level0 col50\" >predicted</th>        <th class=\"col_heading level0 col51\" >y_test</th>        <th class=\"col_heading level0 col52\" >accuracy</th>    </tr></thead><tbody>\n",
       "                <tr>\n",
       "                        <th id=\"T_81edcc14_87e2_11e9_afc2_2bccf1bc5391level0_row0\" class=\"row_heading level0 row0\" >15914</th>\n",
       "                        <td id=\"T_81edcc14_87e2_11e9_afc2_2bccf1bc5391row0_col0\" class=\"data row0 col0\" >1051887</td>\n",
       "                        <td id=\"T_81edcc14_87e2_11e9_afc2_2bccf1bc5391row0_col1\" class=\"data row0 col1\" >0</td>\n",
       "                        <td id=\"T_81edcc14_87e2_11e9_afc2_2bccf1bc5391row0_col2\" class=\"data row0 col2\" >They probably could have found a large part of the funds they wanted just by being a little creative. Give up one leg of the nuclear deterrent triad. Enormous savings. The reliability and utility of the strategic nuclear bombing mission has been in question for decades, it's just that no one has had the political gumption to put down that sacred cow.  \n",
       "In a $600B institution you know there will be a number of outdated bureaucratic empires and capabilities that could be chopped or re-invented. Instead the simpleton will just try to fill a bottomless pit with more money.</td>\n",
       "                        <td id=\"T_81edcc14_87e2_11e9_afc2_2bccf1bc5391row0_col3\" class=\"data row0 col3\" >0</td>\n",
       "                        <td id=\"T_81edcc14_87e2_11e9_afc2_2bccf1bc5391row0_col4\" class=\"data row0 col4\" >0</td>\n",
       "                        <td id=\"T_81edcc14_87e2_11e9_afc2_2bccf1bc5391row0_col5\" class=\"data row0 col5\" >0</td>\n",
       "                        <td id=\"T_81edcc14_87e2_11e9_afc2_2bccf1bc5391row0_col6\" class=\"data row0 col6\" >0</td>\n",
       "                        <td id=\"T_81edcc14_87e2_11e9_afc2_2bccf1bc5391row0_col7\" class=\"data row0 col7\" >0</td>\n",
       "                        <td id=\"T_81edcc14_87e2_11e9_afc2_2bccf1bc5391row0_col8\" class=\"data row0 col8\" >nan</td>\n",
       "                        <td id=\"T_81edcc14_87e2_11e9_afc2_2bccf1bc5391row0_col9\" class=\"data row0 col9\" >nan</td>\n",
       "                        <td id=\"T_81edcc14_87e2_11e9_afc2_2bccf1bc5391row0_col10\" class=\"data row0 col10\" >nan</td>\n",
       "                        <td id=\"T_81edcc14_87e2_11e9_afc2_2bccf1bc5391row0_col11\" class=\"data row0 col11\" >nan</td>\n",
       "                        <td id=\"T_81edcc14_87e2_11e9_afc2_2bccf1bc5391row0_col12\" class=\"data row0 col12\" >nan</td>\n",
       "                        <td id=\"T_81edcc14_87e2_11e9_afc2_2bccf1bc5391row0_col13\" class=\"data row0 col13\" >nan</td>\n",
       "                        <td id=\"T_81edcc14_87e2_11e9_afc2_2bccf1bc5391row0_col14\" class=\"data row0 col14\" >nan</td>\n",
       "                        <td id=\"T_81edcc14_87e2_11e9_afc2_2bccf1bc5391row0_col15\" class=\"data row0 col15\" >nan</td>\n",
       "                        <td id=\"T_81edcc14_87e2_11e9_afc2_2bccf1bc5391row0_col16\" class=\"data row0 col16\" >nan</td>\n",
       "                        <td id=\"T_81edcc14_87e2_11e9_afc2_2bccf1bc5391row0_col17\" class=\"data row0 col17\" >nan</td>\n",
       "                        <td id=\"T_81edcc14_87e2_11e9_afc2_2bccf1bc5391row0_col18\" class=\"data row0 col18\" >nan</td>\n",
       "                        <td id=\"T_81edcc14_87e2_11e9_afc2_2bccf1bc5391row0_col19\" class=\"data row0 col19\" >nan</td>\n",
       "                        <td id=\"T_81edcc14_87e2_11e9_afc2_2bccf1bc5391row0_col20\" class=\"data row0 col20\" >nan</td>\n",
       "                        <td id=\"T_81edcc14_87e2_11e9_afc2_2bccf1bc5391row0_col21\" class=\"data row0 col21\" >nan</td>\n",
       "                        <td id=\"T_81edcc14_87e2_11e9_afc2_2bccf1bc5391row0_col22\" class=\"data row0 col22\" >nan</td>\n",
       "                        <td id=\"T_81edcc14_87e2_11e9_afc2_2bccf1bc5391row0_col23\" class=\"data row0 col23\" >nan</td>\n",
       "                        <td id=\"T_81edcc14_87e2_11e9_afc2_2bccf1bc5391row0_col24\" class=\"data row0 col24\" >nan</td>\n",
       "                        <td id=\"T_81edcc14_87e2_11e9_afc2_2bccf1bc5391row0_col25\" class=\"data row0 col25\" >nan</td>\n",
       "                        <td id=\"T_81edcc14_87e2_11e9_afc2_2bccf1bc5391row0_col26\" class=\"data row0 col26\" >nan</td>\n",
       "                        <td id=\"T_81edcc14_87e2_11e9_afc2_2bccf1bc5391row0_col27\" class=\"data row0 col27\" >nan</td>\n",
       "                        <td id=\"T_81edcc14_87e2_11e9_afc2_2bccf1bc5391row0_col28\" class=\"data row0 col28\" >nan</td>\n",
       "                        <td id=\"T_81edcc14_87e2_11e9_afc2_2bccf1bc5391row0_col29\" class=\"data row0 col29\" >nan</td>\n",
       "                        <td id=\"T_81edcc14_87e2_11e9_afc2_2bccf1bc5391row0_col30\" class=\"data row0 col30\" >nan</td>\n",
       "                        <td id=\"T_81edcc14_87e2_11e9_afc2_2bccf1bc5391row0_col31\" class=\"data row0 col31\" >nan</td>\n",
       "                        <td id=\"T_81edcc14_87e2_11e9_afc2_2bccf1bc5391row0_col32\" class=\"data row0 col32\" >2017-02-27 17:42:56.766069+00</td>\n",
       "                        <td id=\"T_81edcc14_87e2_11e9_afc2_2bccf1bc5391row0_col33\" class=\"data row0 col33\" >54</td>\n",
       "                        <td id=\"T_81edcc14_87e2_11e9_afc2_2bccf1bc5391row0_col34\" class=\"data row0 col34\" >nan</td>\n",
       "                        <td id=\"T_81edcc14_87e2_11e9_afc2_2bccf1bc5391row0_col35\" class=\"data row0 col35\" >315400</td>\n",
       "                        <td id=\"T_81edcc14_87e2_11e9_afc2_2bccf1bc5391row0_col36\" class=\"data row0 col36\" >approved</td>\n",
       "                        <td id=\"T_81edcc14_87e2_11e9_afc2_2bccf1bc5391row0_col37\" class=\"data row0 col37\" >0</td>\n",
       "                        <td id=\"T_81edcc14_87e2_11e9_afc2_2bccf1bc5391row0_col38\" class=\"data row0 col38\" >0</td>\n",
       "                        <td id=\"T_81edcc14_87e2_11e9_afc2_2bccf1bc5391row0_col39\" class=\"data row0 col39\" >0</td>\n",
       "                        <td id=\"T_81edcc14_87e2_11e9_afc2_2bccf1bc5391row0_col40\" class=\"data row0 col40\" >0</td>\n",
       "                        <td id=\"T_81edcc14_87e2_11e9_afc2_2bccf1bc5391row0_col41\" class=\"data row0 col41\" >0</td>\n",
       "                        <td id=\"T_81edcc14_87e2_11e9_afc2_2bccf1bc5391row0_col42\" class=\"data row0 col42\" >0</td>\n",
       "                        <td id=\"T_81edcc14_87e2_11e9_afc2_2bccf1bc5391row0_col43\" class=\"data row0 col43\" >0</td>\n",
       "                        <td id=\"T_81edcc14_87e2_11e9_afc2_2bccf1bc5391row0_col44\" class=\"data row0 col44\" >4</td>\n",
       "                        <td id=\"T_81edcc14_87e2_11e9_afc2_2bccf1bc5391row0_col45\" class=\"data row0 col45\" >They probably could have found a large part of the funds they wanted just by being a little creative Give up one leg of the nuclear deterrent triad Enormous savings The reliability and utility of the strategic nuclear bombing mission has been in question for decades it's just that no one has had the political gumption to put down that sacred cow  \n",
       "In a 600B institution you know there will be a number of outdated bureaucratic empires and capabilities that could be chopped or re invented Instead the simpleton will just try to fill a bottomless pit with more money</td>\n",
       "                        <td id=\"T_81edcc14_87e2_11e9_afc2_2bccf1bc5391row0_col46\" class=\"data row0 col46\" >they probably could found large part funds wanted little creative give one leg nuclear deterrent triad enormous savings the reliability utility strategic nuclear bombing mission question decades one political gumption put sacred cow \n",
       "in 600b institution know number outdated bureaucratic empires capabilities could chopped invented instead simpleton try fill bottomless pit money</td>\n",
       "                        <td id=\"T_81edcc14_87e2_11e9_afc2_2bccf1bc5391row0_col47\" class=\"data row0 col47\" >they probabl could found larg part fund want littl creativ give one leg nuclear deterr triad enorm save the reliabl util strateg nuclear bomb mission question decad one polit gumption put sacr cow \n",
       "in 600b institut know number outdat bureaucrat empir capabl could chop invent instead simpleton tri fill bottomless pit money</td>\n",
       "                        <td id=\"T_81edcc14_87e2_11e9_afc2_2bccf1bc5391row0_col48\" class=\"data row0 col48\" >they prob could found larg part fund want littl cre giv on leg nuclear deter triad enorm sav the rely util strategic nuclear bomb miss quest decad on polit gumpt put sacr cow \n",
       "in 600b institut know numb outd bureaucr empir cap could chop inv instead simpleton try fil bottomless pit money</td>\n",
       "                        <td id=\"T_81edcc14_87e2_11e9_afc2_2bccf1bc5391row0_col49\" class=\"data row0 col49\" >0</td>\n",
       "                        <td id=\"T_81edcc14_87e2_11e9_afc2_2bccf1bc5391row0_col50\" class=\"data row0 col50\" >0</td>\n",
       "                        <td id=\"T_81edcc14_87e2_11e9_afc2_2bccf1bc5391row0_col51\" class=\"data row0 col51\" >0</td>\n",
       "                        <td id=\"T_81edcc14_87e2_11e9_afc2_2bccf1bc5391row0_col52\" class=\"data row0 col52\" >True</td>\n",
       "            </tr>\n",
       "            <tr>\n",
       "                        <th id=\"T_81edcc14_87e2_11e9_afc2_2bccf1bc5391level0_row1\" class=\"row_heading level0 row1\" >15915</th>\n",
       "                        <td id=\"T_81edcc14_87e2_11e9_afc2_2bccf1bc5391row1_col0\" class=\"data row1 col0\" >1079167</td>\n",
       "                        <td id=\"T_81edcc14_87e2_11e9_afc2_2bccf1bc5391row1_col1\" class=\"data row1 col1\" >0.4</td>\n",
       "                        <td id=\"T_81edcc14_87e2_11e9_afc2_2bccf1bc5391row1_col2\" class=\"data row1 col2\" >Trump's \"put his life at risk\" for Latinos, Hispanics and Mexicans?  Gee, how did I miss the YUGE headlines when that happened? That's the funniest - and most stupid - thing I've read all day. Seriously.</td>\n",
       "                        <td id=\"T_81edcc14_87e2_11e9_afc2_2bccf1bc5391row1_col3\" class=\"data row1 col3\" >0</td>\n",
       "                        <td id=\"T_81edcc14_87e2_11e9_afc2_2bccf1bc5391row1_col4\" class=\"data row1 col4\" >0.2</td>\n",
       "                        <td id=\"T_81edcc14_87e2_11e9_afc2_2bccf1bc5391row1_col5\" class=\"data row1 col5\" >0.3</td>\n",
       "                        <td id=\"T_81edcc14_87e2_11e9_afc2_2bccf1bc5391row1_col6\" class=\"data row1 col6\" >0.5</td>\n",
       "                        <td id=\"T_81edcc14_87e2_11e9_afc2_2bccf1bc5391row1_col7\" class=\"data row1 col7\" >0</td>\n",
       "                        <td id=\"T_81edcc14_87e2_11e9_afc2_2bccf1bc5391row1_col8\" class=\"data row1 col8\" >0</td>\n",
       "                        <td id=\"T_81edcc14_87e2_11e9_afc2_2bccf1bc5391row1_col9\" class=\"data row1 col9\" >0</td>\n",
       "                        <td id=\"T_81edcc14_87e2_11e9_afc2_2bccf1bc5391row1_col10\" class=\"data row1 col10\" >0</td>\n",
       "                        <td id=\"T_81edcc14_87e2_11e9_afc2_2bccf1bc5391row1_col11\" class=\"data row1 col11\" >0</td>\n",
       "                        <td id=\"T_81edcc14_87e2_11e9_afc2_2bccf1bc5391row1_col12\" class=\"data row1 col12\" >0</td>\n",
       "                        <td id=\"T_81edcc14_87e2_11e9_afc2_2bccf1bc5391row1_col13\" class=\"data row1 col13\" >0</td>\n",
       "                        <td id=\"T_81edcc14_87e2_11e9_afc2_2bccf1bc5391row1_col14\" class=\"data row1 col14\" >0.1</td>\n",
       "                        <td id=\"T_81edcc14_87e2_11e9_afc2_2bccf1bc5391row1_col15\" class=\"data row1 col15\" >0</td>\n",
       "                        <td id=\"T_81edcc14_87e2_11e9_afc2_2bccf1bc5391row1_col16\" class=\"data row1 col16\" >0</td>\n",
       "                        <td id=\"T_81edcc14_87e2_11e9_afc2_2bccf1bc5391row1_col17\" class=\"data row1 col17\" >0</td>\n",
       "                        <td id=\"T_81edcc14_87e2_11e9_afc2_2bccf1bc5391row1_col18\" class=\"data row1 col18\" >0</td>\n",
       "                        <td id=\"T_81edcc14_87e2_11e9_afc2_2bccf1bc5391row1_col19\" class=\"data row1 col19\" >0</td>\n",
       "                        <td id=\"T_81edcc14_87e2_11e9_afc2_2bccf1bc5391row1_col20\" class=\"data row1 col20\" >0.9</td>\n",
       "                        <td id=\"T_81edcc14_87e2_11e9_afc2_2bccf1bc5391row1_col21\" class=\"data row1 col21\" >0.2</td>\n",
       "                        <td id=\"T_81edcc14_87e2_11e9_afc2_2bccf1bc5391row1_col22\" class=\"data row1 col22\" >0</td>\n",
       "                        <td id=\"T_81edcc14_87e2_11e9_afc2_2bccf1bc5391row1_col23\" class=\"data row1 col23\" >0</td>\n",
       "                        <td id=\"T_81edcc14_87e2_11e9_afc2_2bccf1bc5391row1_col24\" class=\"data row1 col24\" >0</td>\n",
       "                        <td id=\"T_81edcc14_87e2_11e9_afc2_2bccf1bc5391row1_col25\" class=\"data row1 col25\" >0.1</td>\n",
       "                        <td id=\"T_81edcc14_87e2_11e9_afc2_2bccf1bc5391row1_col26\" class=\"data row1 col26\" >0</td>\n",
       "                        <td id=\"T_81edcc14_87e2_11e9_afc2_2bccf1bc5391row1_col27\" class=\"data row1 col27\" >0</td>\n",
       "                        <td id=\"T_81edcc14_87e2_11e9_afc2_2bccf1bc5391row1_col28\" class=\"data row1 col28\" >0</td>\n",
       "                        <td id=\"T_81edcc14_87e2_11e9_afc2_2bccf1bc5391row1_col29\" class=\"data row1 col29\" >0</td>\n",
       "                        <td id=\"T_81edcc14_87e2_11e9_afc2_2bccf1bc5391row1_col30\" class=\"data row1 col30\" >0</td>\n",
       "                        <td id=\"T_81edcc14_87e2_11e9_afc2_2bccf1bc5391row1_col31\" class=\"data row1 col31\" >0</td>\n",
       "                        <td id=\"T_81edcc14_87e2_11e9_afc2_2bccf1bc5391row1_col32\" class=\"data row1 col32\" >2017-03-05 02:33:54.837477+00</td>\n",
       "                        <td id=\"T_81edcc14_87e2_11e9_afc2_2bccf1bc5391row1_col33\" class=\"data row1 col33\" >21</td>\n",
       "                        <td id=\"T_81edcc14_87e2_11e9_afc2_2bccf1bc5391row1_col34\" class=\"data row1 col34\" >nan</td>\n",
       "                        <td id=\"T_81edcc14_87e2_11e9_afc2_2bccf1bc5391row1_col35\" class=\"data row1 col35\" >316938</td>\n",
       "                        <td id=\"T_81edcc14_87e2_11e9_afc2_2bccf1bc5391row1_col36\" class=\"data row1 col36\" >approved</td>\n",
       "                        <td id=\"T_81edcc14_87e2_11e9_afc2_2bccf1bc5391row1_col37\" class=\"data row1 col37\" >1</td>\n",
       "                        <td id=\"T_81edcc14_87e2_11e9_afc2_2bccf1bc5391row1_col38\" class=\"data row1 col38\" >0</td>\n",
       "                        <td id=\"T_81edcc14_87e2_11e9_afc2_2bccf1bc5391row1_col39\" class=\"data row1 col39\" >0</td>\n",
       "                        <td id=\"T_81edcc14_87e2_11e9_afc2_2bccf1bc5391row1_col40\" class=\"data row1 col40\" >9</td>\n",
       "                        <td id=\"T_81edcc14_87e2_11e9_afc2_2bccf1bc5391row1_col41\" class=\"data row1 col41\" >0</td>\n",
       "                        <td id=\"T_81edcc14_87e2_11e9_afc2_2bccf1bc5391row1_col42\" class=\"data row1 col42\" >0</td>\n",
       "                        <td id=\"T_81edcc14_87e2_11e9_afc2_2bccf1bc5391row1_col43\" class=\"data row1 col43\" >10</td>\n",
       "                        <td id=\"T_81edcc14_87e2_11e9_afc2_2bccf1bc5391row1_col44\" class=\"data row1 col44\" >10</td>\n",
       "                        <td id=\"T_81edcc14_87e2_11e9_afc2_2bccf1bc5391row1_col45\" class=\"data row1 col45\" >Trump's put his life at risk for Latinos Hispanics and Mexicans  Gee how did I miss the YUGE headlines when that happened That's the funniest   and most stupid   thing I've read all day Seriously</td>\n",
       "                        <td id=\"T_81edcc14_87e2_11e9_afc2_2bccf1bc5391row1_col46\" class=\"data row1 col46\" >trump's put life risk latinos hispanics mexicans gee i miss yuge headlines happened that's funniest stupid thing i've read day seriously</td>\n",
       "                        <td id=\"T_81edcc14_87e2_11e9_afc2_2bccf1bc5391row1_col47\" class=\"data row1 col47\" >trump' put life risk latino hispan mexican gee i miss yuge headlin happen that' funniest stupid thing i'v read day serious</td>\n",
       "                        <td id=\"T_81edcc14_87e2_11e9_afc2_2bccf1bc5391row1_col48\" class=\"data row1 col48\" >trump's put lif risk latino hisp mex gee i miss yug headlin hap that's funniest stupid thing i've read day sery</td>\n",
       "                        <td id=\"T_81edcc14_87e2_11e9_afc2_2bccf1bc5391row1_col49\" class=\"data row1 col49\" >0</td>\n",
       "                        <td id=\"T_81edcc14_87e2_11e9_afc2_2bccf1bc5391row1_col50\" class=\"data row1 col50\" >1</td>\n",
       "                        <td id=\"T_81edcc14_87e2_11e9_afc2_2bccf1bc5391row1_col51\" class=\"data row1 col51\" >0</td>\n",
       "                        <td id=\"T_81edcc14_87e2_11e9_afc2_2bccf1bc5391row1_col52\" class=\"data row1 col52\" >False</td>\n",
       "            </tr>\n",
       "            <tr>\n",
       "                        <th id=\"T_81edcc14_87e2_11e9_afc2_2bccf1bc5391level0_row2\" class=\"row_heading level0 row2\" >15916</th>\n",
       "                        <td id=\"T_81edcc14_87e2_11e9_afc2_2bccf1bc5391row2_col0\" class=\"data row2 col0\" >1011522</td>\n",
       "                        <td id=\"T_81edcc14_87e2_11e9_afc2_2bccf1bc5391row2_col1\" class=\"data row2 col1\" >0.805195</td>\n",
       "                        <td id=\"T_81edcc14_87e2_11e9_afc2_2bccf1bc5391row2_col2\" class=\"data row2 col2\" >Easy for silver spooned Trudeau to lash out at people working for a living.\n",
       "\n",
       "Our PM was born into fame and great wealth, and never had to hold down a real job his entire life.\n",
       "\n",
       "Pathetic hypocrite.</td>\n",
       "                        <td id=\"T_81edcc14_87e2_11e9_afc2_2bccf1bc5391row2_col3\" class=\"data row2 col3\" >0.038961</td>\n",
       "                        <td id=\"T_81edcc14_87e2_11e9_afc2_2bccf1bc5391row2_col4\" class=\"data row2 col4\" >0.0909091</td>\n",
       "                        <td id=\"T_81edcc14_87e2_11e9_afc2_2bccf1bc5391row2_col5\" class=\"data row2 col5\" >0.025974</td>\n",
       "                        <td id=\"T_81edcc14_87e2_11e9_afc2_2bccf1bc5391row2_col6\" class=\"data row2 col6\" >0.779221</td>\n",
       "                        <td id=\"T_81edcc14_87e2_11e9_afc2_2bccf1bc5391row2_col7\" class=\"data row2 col7\" >0</td>\n",
       "                        <td id=\"T_81edcc14_87e2_11e9_afc2_2bccf1bc5391row2_col8\" class=\"data row2 col8\" >0</td>\n",
       "                        <td id=\"T_81edcc14_87e2_11e9_afc2_2bccf1bc5391row2_col9\" class=\"data row2 col9\" >0</td>\n",
       "                        <td id=\"T_81edcc14_87e2_11e9_afc2_2bccf1bc5391row2_col10\" class=\"data row2 col10\" >0</td>\n",
       "                        <td id=\"T_81edcc14_87e2_11e9_afc2_2bccf1bc5391row2_col11\" class=\"data row2 col11\" >0</td>\n",
       "                        <td id=\"T_81edcc14_87e2_11e9_afc2_2bccf1bc5391row2_col12\" class=\"data row2 col12\" >0</td>\n",
       "                        <td id=\"T_81edcc14_87e2_11e9_afc2_2bccf1bc5391row2_col13\" class=\"data row2 col13\" >0</td>\n",
       "                        <td id=\"T_81edcc14_87e2_11e9_afc2_2bccf1bc5391row2_col14\" class=\"data row2 col14\" >0</td>\n",
       "                        <td id=\"T_81edcc14_87e2_11e9_afc2_2bccf1bc5391row2_col15\" class=\"data row2 col15\" >0</td>\n",
       "                        <td id=\"T_81edcc14_87e2_11e9_afc2_2bccf1bc5391row2_col16\" class=\"data row2 col16\" >0</td>\n",
       "                        <td id=\"T_81edcc14_87e2_11e9_afc2_2bccf1bc5391row2_col17\" class=\"data row2 col17\" >0</td>\n",
       "                        <td id=\"T_81edcc14_87e2_11e9_afc2_2bccf1bc5391row2_col18\" class=\"data row2 col18\" >0</td>\n",
       "                        <td id=\"T_81edcc14_87e2_11e9_afc2_2bccf1bc5391row2_col19\" class=\"data row2 col19\" >0</td>\n",
       "                        <td id=\"T_81edcc14_87e2_11e9_afc2_2bccf1bc5391row2_col20\" class=\"data row2 col20\" >0</td>\n",
       "                        <td id=\"T_81edcc14_87e2_11e9_afc2_2bccf1bc5391row2_col21\" class=\"data row2 col21\" >0</td>\n",
       "                        <td id=\"T_81edcc14_87e2_11e9_afc2_2bccf1bc5391row2_col22\" class=\"data row2 col22\" >0</td>\n",
       "                        <td id=\"T_81edcc14_87e2_11e9_afc2_2bccf1bc5391row2_col23\" class=\"data row2 col23\" >0</td>\n",
       "                        <td id=\"T_81edcc14_87e2_11e9_afc2_2bccf1bc5391row2_col24\" class=\"data row2 col24\" >0</td>\n",
       "                        <td id=\"T_81edcc14_87e2_11e9_afc2_2bccf1bc5391row2_col25\" class=\"data row2 col25\" >0</td>\n",
       "                        <td id=\"T_81edcc14_87e2_11e9_afc2_2bccf1bc5391row2_col26\" class=\"data row2 col26\" >0</td>\n",
       "                        <td id=\"T_81edcc14_87e2_11e9_afc2_2bccf1bc5391row2_col27\" class=\"data row2 col27\" >0</td>\n",
       "                        <td id=\"T_81edcc14_87e2_11e9_afc2_2bccf1bc5391row2_col28\" class=\"data row2 col28\" >0</td>\n",
       "                        <td id=\"T_81edcc14_87e2_11e9_afc2_2bccf1bc5391row2_col29\" class=\"data row2 col29\" >0</td>\n",
       "                        <td id=\"T_81edcc14_87e2_11e9_afc2_2bccf1bc5391row2_col30\" class=\"data row2 col30\" >0</td>\n",
       "                        <td id=\"T_81edcc14_87e2_11e9_afc2_2bccf1bc5391row2_col31\" class=\"data row2 col31\" >0</td>\n",
       "                        <td id=\"T_81edcc14_87e2_11e9_afc2_2bccf1bc5391row2_col32\" class=\"data row2 col32\" >2017-02-18 04:32:52.158706+00</td>\n",
       "                        <td id=\"T_81edcc14_87e2_11e9_afc2_2bccf1bc5391row2_col33\" class=\"data row2 col33\" >54</td>\n",
       "                        <td id=\"T_81edcc14_87e2_11e9_afc2_2bccf1bc5391row2_col34\" class=\"data row2 col34\" >nan</td>\n",
       "                        <td id=\"T_81edcc14_87e2_11e9_afc2_2bccf1bc5391row2_col35\" class=\"data row2 col35\" >168783</td>\n",
       "                        <td id=\"T_81edcc14_87e2_11e9_afc2_2bccf1bc5391row2_col36\" class=\"data row2 col36\" >approved</td>\n",
       "                        <td id=\"T_81edcc14_87e2_11e9_afc2_2bccf1bc5391row2_col37\" class=\"data row2 col37\" >0</td>\n",
       "                        <td id=\"T_81edcc14_87e2_11e9_afc2_2bccf1bc5391row2_col38\" class=\"data row2 col38\" >1</td>\n",
       "                        <td id=\"T_81edcc14_87e2_11e9_afc2_2bccf1bc5391row2_col39\" class=\"data row2 col39\" >0</td>\n",
       "                        <td id=\"T_81edcc14_87e2_11e9_afc2_2bccf1bc5391row2_col40\" class=\"data row2 col40\" >8</td>\n",
       "                        <td id=\"T_81edcc14_87e2_11e9_afc2_2bccf1bc5391row2_col41\" class=\"data row2 col41\" >1</td>\n",
       "                        <td id=\"T_81edcc14_87e2_11e9_afc2_2bccf1bc5391row2_col42\" class=\"data row2 col42\" >0</td>\n",
       "                        <td id=\"T_81edcc14_87e2_11e9_afc2_2bccf1bc5391row2_col43\" class=\"data row2 col43\" >4</td>\n",
       "                        <td id=\"T_81edcc14_87e2_11e9_afc2_2bccf1bc5391row2_col44\" class=\"data row2 col44\" >77</td>\n",
       "                        <td id=\"T_81edcc14_87e2_11e9_afc2_2bccf1bc5391row2_col45\" class=\"data row2 col45\" >Easy for silver spooned Trudeau to lash out at people working for a living.\n",
       "\n",
       "Our PM was born into fame and great wealth and never had to hold down a real job his entire life.\n",
       "\n",
       "Pathetic hypocrite</td>\n",
       "                        <td id=\"T_81edcc14_87e2_11e9_afc2_2bccf1bc5391row2_col46\" class=\"data row2 col46\" >easy silver spooned trudeau lash people working living.\n",
       "\n",
       "our pm born fame great wealth never hold real job entire life.\n",
       "\n",
       "pathetic hypocrite</td>\n",
       "                        <td id=\"T_81edcc14_87e2_11e9_afc2_2bccf1bc5391row2_col47\" class=\"data row2 col47\" >easi silver spoon trudeau lash peopl work living.\n",
       "\n",
       "our pm born fame great wealth never hold real job entir life.\n",
       "\n",
       "pathet hypocrit</td>\n",
       "                        <td id=\"T_81edcc14_87e2_11e9_afc2_2bccf1bc5391row2_col48\" class=\"data row2 col48\" >easy silv spoon trudeau lash peopl work living.\n",
       "\n",
       "our pm born fam gre weal nev hold real job entir life.\n",
       "\n",
       "pathetic hypocrit</td>\n",
       "                        <td id=\"T_81edcc14_87e2_11e9_afc2_2bccf1bc5391row2_col49\" class=\"data row2 col49\" >1</td>\n",
       "                        <td id=\"T_81edcc14_87e2_11e9_afc2_2bccf1bc5391row2_col50\" class=\"data row2 col50\" >1</td>\n",
       "                        <td id=\"T_81edcc14_87e2_11e9_afc2_2bccf1bc5391row2_col51\" class=\"data row2 col51\" >1</td>\n",
       "                        <td id=\"T_81edcc14_87e2_11e9_afc2_2bccf1bc5391row2_col52\" class=\"data row2 col52\" >True</td>\n",
       "            </tr>\n",
       "            <tr>\n",
       "                        <th id=\"T_81edcc14_87e2_11e9_afc2_2bccf1bc5391level0_row3\" class=\"row_heading level0 row3\" >15917</th>\n",
       "                        <td id=\"T_81edcc14_87e2_11e9_afc2_2bccf1bc5391row3_col0\" class=\"data row3 col0\" >995265</td>\n",
       "                        <td id=\"T_81edcc14_87e2_11e9_afc2_2bccf1bc5391row3_col1\" class=\"data row3 col1\" >0</td>\n",
       "                        <td id=\"T_81edcc14_87e2_11e9_afc2_2bccf1bc5391row3_col2\" class=\"data row3 col2\" >It's ironic that your Noam Chomsky citation is from the Massey Lectures, which are presented on CBC. The CBC comes in for regular rubbishing as part of the mainstream media. \n",
       "\n",
       "While we should all read, watch and listen to media reports with some skepticism, the mainstream media at least publish retractions when they get it wrong. When is the last time you saw a retraction printed by the Macedonian teenagers who vilified Hillary Clinton, or their less reliable alt-medium Breitbart?</td>\n",
       "                        <td id=\"T_81edcc14_87e2_11e9_afc2_2bccf1bc5391row3_col3\" class=\"data row3 col3\" >0</td>\n",
       "                        <td id=\"T_81edcc14_87e2_11e9_afc2_2bccf1bc5391row3_col4\" class=\"data row3 col4\" >0</td>\n",
       "                        <td id=\"T_81edcc14_87e2_11e9_afc2_2bccf1bc5391row3_col5\" class=\"data row3 col5\" >0</td>\n",
       "                        <td id=\"T_81edcc14_87e2_11e9_afc2_2bccf1bc5391row3_col6\" class=\"data row3 col6\" >0</td>\n",
       "                        <td id=\"T_81edcc14_87e2_11e9_afc2_2bccf1bc5391row3_col7\" class=\"data row3 col7\" >0</td>\n",
       "                        <td id=\"T_81edcc14_87e2_11e9_afc2_2bccf1bc5391row3_col8\" class=\"data row3 col8\" >nan</td>\n",
       "                        <td id=\"T_81edcc14_87e2_11e9_afc2_2bccf1bc5391row3_col9\" class=\"data row3 col9\" >nan</td>\n",
       "                        <td id=\"T_81edcc14_87e2_11e9_afc2_2bccf1bc5391row3_col10\" class=\"data row3 col10\" >nan</td>\n",
       "                        <td id=\"T_81edcc14_87e2_11e9_afc2_2bccf1bc5391row3_col11\" class=\"data row3 col11\" >nan</td>\n",
       "                        <td id=\"T_81edcc14_87e2_11e9_afc2_2bccf1bc5391row3_col12\" class=\"data row3 col12\" >nan</td>\n",
       "                        <td id=\"T_81edcc14_87e2_11e9_afc2_2bccf1bc5391row3_col13\" class=\"data row3 col13\" >nan</td>\n",
       "                        <td id=\"T_81edcc14_87e2_11e9_afc2_2bccf1bc5391row3_col14\" class=\"data row3 col14\" >nan</td>\n",
       "                        <td id=\"T_81edcc14_87e2_11e9_afc2_2bccf1bc5391row3_col15\" class=\"data row3 col15\" >nan</td>\n",
       "                        <td id=\"T_81edcc14_87e2_11e9_afc2_2bccf1bc5391row3_col16\" class=\"data row3 col16\" >nan</td>\n",
       "                        <td id=\"T_81edcc14_87e2_11e9_afc2_2bccf1bc5391row3_col17\" class=\"data row3 col17\" >nan</td>\n",
       "                        <td id=\"T_81edcc14_87e2_11e9_afc2_2bccf1bc5391row3_col18\" class=\"data row3 col18\" >nan</td>\n",
       "                        <td id=\"T_81edcc14_87e2_11e9_afc2_2bccf1bc5391row3_col19\" class=\"data row3 col19\" >nan</td>\n",
       "                        <td id=\"T_81edcc14_87e2_11e9_afc2_2bccf1bc5391row3_col20\" class=\"data row3 col20\" >nan</td>\n",
       "                        <td id=\"T_81edcc14_87e2_11e9_afc2_2bccf1bc5391row3_col21\" class=\"data row3 col21\" >nan</td>\n",
       "                        <td id=\"T_81edcc14_87e2_11e9_afc2_2bccf1bc5391row3_col22\" class=\"data row3 col22\" >nan</td>\n",
       "                        <td id=\"T_81edcc14_87e2_11e9_afc2_2bccf1bc5391row3_col23\" class=\"data row3 col23\" >nan</td>\n",
       "                        <td id=\"T_81edcc14_87e2_11e9_afc2_2bccf1bc5391row3_col24\" class=\"data row3 col24\" >nan</td>\n",
       "                        <td id=\"T_81edcc14_87e2_11e9_afc2_2bccf1bc5391row3_col25\" class=\"data row3 col25\" >nan</td>\n",
       "                        <td id=\"T_81edcc14_87e2_11e9_afc2_2bccf1bc5391row3_col26\" class=\"data row3 col26\" >nan</td>\n",
       "                        <td id=\"T_81edcc14_87e2_11e9_afc2_2bccf1bc5391row3_col27\" class=\"data row3 col27\" >nan</td>\n",
       "                        <td id=\"T_81edcc14_87e2_11e9_afc2_2bccf1bc5391row3_col28\" class=\"data row3 col28\" >nan</td>\n",
       "                        <td id=\"T_81edcc14_87e2_11e9_afc2_2bccf1bc5391row3_col29\" class=\"data row3 col29\" >nan</td>\n",
       "                        <td id=\"T_81edcc14_87e2_11e9_afc2_2bccf1bc5391row3_col30\" class=\"data row3 col30\" >nan</td>\n",
       "                        <td id=\"T_81edcc14_87e2_11e9_afc2_2bccf1bc5391row3_col31\" class=\"data row3 col31\" >nan</td>\n",
       "                        <td id=\"T_81edcc14_87e2_11e9_afc2_2bccf1bc5391row3_col32\" class=\"data row3 col32\" >2017-02-14 21:12:14.925628+00</td>\n",
       "                        <td id=\"T_81edcc14_87e2_11e9_afc2_2bccf1bc5391row3_col33\" class=\"data row3 col33\" >54</td>\n",
       "                        <td id=\"T_81edcc14_87e2_11e9_afc2_2bccf1bc5391row3_col34\" class=\"data row3 col34\" >994421</td>\n",
       "                        <td id=\"T_81edcc14_87e2_11e9_afc2_2bccf1bc5391row3_col35\" class=\"data row3 col35\" >168172</td>\n",
       "                        <td id=\"T_81edcc14_87e2_11e9_afc2_2bccf1bc5391row3_col36\" class=\"data row3 col36\" >approved</td>\n",
       "                        <td id=\"T_81edcc14_87e2_11e9_afc2_2bccf1bc5391row3_col37\" class=\"data row3 col37\" >1</td>\n",
       "                        <td id=\"T_81edcc14_87e2_11e9_afc2_2bccf1bc5391row3_col38\" class=\"data row3 col38\" >0</td>\n",
       "                        <td id=\"T_81edcc14_87e2_11e9_afc2_2bccf1bc5391row3_col39\" class=\"data row3 col39\" >0</td>\n",
       "                        <td id=\"T_81edcc14_87e2_11e9_afc2_2bccf1bc5391row3_col40\" class=\"data row3 col40\" >4</td>\n",
       "                        <td id=\"T_81edcc14_87e2_11e9_afc2_2bccf1bc5391row3_col41\" class=\"data row3 col41\" >7</td>\n",
       "                        <td id=\"T_81edcc14_87e2_11e9_afc2_2bccf1bc5391row3_col42\" class=\"data row3 col42\" >0</td>\n",
       "                        <td id=\"T_81edcc14_87e2_11e9_afc2_2bccf1bc5391row3_col43\" class=\"data row3 col43\" >0</td>\n",
       "                        <td id=\"T_81edcc14_87e2_11e9_afc2_2bccf1bc5391row3_col44\" class=\"data row3 col44\" >4</td>\n",
       "                        <td id=\"T_81edcc14_87e2_11e9_afc2_2bccf1bc5391row3_col45\" class=\"data row3 col45\" >It's ironic that your Noam Chomsky citation is from the Massey Lectures which are presented on CBC The CBC comes in for regular rubbishing as part of the mainstream media \n",
       "\n",
       "While we should all read watch and listen to media reports with some skepticism the mainstream media at least publish retractions when they get it wrong When is the last time you saw a retraction printed by the Macedonian teenagers who vilified Hillary Clinton or their less reliable alt medium Breitbart</td>\n",
       "                        <td id=\"T_81edcc14_87e2_11e9_afc2_2bccf1bc5391row3_col46\" class=\"data row3 col46\" >it's ironic noam chomsky citation massey lectures presented cbc the cbc comes regular rubbishing part mainstream media \n",
       "\n",
       "while should read watch listen media reports skepticism mainstream media least publish retractions get wrong when last time saw retraction printed macedonian teenagers vilified hillary clinton less reliable alt medium breitbart</td>\n",
       "                        <td id=\"T_81edcc14_87e2_11e9_afc2_2bccf1bc5391row3_col47\" class=\"data row3 col47\" >it' iron noam chomski citat massey lectur present cbc the cbc come regular rubbish part mainstream media \n",
       "\n",
       "while should read watch listen media report skeptic mainstream media least publish retract get wrong when last time saw retract print macedonian teenag vilifi hillari clinton less reliabl alt medium breitbart</td>\n",
       "                        <td id=\"T_81edcc14_87e2_11e9_afc2_2bccf1bc5391row3_col48\" class=\"data row3 col48\" >it's iron noam chomsky cit massey lect pres cbc the cbc com regul rub part mainstream med \n",
       "\n",
       "while should read watch list med report skept mainstream med least publ retract get wrong when last tim saw retract print macedon teen vil hil clinton less rely alt med breitbart</td>\n",
       "                        <td id=\"T_81edcc14_87e2_11e9_afc2_2bccf1bc5391row3_col49\" class=\"data row3 col49\" >0</td>\n",
       "                        <td id=\"T_81edcc14_87e2_11e9_afc2_2bccf1bc5391row3_col50\" class=\"data row3 col50\" >0</td>\n",
       "                        <td id=\"T_81edcc14_87e2_11e9_afc2_2bccf1bc5391row3_col51\" class=\"data row3 col51\" >0</td>\n",
       "                        <td id=\"T_81edcc14_87e2_11e9_afc2_2bccf1bc5391row3_col52\" class=\"data row3 col52\" >True</td>\n",
       "            </tr>\n",
       "            <tr>\n",
       "                        <th id=\"T_81edcc14_87e2_11e9_afc2_2bccf1bc5391level0_row4\" class=\"row_heading level0 row4\" >15918</th>\n",
       "                        <td id=\"T_81edcc14_87e2_11e9_afc2_2bccf1bc5391row4_col0\" class=\"data row4 col0\" >1049796</td>\n",
       "                        <td id=\"T_81edcc14_87e2_11e9_afc2_2bccf1bc5391row4_col1\" class=\"data row4 col1\" >0.166667</td>\n",
       "                        <td id=\"T_81edcc14_87e2_11e9_afc2_2bccf1bc5391row4_col2\" class=\"data row4 col2\" >I wonder if Instead of 1 small farm dwelling per acre, after all the enforcement and bankruptcies, DR Horton and its lawyers and lobbyists will sweep in and buy these hills at a rock bottom price, get C&C to rezone to high-density residential,  then cover them with asphalt, concrete and 9 large houses per acre. \n",
       "\n",
       "I guess 9 large permitted homes per acre with no farming is an acceptible use of ag land, but farmers having 1 small off-grid ag dwelling or kess per acre is \"abuse\".</td>\n",
       "                        <td id=\"T_81edcc14_87e2_11e9_afc2_2bccf1bc5391row4_col3\" class=\"data row4 col3\" >0</td>\n",
       "                        <td id=\"T_81edcc14_87e2_11e9_afc2_2bccf1bc5391row4_col4\" class=\"data row4 col4\" >0.166667</td>\n",
       "                        <td id=\"T_81edcc14_87e2_11e9_afc2_2bccf1bc5391row4_col5\" class=\"data row4 col5\" >0</td>\n",
       "                        <td id=\"T_81edcc14_87e2_11e9_afc2_2bccf1bc5391row4_col6\" class=\"data row4 col6\" >0</td>\n",
       "                        <td id=\"T_81edcc14_87e2_11e9_afc2_2bccf1bc5391row4_col7\" class=\"data row4 col7\" >0</td>\n",
       "                        <td id=\"T_81edcc14_87e2_11e9_afc2_2bccf1bc5391row4_col8\" class=\"data row4 col8\" >nan</td>\n",
       "                        <td id=\"T_81edcc14_87e2_11e9_afc2_2bccf1bc5391row4_col9\" class=\"data row4 col9\" >nan</td>\n",
       "                        <td id=\"T_81edcc14_87e2_11e9_afc2_2bccf1bc5391row4_col10\" class=\"data row4 col10\" >nan</td>\n",
       "                        <td id=\"T_81edcc14_87e2_11e9_afc2_2bccf1bc5391row4_col11\" class=\"data row4 col11\" >nan</td>\n",
       "                        <td id=\"T_81edcc14_87e2_11e9_afc2_2bccf1bc5391row4_col12\" class=\"data row4 col12\" >nan</td>\n",
       "                        <td id=\"T_81edcc14_87e2_11e9_afc2_2bccf1bc5391row4_col13\" class=\"data row4 col13\" >nan</td>\n",
       "                        <td id=\"T_81edcc14_87e2_11e9_afc2_2bccf1bc5391row4_col14\" class=\"data row4 col14\" >nan</td>\n",
       "                        <td id=\"T_81edcc14_87e2_11e9_afc2_2bccf1bc5391row4_col15\" class=\"data row4 col15\" >nan</td>\n",
       "                        <td id=\"T_81edcc14_87e2_11e9_afc2_2bccf1bc5391row4_col16\" class=\"data row4 col16\" >nan</td>\n",
       "                        <td id=\"T_81edcc14_87e2_11e9_afc2_2bccf1bc5391row4_col17\" class=\"data row4 col17\" >nan</td>\n",
       "                        <td id=\"T_81edcc14_87e2_11e9_afc2_2bccf1bc5391row4_col18\" class=\"data row4 col18\" >nan</td>\n",
       "                        <td id=\"T_81edcc14_87e2_11e9_afc2_2bccf1bc5391row4_col19\" class=\"data row4 col19\" >nan</td>\n",
       "                        <td id=\"T_81edcc14_87e2_11e9_afc2_2bccf1bc5391row4_col20\" class=\"data row4 col20\" >nan</td>\n",
       "                        <td id=\"T_81edcc14_87e2_11e9_afc2_2bccf1bc5391row4_col21\" class=\"data row4 col21\" >nan</td>\n",
       "                        <td id=\"T_81edcc14_87e2_11e9_afc2_2bccf1bc5391row4_col22\" class=\"data row4 col22\" >nan</td>\n",
       "                        <td id=\"T_81edcc14_87e2_11e9_afc2_2bccf1bc5391row4_col23\" class=\"data row4 col23\" >nan</td>\n",
       "                        <td id=\"T_81edcc14_87e2_11e9_afc2_2bccf1bc5391row4_col24\" class=\"data row4 col24\" >nan</td>\n",
       "                        <td id=\"T_81edcc14_87e2_11e9_afc2_2bccf1bc5391row4_col25\" class=\"data row4 col25\" >nan</td>\n",
       "                        <td id=\"T_81edcc14_87e2_11e9_afc2_2bccf1bc5391row4_col26\" class=\"data row4 col26\" >nan</td>\n",
       "                        <td id=\"T_81edcc14_87e2_11e9_afc2_2bccf1bc5391row4_col27\" class=\"data row4 col27\" >nan</td>\n",
       "                        <td id=\"T_81edcc14_87e2_11e9_afc2_2bccf1bc5391row4_col28\" class=\"data row4 col28\" >nan</td>\n",
       "                        <td id=\"T_81edcc14_87e2_11e9_afc2_2bccf1bc5391row4_col29\" class=\"data row4 col29\" >nan</td>\n",
       "                        <td id=\"T_81edcc14_87e2_11e9_afc2_2bccf1bc5391row4_col30\" class=\"data row4 col30\" >nan</td>\n",
       "                        <td id=\"T_81edcc14_87e2_11e9_afc2_2bccf1bc5391row4_col31\" class=\"data row4 col31\" >nan</td>\n",
       "                        <td id=\"T_81edcc14_87e2_11e9_afc2_2bccf1bc5391row4_col32\" class=\"data row4 col32\" >2017-02-27 01:09:20.150406+00</td>\n",
       "                        <td id=\"T_81edcc14_87e2_11e9_afc2_2bccf1bc5391row4_col33\" class=\"data row4 col33\" >55</td>\n",
       "                        <td id=\"T_81edcc14_87e2_11e9_afc2_2bccf1bc5391row4_col34\" class=\"data row4 col34\" >1.04928e+06</td>\n",
       "                        <td id=\"T_81edcc14_87e2_11e9_afc2_2bccf1bc5391row4_col35\" class=\"data row4 col35\" >315145</td>\n",
       "                        <td id=\"T_81edcc14_87e2_11e9_afc2_2bccf1bc5391row4_col36\" class=\"data row4 col36\" >approved</td>\n",
       "                        <td id=\"T_81edcc14_87e2_11e9_afc2_2bccf1bc5391row4_col37\" class=\"data row4 col37\" >0</td>\n",
       "                        <td id=\"T_81edcc14_87e2_11e9_afc2_2bccf1bc5391row4_col38\" class=\"data row4 col38\" >0</td>\n",
       "                        <td id=\"T_81edcc14_87e2_11e9_afc2_2bccf1bc5391row4_col39\" class=\"data row4 col39\" >0</td>\n",
       "                        <td id=\"T_81edcc14_87e2_11e9_afc2_2bccf1bc5391row4_col40\" class=\"data row4 col40\" >0</td>\n",
       "                        <td id=\"T_81edcc14_87e2_11e9_afc2_2bccf1bc5391row4_col41\" class=\"data row4 col41\" >0</td>\n",
       "                        <td id=\"T_81edcc14_87e2_11e9_afc2_2bccf1bc5391row4_col42\" class=\"data row4 col42\" >0</td>\n",
       "                        <td id=\"T_81edcc14_87e2_11e9_afc2_2bccf1bc5391row4_col43\" class=\"data row4 col43\" >0</td>\n",
       "                        <td id=\"T_81edcc14_87e2_11e9_afc2_2bccf1bc5391row4_col44\" class=\"data row4 col44\" >6</td>\n",
       "                        <td id=\"T_81edcc14_87e2_11e9_afc2_2bccf1bc5391row4_col45\" class=\"data row4 col45\" >I wonder if Instead of 1 small farm dwelling per acre after all the enforcement and bankruptcies DR Horton and its lawyers and lobbyists will sweep in and buy these hills at a rock bottom price get C&C to rezone to high density residential  then cover them with asphalt concrete and 9 large houses per acre \n",
       "\n",
       "I guess 9 large permitted homes per acre with no farming is an acceptible use of ag land but farmers having 1 small off grid ag dwelling or kess per acre is abuse</td>\n",
       "                        <td id=\"T_81edcc14_87e2_11e9_afc2_2bccf1bc5391row4_col46\" class=\"data row4 col46\" >i wonder instead 1 small farm dwelling per acre enforcement bankruptcies dr horton lawyers lobbyists sweep buy hills rock bottom price get c&c rezone high density residential cover them asphalt concrete 9 large houses per acre \n",
       "\n",
       "i guess 9 large permitted homes per acre farming acceptible use ag land farmers 1 small grid ag dwelling kess per acre abuse</td>\n",
       "                        <td id=\"T_81edcc14_87e2_11e9_afc2_2bccf1bc5391row4_col47\" class=\"data row4 col47\" >i wonder instead 1 small farm dwell per acr enforc bankruptci dr horton lawyer lobbyist sweep buy hill rock bottom price get c&c rezon high densiti residenti cover them asphalt concret 9 larg hous per acr \n",
       "\n",
       "i guess 9 larg permit home per acr farm accept use ag land farmer 1 small grid ag dwell kess per acr abus</td>\n",
       "                        <td id=\"T_81edcc14_87e2_11e9_afc2_2bccf1bc5391row4_col48\" class=\"data row4 col48\" >i wond instead 1 smal farm dwel per acr enforc bankruptcy dr horton lawy lobby sweep buy hil rock bottom pric get c&c rezon high dens resid cov them asphalt concret 9 larg hous per acr \n",
       "\n",
       "i guess 9 larg permit hom per acr farm accept us ag land farm 1 smal grid ag dwel kess per acr abus</td>\n",
       "                        <td id=\"T_81edcc14_87e2_11e9_afc2_2bccf1bc5391row4_col49\" class=\"data row4 col49\" >0</td>\n",
       "                        <td id=\"T_81edcc14_87e2_11e9_afc2_2bccf1bc5391row4_col50\" class=\"data row4 col50\" >0</td>\n",
       "                        <td id=\"T_81edcc14_87e2_11e9_afc2_2bccf1bc5391row4_col51\" class=\"data row4 col51\" >0</td>\n",
       "                        <td id=\"T_81edcc14_87e2_11e9_afc2_2bccf1bc5391row4_col52\" class=\"data row4 col52\" >True</td>\n",
       "            </tr>\n",
       "            <tr>\n",
       "                        <th id=\"T_81edcc14_87e2_11e9_afc2_2bccf1bc5391level0_row5\" class=\"row_heading level0 row5\" >15919</th>\n",
       "                        <td id=\"T_81edcc14_87e2_11e9_afc2_2bccf1bc5391row5_col0\" class=\"data row5 col0\" >4975588</td>\n",
       "                        <td id=\"T_81edcc14_87e2_11e9_afc2_2bccf1bc5391row5_col1\" class=\"data row5 col1\" >0.166667</td>\n",
       "                        <td id=\"T_81edcc14_87e2_11e9_afc2_2bccf1bc5391row5_col2\" class=\"data row5 col2\" >Very well put.  I remember Montreal in its salad days as Canada's leading business and cultural capital which all ended in 1976 when Levesque and the PQ took power.   In the late 60s and early 70s I had regular business and pleasure trips to Montreal but after 1976 the city lost its head offices and its optimism and its cache with TROC as twenty plus years of obsessing on the separatism question and a related steep economic decline made the city somewhat of a backwater to Toronto which was becoming inclusive and expansive rather than narrow and separatist.  Under the current Liberal premier who actually governs like a conservative, the province and the city are definitely turning around.  Hopefully, the Liberal party hack Codere (sic) who is mayor and who has costly and dumb ideas like making Montreal a sanctuary city will not reverse this hopeful momentum and wreck Montreal as Levesque did.</td>\n",
       "                        <td id=\"T_81edcc14_87e2_11e9_afc2_2bccf1bc5391row5_col3\" class=\"data row5 col3\" >0.166667</td>\n",
       "                        <td id=\"T_81edcc14_87e2_11e9_afc2_2bccf1bc5391row5_col4\" class=\"data row5 col4\" >0</td>\n",
       "                        <td id=\"T_81edcc14_87e2_11e9_afc2_2bccf1bc5391row5_col5\" class=\"data row5 col5\" >0.166667</td>\n",
       "                        <td id=\"T_81edcc14_87e2_11e9_afc2_2bccf1bc5391row5_col6\" class=\"data row5 col6\" >0.166667</td>\n",
       "                        <td id=\"T_81edcc14_87e2_11e9_afc2_2bccf1bc5391row5_col7\" class=\"data row5 col7\" >0</td>\n",
       "                        <td id=\"T_81edcc14_87e2_11e9_afc2_2bccf1bc5391row5_col8\" class=\"data row5 col8\" >nan</td>\n",
       "                        <td id=\"T_81edcc14_87e2_11e9_afc2_2bccf1bc5391row5_col9\" class=\"data row5 col9\" >nan</td>\n",
       "                        <td id=\"T_81edcc14_87e2_11e9_afc2_2bccf1bc5391row5_col10\" class=\"data row5 col10\" >nan</td>\n",
       "                        <td id=\"T_81edcc14_87e2_11e9_afc2_2bccf1bc5391row5_col11\" class=\"data row5 col11\" >nan</td>\n",
       "                        <td id=\"T_81edcc14_87e2_11e9_afc2_2bccf1bc5391row5_col12\" class=\"data row5 col12\" >nan</td>\n",
       "                        <td id=\"T_81edcc14_87e2_11e9_afc2_2bccf1bc5391row5_col13\" class=\"data row5 col13\" >nan</td>\n",
       "                        <td id=\"T_81edcc14_87e2_11e9_afc2_2bccf1bc5391row5_col14\" class=\"data row5 col14\" >nan</td>\n",
       "                        <td id=\"T_81edcc14_87e2_11e9_afc2_2bccf1bc5391row5_col15\" class=\"data row5 col15\" >nan</td>\n",
       "                        <td id=\"T_81edcc14_87e2_11e9_afc2_2bccf1bc5391row5_col16\" class=\"data row5 col16\" >nan</td>\n",
       "                        <td id=\"T_81edcc14_87e2_11e9_afc2_2bccf1bc5391row5_col17\" class=\"data row5 col17\" >nan</td>\n",
       "                        <td id=\"T_81edcc14_87e2_11e9_afc2_2bccf1bc5391row5_col18\" class=\"data row5 col18\" >nan</td>\n",
       "                        <td id=\"T_81edcc14_87e2_11e9_afc2_2bccf1bc5391row5_col19\" class=\"data row5 col19\" >nan</td>\n",
       "                        <td id=\"T_81edcc14_87e2_11e9_afc2_2bccf1bc5391row5_col20\" class=\"data row5 col20\" >nan</td>\n",
       "                        <td id=\"T_81edcc14_87e2_11e9_afc2_2bccf1bc5391row5_col21\" class=\"data row5 col21\" >nan</td>\n",
       "                        <td id=\"T_81edcc14_87e2_11e9_afc2_2bccf1bc5391row5_col22\" class=\"data row5 col22\" >nan</td>\n",
       "                        <td id=\"T_81edcc14_87e2_11e9_afc2_2bccf1bc5391row5_col23\" class=\"data row5 col23\" >nan</td>\n",
       "                        <td id=\"T_81edcc14_87e2_11e9_afc2_2bccf1bc5391row5_col24\" class=\"data row5 col24\" >nan</td>\n",
       "                        <td id=\"T_81edcc14_87e2_11e9_afc2_2bccf1bc5391row5_col25\" class=\"data row5 col25\" >nan</td>\n",
       "                        <td id=\"T_81edcc14_87e2_11e9_afc2_2bccf1bc5391row5_col26\" class=\"data row5 col26\" >nan</td>\n",
       "                        <td id=\"T_81edcc14_87e2_11e9_afc2_2bccf1bc5391row5_col27\" class=\"data row5 col27\" >nan</td>\n",
       "                        <td id=\"T_81edcc14_87e2_11e9_afc2_2bccf1bc5391row5_col28\" class=\"data row5 col28\" >nan</td>\n",
       "                        <td id=\"T_81edcc14_87e2_11e9_afc2_2bccf1bc5391row5_col29\" class=\"data row5 col29\" >nan</td>\n",
       "                        <td id=\"T_81edcc14_87e2_11e9_afc2_2bccf1bc5391row5_col30\" class=\"data row5 col30\" >nan</td>\n",
       "                        <td id=\"T_81edcc14_87e2_11e9_afc2_2bccf1bc5391row5_col31\" class=\"data row5 col31\" >nan</td>\n",
       "                        <td id=\"T_81edcc14_87e2_11e9_afc2_2bccf1bc5391row5_col32\" class=\"data row5 col32\" >2017-03-08 15:06:09.152365+00</td>\n",
       "                        <td id=\"T_81edcc14_87e2_11e9_afc2_2bccf1bc5391row5_col33\" class=\"data row5 col33\" >54</td>\n",
       "                        <td id=\"T_81edcc14_87e2_11e9_afc2_2bccf1bc5391row5_col34\" class=\"data row5 col34\" >1.08443e+06</td>\n",
       "                        <td id=\"T_81edcc14_87e2_11e9_afc2_2bccf1bc5391row5_col35\" class=\"data row5 col35\" >317079</td>\n",
       "                        <td id=\"T_81edcc14_87e2_11e9_afc2_2bccf1bc5391row5_col36\" class=\"data row5 col36\" >approved</td>\n",
       "                        <td id=\"T_81edcc14_87e2_11e9_afc2_2bccf1bc5391row5_col37\" class=\"data row5 col37\" >0</td>\n",
       "                        <td id=\"T_81edcc14_87e2_11e9_afc2_2bccf1bc5391row5_col38\" class=\"data row5 col38\" >0</td>\n",
       "                        <td id=\"T_81edcc14_87e2_11e9_afc2_2bccf1bc5391row5_col39\" class=\"data row5 col39\" >0</td>\n",
       "                        <td id=\"T_81edcc14_87e2_11e9_afc2_2bccf1bc5391row5_col40\" class=\"data row5 col40\" >1</td>\n",
       "                        <td id=\"T_81edcc14_87e2_11e9_afc2_2bccf1bc5391row5_col41\" class=\"data row5 col41\" >0</td>\n",
       "                        <td id=\"T_81edcc14_87e2_11e9_afc2_2bccf1bc5391row5_col42\" class=\"data row5 col42\" >0</td>\n",
       "                        <td id=\"T_81edcc14_87e2_11e9_afc2_2bccf1bc5391row5_col43\" class=\"data row5 col43\" >0</td>\n",
       "                        <td id=\"T_81edcc14_87e2_11e9_afc2_2bccf1bc5391row5_col44\" class=\"data row5 col44\" >6</td>\n",
       "                        <td id=\"T_81edcc14_87e2_11e9_afc2_2bccf1bc5391row5_col45\" class=\"data row5 col45\" >Very well put  I remember Montreal in its salad days as Canada's leading business and cultural capital which all ended in 1976 when Levesque and the PQ took power   In the late 60s and early 70s I had regular business and pleasure trips to Montreal but after 1976 the city lost its head offices and its optimism and its cache with TROC as twenty plus years of obsessing on the separatism question and a related steep economic decline made the city somewhat of a backwater to Toronto which was becoming inclusive and expansive rather than narrow and separatist  Under the current Liberal premier who actually governs like a conservative the province and the city are definitely turning around  Hopefully the Liberal party hack Codere sic who is mayor and who has costly and dumb ideas like making Montreal a sanctuary city will not reverse this hopeful momentum and wreck Montreal as Levesque did</td>\n",
       "                        <td id=\"T_81edcc14_87e2_11e9_afc2_2bccf1bc5391row5_col46\" class=\"data row5 col46\" >very well put i remember montreal salad days canada's leading business cultural capital ended 1976 levesque pq took power in late 60s early 70s i regular business pleasure trips montreal 1976 city lost head offices optimism cache troc twenty plus years obsessing separatism question related steep economic decline made city somewhat backwater toronto becoming inclusive expansive rather narrow separatist under current liberal premier actually governs like conservative province city definitely turning around hopefully liberal party hack codere sic mayor costly dumb ideas like making montreal sanctuary city not reverse hopeful momentum wreck montreal levesque</td>\n",
       "                        <td id=\"T_81edcc14_87e2_11e9_afc2_2bccf1bc5391row5_col47\" class=\"data row5 col47\" >veri well put i rememb montreal salad day canada' lead busi cultur capit end 1976 levesqu pq took power in late 60 earli 70 i regular busi pleasur trip montreal 1976 citi lost head offic optim cach troc twenti plu year obsess separat question relat steep econom declin made citi somewhat backwat toronto becom inclus expans rather narrow separatist under current liber premier actual govern like conserv provinc citi definit turn around hope liber parti hack coder sic mayor costli dumb idea like make montreal sanctuari citi not revers hope momentum wreck montreal levesqu</td>\n",
       "                        <td id=\"T_81edcc14_87e2_11e9_afc2_2bccf1bc5391row5_col48\" class=\"data row5 col48\" >very wel put i rememb mont salad day canada's lead busy cult capit end 1976 levesqu pq took pow in lat 60s ear 70s i regul busy pleas trip mont 1976 city lost head off optim cach troc twenty plu year obsess sep quest rel steep econom declin mad city somewh backw toronto becom includ expand rath narrow sep und cur lib premy act govern lik conserv provint city definit turn around hop lib party hack cod sic may cost dumb idea lik mak mont sanctu city not revers hop moment wreck mont levesqu</td>\n",
       "                        <td id=\"T_81edcc14_87e2_11e9_afc2_2bccf1bc5391row5_col49\" class=\"data row5 col49\" >0</td>\n",
       "                        <td id=\"T_81edcc14_87e2_11e9_afc2_2bccf1bc5391row5_col50\" class=\"data row5 col50\" >0</td>\n",
       "                        <td id=\"T_81edcc14_87e2_11e9_afc2_2bccf1bc5391row5_col51\" class=\"data row5 col51\" >0</td>\n",
       "                        <td id=\"T_81edcc14_87e2_11e9_afc2_2bccf1bc5391row5_col52\" class=\"data row5 col52\" >True</td>\n",
       "            </tr>\n",
       "            <tr>\n",
       "                        <th id=\"T_81edcc14_87e2_11e9_afc2_2bccf1bc5391level0_row6\" class=\"row_heading level0 row6\" >15920</th>\n",
       "                        <td id=\"T_81edcc14_87e2_11e9_afc2_2bccf1bc5391row6_col0\" class=\"data row6 col0\" >1080153</td>\n",
       "                        <td id=\"T_81edcc14_87e2_11e9_afc2_2bccf1bc5391row6_col1\" class=\"data row6 col1\" >0.642857</td>\n",
       "                        <td id=\"T_81edcc14_87e2_11e9_afc2_2bccf1bc5391row6_col2\" class=\"data row6 col2\" >Ha ! \"Islamphobia\" sounds like some type of disease......!! The only problem with that word is that it's so absurd.... It sounds stupid and once again Muslims are being partitioned out....</td>\n",
       "                        <td id=\"T_81edcc14_87e2_11e9_afc2_2bccf1bc5391row6_col3\" class=\"data row6 col3\" >0.0285714</td>\n",
       "                        <td id=\"T_81edcc14_87e2_11e9_afc2_2bccf1bc5391row6_col4\" class=\"data row6 col4\" >0.0857143</td>\n",
       "                        <td id=\"T_81edcc14_87e2_11e9_afc2_2bccf1bc5391row6_col5\" class=\"data row6 col5\" >0.371429</td>\n",
       "                        <td id=\"T_81edcc14_87e2_11e9_afc2_2bccf1bc5391row6_col6\" class=\"data row6 col6\" >0.585714</td>\n",
       "                        <td id=\"T_81edcc14_87e2_11e9_afc2_2bccf1bc5391row6_col7\" class=\"data row6 col7\" >0</td>\n",
       "                        <td id=\"T_81edcc14_87e2_11e9_afc2_2bccf1bc5391row6_col8\" class=\"data row6 col8\" >0</td>\n",
       "                        <td id=\"T_81edcc14_87e2_11e9_afc2_2bccf1bc5391row6_col9\" class=\"data row6 col9\" >0</td>\n",
       "                        <td id=\"T_81edcc14_87e2_11e9_afc2_2bccf1bc5391row6_col10\" class=\"data row6 col10\" >0</td>\n",
       "                        <td id=\"T_81edcc14_87e2_11e9_afc2_2bccf1bc5391row6_col11\" class=\"data row6 col11\" >0</td>\n",
       "                        <td id=\"T_81edcc14_87e2_11e9_afc2_2bccf1bc5391row6_col12\" class=\"data row6 col12\" >0</td>\n",
       "                        <td id=\"T_81edcc14_87e2_11e9_afc2_2bccf1bc5391row6_col13\" class=\"data row6 col13\" >0</td>\n",
       "                        <td id=\"T_81edcc14_87e2_11e9_afc2_2bccf1bc5391row6_col14\" class=\"data row6 col14\" >0</td>\n",
       "                        <td id=\"T_81edcc14_87e2_11e9_afc2_2bccf1bc5391row6_col15\" class=\"data row6 col15\" >0</td>\n",
       "                        <td id=\"T_81edcc14_87e2_11e9_afc2_2bccf1bc5391row6_col16\" class=\"data row6 col16\" >0</td>\n",
       "                        <td id=\"T_81edcc14_87e2_11e9_afc2_2bccf1bc5391row6_col17\" class=\"data row6 col17\" >0</td>\n",
       "                        <td id=\"T_81edcc14_87e2_11e9_afc2_2bccf1bc5391row6_col18\" class=\"data row6 col18\" >0</td>\n",
       "                        <td id=\"T_81edcc14_87e2_11e9_afc2_2bccf1bc5391row6_col19\" class=\"data row6 col19\" >0</td>\n",
       "                        <td id=\"T_81edcc14_87e2_11e9_afc2_2bccf1bc5391row6_col20\" class=\"data row6 col20\" >0</td>\n",
       "                        <td id=\"T_81edcc14_87e2_11e9_afc2_2bccf1bc5391row6_col21\" class=\"data row6 col21\" >0</td>\n",
       "                        <td id=\"T_81edcc14_87e2_11e9_afc2_2bccf1bc5391row6_col22\" class=\"data row6 col22\" >1</td>\n",
       "                        <td id=\"T_81edcc14_87e2_11e9_afc2_2bccf1bc5391row6_col23\" class=\"data row6 col23\" >0</td>\n",
       "                        <td id=\"T_81edcc14_87e2_11e9_afc2_2bccf1bc5391row6_col24\" class=\"data row6 col24\" >0</td>\n",
       "                        <td id=\"T_81edcc14_87e2_11e9_afc2_2bccf1bc5391row6_col25\" class=\"data row6 col25\" >0</td>\n",
       "                        <td id=\"T_81edcc14_87e2_11e9_afc2_2bccf1bc5391row6_col26\" class=\"data row6 col26\" >0</td>\n",
       "                        <td id=\"T_81edcc14_87e2_11e9_afc2_2bccf1bc5391row6_col27\" class=\"data row6 col27\" >0</td>\n",
       "                        <td id=\"T_81edcc14_87e2_11e9_afc2_2bccf1bc5391row6_col28\" class=\"data row6 col28\" >0</td>\n",
       "                        <td id=\"T_81edcc14_87e2_11e9_afc2_2bccf1bc5391row6_col29\" class=\"data row6 col29\" >0</td>\n",
       "                        <td id=\"T_81edcc14_87e2_11e9_afc2_2bccf1bc5391row6_col30\" class=\"data row6 col30\" >0</td>\n",
       "                        <td id=\"T_81edcc14_87e2_11e9_afc2_2bccf1bc5391row6_col31\" class=\"data row6 col31\" >0</td>\n",
       "                        <td id=\"T_81edcc14_87e2_11e9_afc2_2bccf1bc5391row6_col32\" class=\"data row6 col32\" >2017-03-05 15:06:16.618239+00</td>\n",
       "                        <td id=\"T_81edcc14_87e2_11e9_afc2_2bccf1bc5391row6_col33\" class=\"data row6 col33\" >54</td>\n",
       "                        <td id=\"T_81edcc14_87e2_11e9_afc2_2bccf1bc5391row6_col34\" class=\"data row6 col34\" >1.08004e+06</td>\n",
       "                        <td id=\"T_81edcc14_87e2_11e9_afc2_2bccf1bc5391row6_col35\" class=\"data row6 col35\" >316912</td>\n",
       "                        <td id=\"T_81edcc14_87e2_11e9_afc2_2bccf1bc5391row6_col36\" class=\"data row6 col36\" >approved</td>\n",
       "                        <td id=\"T_81edcc14_87e2_11e9_afc2_2bccf1bc5391row6_col37\" class=\"data row6 col37\" >0</td>\n",
       "                        <td id=\"T_81edcc14_87e2_11e9_afc2_2bccf1bc5391row6_col38\" class=\"data row6 col38\" >0</td>\n",
       "                        <td id=\"T_81edcc14_87e2_11e9_afc2_2bccf1bc5391row6_col39\" class=\"data row6 col39\" >0</td>\n",
       "                        <td id=\"T_81edcc14_87e2_11e9_afc2_2bccf1bc5391row6_col40\" class=\"data row6 col40\" >1</td>\n",
       "                        <td id=\"T_81edcc14_87e2_11e9_afc2_2bccf1bc5391row6_col41\" class=\"data row6 col41\" >0</td>\n",
       "                        <td id=\"T_81edcc14_87e2_11e9_afc2_2bccf1bc5391row6_col42\" class=\"data row6 col42\" >0</td>\n",
       "                        <td id=\"T_81edcc14_87e2_11e9_afc2_2bccf1bc5391row6_col43\" class=\"data row6 col43\" >4</td>\n",
       "                        <td id=\"T_81edcc14_87e2_11e9_afc2_2bccf1bc5391row6_col44\" class=\"data row6 col44\" >70</td>\n",
       "                        <td id=\"T_81edcc14_87e2_11e9_afc2_2bccf1bc5391row6_col45\" class=\"data row6 col45\" >Ha  Islamphobia sounds like some type of disease The only problem with that word is that it's so absurd It sounds stupid and once again Muslims are being partitioned out</td>\n",
       "                        <td id=\"T_81edcc14_87e2_11e9_afc2_2bccf1bc5391row6_col46\" class=\"data row6 col46\" >ha islamphobia sounds like type disease the problem word absurd it sounds stupid muslims partitioned</td>\n",
       "                        <td id=\"T_81edcc14_87e2_11e9_afc2_2bccf1bc5391row6_col47\" class=\"data row6 col47\" >ha islamphobia sound like type diseas the problem word absurd it sound stupid muslim partit</td>\n",
       "                        <td id=\"T_81edcc14_87e2_11e9_afc2_2bccf1bc5391row6_col48\" class=\"data row6 col48\" >ha islamphob sound lik typ diseas the problem word absurd it sound stupid muslim partit</td>\n",
       "                        <td id=\"T_81edcc14_87e2_11e9_afc2_2bccf1bc5391row6_col49\" class=\"data row6 col49\" >1</td>\n",
       "                        <td id=\"T_81edcc14_87e2_11e9_afc2_2bccf1bc5391row6_col50\" class=\"data row6 col50\" >1</td>\n",
       "                        <td id=\"T_81edcc14_87e2_11e9_afc2_2bccf1bc5391row6_col51\" class=\"data row6 col51\" >1</td>\n",
       "                        <td id=\"T_81edcc14_87e2_11e9_afc2_2bccf1bc5391row6_col52\" class=\"data row6 col52\" >True</td>\n",
       "            </tr>\n",
       "            <tr>\n",
       "                        <th id=\"T_81edcc14_87e2_11e9_afc2_2bccf1bc5391level0_row7\" class=\"row_heading level0 row7\" >15921</th>\n",
       "                        <td id=\"T_81edcc14_87e2_11e9_afc2_2bccf1bc5391row7_col0\" class=\"data row7 col0\" >1006645</td>\n",
       "                        <td id=\"T_81edcc14_87e2_11e9_afc2_2bccf1bc5391row7_col1\" class=\"data row7 col1\" >0</td>\n",
       "                        <td id=\"T_81edcc14_87e2_11e9_afc2_2bccf1bc5391row7_col2\" class=\"data row7 col2\" >Thank you for the court reference. Here's more: https://en.wikipedia.org/wiki/Morse_v._Frederick</td>\n",
       "                        <td id=\"T_81edcc14_87e2_11e9_afc2_2bccf1bc5391row7_col3\" class=\"data row7 col3\" >0</td>\n",
       "                        <td id=\"T_81edcc14_87e2_11e9_afc2_2bccf1bc5391row7_col4\" class=\"data row7 col4\" >0</td>\n",
       "                        <td id=\"T_81edcc14_87e2_11e9_afc2_2bccf1bc5391row7_col5\" class=\"data row7 col5\" >0</td>\n",
       "                        <td id=\"T_81edcc14_87e2_11e9_afc2_2bccf1bc5391row7_col6\" class=\"data row7 col6\" >0</td>\n",
       "                        <td id=\"T_81edcc14_87e2_11e9_afc2_2bccf1bc5391row7_col7\" class=\"data row7 col7\" >0</td>\n",
       "                        <td id=\"T_81edcc14_87e2_11e9_afc2_2bccf1bc5391row7_col8\" class=\"data row7 col8\" >nan</td>\n",
       "                        <td id=\"T_81edcc14_87e2_11e9_afc2_2bccf1bc5391row7_col9\" class=\"data row7 col9\" >nan</td>\n",
       "                        <td id=\"T_81edcc14_87e2_11e9_afc2_2bccf1bc5391row7_col10\" class=\"data row7 col10\" >nan</td>\n",
       "                        <td id=\"T_81edcc14_87e2_11e9_afc2_2bccf1bc5391row7_col11\" class=\"data row7 col11\" >nan</td>\n",
       "                        <td id=\"T_81edcc14_87e2_11e9_afc2_2bccf1bc5391row7_col12\" class=\"data row7 col12\" >nan</td>\n",
       "                        <td id=\"T_81edcc14_87e2_11e9_afc2_2bccf1bc5391row7_col13\" class=\"data row7 col13\" >nan</td>\n",
       "                        <td id=\"T_81edcc14_87e2_11e9_afc2_2bccf1bc5391row7_col14\" class=\"data row7 col14\" >nan</td>\n",
       "                        <td id=\"T_81edcc14_87e2_11e9_afc2_2bccf1bc5391row7_col15\" class=\"data row7 col15\" >nan</td>\n",
       "                        <td id=\"T_81edcc14_87e2_11e9_afc2_2bccf1bc5391row7_col16\" class=\"data row7 col16\" >nan</td>\n",
       "                        <td id=\"T_81edcc14_87e2_11e9_afc2_2bccf1bc5391row7_col17\" class=\"data row7 col17\" >nan</td>\n",
       "                        <td id=\"T_81edcc14_87e2_11e9_afc2_2bccf1bc5391row7_col18\" class=\"data row7 col18\" >nan</td>\n",
       "                        <td id=\"T_81edcc14_87e2_11e9_afc2_2bccf1bc5391row7_col19\" class=\"data row7 col19\" >nan</td>\n",
       "                        <td id=\"T_81edcc14_87e2_11e9_afc2_2bccf1bc5391row7_col20\" class=\"data row7 col20\" >nan</td>\n",
       "                        <td id=\"T_81edcc14_87e2_11e9_afc2_2bccf1bc5391row7_col21\" class=\"data row7 col21\" >nan</td>\n",
       "                        <td id=\"T_81edcc14_87e2_11e9_afc2_2bccf1bc5391row7_col22\" class=\"data row7 col22\" >nan</td>\n",
       "                        <td id=\"T_81edcc14_87e2_11e9_afc2_2bccf1bc5391row7_col23\" class=\"data row7 col23\" >nan</td>\n",
       "                        <td id=\"T_81edcc14_87e2_11e9_afc2_2bccf1bc5391row7_col24\" class=\"data row7 col24\" >nan</td>\n",
       "                        <td id=\"T_81edcc14_87e2_11e9_afc2_2bccf1bc5391row7_col25\" class=\"data row7 col25\" >nan</td>\n",
       "                        <td id=\"T_81edcc14_87e2_11e9_afc2_2bccf1bc5391row7_col26\" class=\"data row7 col26\" >nan</td>\n",
       "                        <td id=\"T_81edcc14_87e2_11e9_afc2_2bccf1bc5391row7_col27\" class=\"data row7 col27\" >nan</td>\n",
       "                        <td id=\"T_81edcc14_87e2_11e9_afc2_2bccf1bc5391row7_col28\" class=\"data row7 col28\" >nan</td>\n",
       "                        <td id=\"T_81edcc14_87e2_11e9_afc2_2bccf1bc5391row7_col29\" class=\"data row7 col29\" >nan</td>\n",
       "                        <td id=\"T_81edcc14_87e2_11e9_afc2_2bccf1bc5391row7_col30\" class=\"data row7 col30\" >nan</td>\n",
       "                        <td id=\"T_81edcc14_87e2_11e9_afc2_2bccf1bc5391row7_col31\" class=\"data row7 col31\" >nan</td>\n",
       "                        <td id=\"T_81edcc14_87e2_11e9_afc2_2bccf1bc5391row7_col32\" class=\"data row7 col32\" >2017-02-17 10:23:26.990741+00</td>\n",
       "                        <td id=\"T_81edcc14_87e2_11e9_afc2_2bccf1bc5391row7_col33\" class=\"data row7 col33\" >21</td>\n",
       "                        <td id=\"T_81edcc14_87e2_11e9_afc2_2bccf1bc5391row7_col34\" class=\"data row7 col34\" >1.00414e+06</td>\n",
       "                        <td id=\"T_81edcc14_87e2_11e9_afc2_2bccf1bc5391row7_col35\" class=\"data row7 col35\" >168544</td>\n",
       "                        <td id=\"T_81edcc14_87e2_11e9_afc2_2bccf1bc5391row7_col36\" class=\"data row7 col36\" >approved</td>\n",
       "                        <td id=\"T_81edcc14_87e2_11e9_afc2_2bccf1bc5391row7_col37\" class=\"data row7 col37\" >0</td>\n",
       "                        <td id=\"T_81edcc14_87e2_11e9_afc2_2bccf1bc5391row7_col38\" class=\"data row7 col38\" >0</td>\n",
       "                        <td id=\"T_81edcc14_87e2_11e9_afc2_2bccf1bc5391row7_col39\" class=\"data row7 col39\" >0</td>\n",
       "                        <td id=\"T_81edcc14_87e2_11e9_afc2_2bccf1bc5391row7_col40\" class=\"data row7 col40\" >0</td>\n",
       "                        <td id=\"T_81edcc14_87e2_11e9_afc2_2bccf1bc5391row7_col41\" class=\"data row7 col41\" >0</td>\n",
       "                        <td id=\"T_81edcc14_87e2_11e9_afc2_2bccf1bc5391row7_col42\" class=\"data row7 col42\" >0</td>\n",
       "                        <td id=\"T_81edcc14_87e2_11e9_afc2_2bccf1bc5391row7_col43\" class=\"data row7 col43\" >0</td>\n",
       "                        <td id=\"T_81edcc14_87e2_11e9_afc2_2bccf1bc5391row7_col44\" class=\"data row7 col44\" >4</td>\n",
       "                        <td id=\"T_81edcc14_87e2_11e9_afc2_2bccf1bc5391row7_col45\" class=\"data row7 col45\" >Thank you for the court reference Here's more https://en.wikipedia.org/wiki/Morse_v._Frederick</td>\n",
       "                        <td id=\"T_81edcc14_87e2_11e9_afc2_2bccf1bc5391row7_col46\" class=\"data row7 col46\" >thank court reference here's https://en.wikipedia.org/wiki/morse_v._frederick</td>\n",
       "                        <td id=\"T_81edcc14_87e2_11e9_afc2_2bccf1bc5391row7_col47\" class=\"data row7 col47\" >thank court refer here' https://en.wikipedia.org/wiki/morse_v._frederick</td>\n",
       "                        <td id=\"T_81edcc14_87e2_11e9_afc2_2bccf1bc5391row7_col48\" class=\"data row7 col48\" >thank court ref here's https://en.wikipedia.org/wiki/morse_v._frederick</td>\n",
       "                        <td id=\"T_81edcc14_87e2_11e9_afc2_2bccf1bc5391row7_col49\" class=\"data row7 col49\" >0</td>\n",
       "                        <td id=\"T_81edcc14_87e2_11e9_afc2_2bccf1bc5391row7_col50\" class=\"data row7 col50\" >0</td>\n",
       "                        <td id=\"T_81edcc14_87e2_11e9_afc2_2bccf1bc5391row7_col51\" class=\"data row7 col51\" >0</td>\n",
       "                        <td id=\"T_81edcc14_87e2_11e9_afc2_2bccf1bc5391row7_col52\" class=\"data row7 col52\" >True</td>\n",
       "            </tr>\n",
       "            <tr>\n",
       "                        <th id=\"T_81edcc14_87e2_11e9_afc2_2bccf1bc5391level0_row8\" class=\"row_heading level0 row8\" >15922</th>\n",
       "                        <td id=\"T_81edcc14_87e2_11e9_afc2_2bccf1bc5391row8_col0\" class=\"data row8 col0\" >1010278</td>\n",
       "                        <td id=\"T_81edcc14_87e2_11e9_afc2_2bccf1bc5391row8_col1\" class=\"data row8 col1\" >0.732394</td>\n",
       "                        <td id=\"T_81edcc14_87e2_11e9_afc2_2bccf1bc5391row8_col2\" class=\"data row8 col2\" >GOD forbid, but Richard, maybe someday it will be your house next or your family member in nasty car accident on fire. Then you may get some understanding of the stupid things you put in print!</td>\n",
       "                        <td id=\"T_81edcc14_87e2_11e9_afc2_2bccf1bc5391row8_col3\" class=\"data row8 col3\" >0</td>\n",
       "                        <td id=\"T_81edcc14_87e2_11e9_afc2_2bccf1bc5391row8_col4\" class=\"data row8 col4\" >0.140845</td>\n",
       "                        <td id=\"T_81edcc14_87e2_11e9_afc2_2bccf1bc5391row8_col5\" class=\"data row8 col5\" >0</td>\n",
       "                        <td id=\"T_81edcc14_87e2_11e9_afc2_2bccf1bc5391row8_col6\" class=\"data row8 col6\" >0.676056</td>\n",
       "                        <td id=\"T_81edcc14_87e2_11e9_afc2_2bccf1bc5391row8_col7\" class=\"data row8 col7\" >0.0985915</td>\n",
       "                        <td id=\"T_81edcc14_87e2_11e9_afc2_2bccf1bc5391row8_col8\" class=\"data row8 col8\" >nan</td>\n",
       "                        <td id=\"T_81edcc14_87e2_11e9_afc2_2bccf1bc5391row8_col9\" class=\"data row8 col9\" >nan</td>\n",
       "                        <td id=\"T_81edcc14_87e2_11e9_afc2_2bccf1bc5391row8_col10\" class=\"data row8 col10\" >nan</td>\n",
       "                        <td id=\"T_81edcc14_87e2_11e9_afc2_2bccf1bc5391row8_col11\" class=\"data row8 col11\" >nan</td>\n",
       "                        <td id=\"T_81edcc14_87e2_11e9_afc2_2bccf1bc5391row8_col12\" class=\"data row8 col12\" >nan</td>\n",
       "                        <td id=\"T_81edcc14_87e2_11e9_afc2_2bccf1bc5391row8_col13\" class=\"data row8 col13\" >nan</td>\n",
       "                        <td id=\"T_81edcc14_87e2_11e9_afc2_2bccf1bc5391row8_col14\" class=\"data row8 col14\" >nan</td>\n",
       "                        <td id=\"T_81edcc14_87e2_11e9_afc2_2bccf1bc5391row8_col15\" class=\"data row8 col15\" >nan</td>\n",
       "                        <td id=\"T_81edcc14_87e2_11e9_afc2_2bccf1bc5391row8_col16\" class=\"data row8 col16\" >nan</td>\n",
       "                        <td id=\"T_81edcc14_87e2_11e9_afc2_2bccf1bc5391row8_col17\" class=\"data row8 col17\" >nan</td>\n",
       "                        <td id=\"T_81edcc14_87e2_11e9_afc2_2bccf1bc5391row8_col18\" class=\"data row8 col18\" >nan</td>\n",
       "                        <td id=\"T_81edcc14_87e2_11e9_afc2_2bccf1bc5391row8_col19\" class=\"data row8 col19\" >nan</td>\n",
       "                        <td id=\"T_81edcc14_87e2_11e9_afc2_2bccf1bc5391row8_col20\" class=\"data row8 col20\" >nan</td>\n",
       "                        <td id=\"T_81edcc14_87e2_11e9_afc2_2bccf1bc5391row8_col21\" class=\"data row8 col21\" >nan</td>\n",
       "                        <td id=\"T_81edcc14_87e2_11e9_afc2_2bccf1bc5391row8_col22\" class=\"data row8 col22\" >nan</td>\n",
       "                        <td id=\"T_81edcc14_87e2_11e9_afc2_2bccf1bc5391row8_col23\" class=\"data row8 col23\" >nan</td>\n",
       "                        <td id=\"T_81edcc14_87e2_11e9_afc2_2bccf1bc5391row8_col24\" class=\"data row8 col24\" >nan</td>\n",
       "                        <td id=\"T_81edcc14_87e2_11e9_afc2_2bccf1bc5391row8_col25\" class=\"data row8 col25\" >nan</td>\n",
       "                        <td id=\"T_81edcc14_87e2_11e9_afc2_2bccf1bc5391row8_col26\" class=\"data row8 col26\" >nan</td>\n",
       "                        <td id=\"T_81edcc14_87e2_11e9_afc2_2bccf1bc5391row8_col27\" class=\"data row8 col27\" >nan</td>\n",
       "                        <td id=\"T_81edcc14_87e2_11e9_afc2_2bccf1bc5391row8_col28\" class=\"data row8 col28\" >nan</td>\n",
       "                        <td id=\"T_81edcc14_87e2_11e9_afc2_2bccf1bc5391row8_col29\" class=\"data row8 col29\" >nan</td>\n",
       "                        <td id=\"T_81edcc14_87e2_11e9_afc2_2bccf1bc5391row8_col30\" class=\"data row8 col30\" >nan</td>\n",
       "                        <td id=\"T_81edcc14_87e2_11e9_afc2_2bccf1bc5391row8_col31\" class=\"data row8 col31\" >nan</td>\n",
       "                        <td id=\"T_81edcc14_87e2_11e9_afc2_2bccf1bc5391row8_col32\" class=\"data row8 col32\" >2017-02-17 22:48:36.914757+00</td>\n",
       "                        <td id=\"T_81edcc14_87e2_11e9_afc2_2bccf1bc5391row8_col33\" class=\"data row8 col33\" >21</td>\n",
       "                        <td id=\"T_81edcc14_87e2_11e9_afc2_2bccf1bc5391row8_col34\" class=\"data row8 col34\" >1.00723e+06</td>\n",
       "                        <td id=\"T_81edcc14_87e2_11e9_afc2_2bccf1bc5391row8_col35\" class=\"data row8 col35\" >168752</td>\n",
       "                        <td id=\"T_81edcc14_87e2_11e9_afc2_2bccf1bc5391row8_col36\" class=\"data row8 col36\" >approved</td>\n",
       "                        <td id=\"T_81edcc14_87e2_11e9_afc2_2bccf1bc5391row8_col37\" class=\"data row8 col37\" >0</td>\n",
       "                        <td id=\"T_81edcc14_87e2_11e9_afc2_2bccf1bc5391row8_col38\" class=\"data row8 col38\" >0</td>\n",
       "                        <td id=\"T_81edcc14_87e2_11e9_afc2_2bccf1bc5391row8_col39\" class=\"data row8 col39\" >0</td>\n",
       "                        <td id=\"T_81edcc14_87e2_11e9_afc2_2bccf1bc5391row8_col40\" class=\"data row8 col40\" >1</td>\n",
       "                        <td id=\"T_81edcc14_87e2_11e9_afc2_2bccf1bc5391row8_col41\" class=\"data row8 col41\" >0</td>\n",
       "                        <td id=\"T_81edcc14_87e2_11e9_afc2_2bccf1bc5391row8_col42\" class=\"data row8 col42\" >0</td>\n",
       "                        <td id=\"T_81edcc14_87e2_11e9_afc2_2bccf1bc5391row8_col43\" class=\"data row8 col43\" >0</td>\n",
       "                        <td id=\"T_81edcc14_87e2_11e9_afc2_2bccf1bc5391row8_col44\" class=\"data row8 col44\" >71</td>\n",
       "                        <td id=\"T_81edcc14_87e2_11e9_afc2_2bccf1bc5391row8_col45\" class=\"data row8 col45\" >GOD forbid but Richard maybe someday it will be your house next or your family member in nasty car accident on fire Then you may get some understanding of the stupid things you put in print</td>\n",
       "                        <td id=\"T_81edcc14_87e2_11e9_afc2_2bccf1bc5391row8_col46\" class=\"data row8 col46\" >god forbid richard maybe someday house next family member nasty car accident fire then may get understanding stupid things put print</td>\n",
       "                        <td id=\"T_81edcc14_87e2_11e9_afc2_2bccf1bc5391row8_col47\" class=\"data row8 col47\" >god forbid richard mayb someday hous next famili member nasti car accid fire then may get understand stupid thing put print</td>\n",
       "                        <td id=\"T_81edcc14_87e2_11e9_afc2_2bccf1bc5391row8_col48\" class=\"data row8 col48\" >god forbid richard mayb someday hous next famy memb nasty car accid fir then may get understand stupid thing put print</td>\n",
       "                        <td id=\"T_81edcc14_87e2_11e9_afc2_2bccf1bc5391row8_col49\" class=\"data row8 col49\" >1</td>\n",
       "                        <td id=\"T_81edcc14_87e2_11e9_afc2_2bccf1bc5391row8_col50\" class=\"data row8 col50\" >1</td>\n",
       "                        <td id=\"T_81edcc14_87e2_11e9_afc2_2bccf1bc5391row8_col51\" class=\"data row8 col51\" >1</td>\n",
       "                        <td id=\"T_81edcc14_87e2_11e9_afc2_2bccf1bc5391row8_col52\" class=\"data row8 col52\" >True</td>\n",
       "            </tr>\n",
       "            <tr>\n",
       "                        <th id=\"T_81edcc14_87e2_11e9_afc2_2bccf1bc5391level0_row9\" class=\"row_heading level0 row9\" >15923</th>\n",
       "                        <td id=\"T_81edcc14_87e2_11e9_afc2_2bccf1bc5391row9_col0\" class=\"data row9 col0\" >4966128</td>\n",
       "                        <td id=\"T_81edcc14_87e2_11e9_afc2_2bccf1bc5391row9_col1\" class=\"data row9 col1\" >0.775862</td>\n",
       "                        <td id=\"T_81edcc14_87e2_11e9_afc2_2bccf1bc5391row9_col2\" class=\"data row9 col2\" >and yet another hate trump based stupid post,, no it is to ensure no phony can get in from countries that have no reliable or functioning government thus open to false paperwork you ignorant lefty,, you have been clearly trained by the hate left</td>\n",
       "                        <td id=\"T_81edcc14_87e2_11e9_afc2_2bccf1bc5391row9_col3\" class=\"data row9 col3\" >0.0172414</td>\n",
       "                        <td id=\"T_81edcc14_87e2_11e9_afc2_2bccf1bc5391row9_col4\" class=\"data row9 col4\" >0.0517241</td>\n",
       "                        <td id=\"T_81edcc14_87e2_11e9_afc2_2bccf1bc5391row9_col5\" class=\"data row9 col5\" >0.0344828</td>\n",
       "                        <td id=\"T_81edcc14_87e2_11e9_afc2_2bccf1bc5391row9_col6\" class=\"data row9 col6\" >0.724138</td>\n",
       "                        <td id=\"T_81edcc14_87e2_11e9_afc2_2bccf1bc5391row9_col7\" class=\"data row9 col7\" >0</td>\n",
       "                        <td id=\"T_81edcc14_87e2_11e9_afc2_2bccf1bc5391row9_col8\" class=\"data row9 col8\" >nan</td>\n",
       "                        <td id=\"T_81edcc14_87e2_11e9_afc2_2bccf1bc5391row9_col9\" class=\"data row9 col9\" >nan</td>\n",
       "                        <td id=\"T_81edcc14_87e2_11e9_afc2_2bccf1bc5391row9_col10\" class=\"data row9 col10\" >nan</td>\n",
       "                        <td id=\"T_81edcc14_87e2_11e9_afc2_2bccf1bc5391row9_col11\" class=\"data row9 col11\" >nan</td>\n",
       "                        <td id=\"T_81edcc14_87e2_11e9_afc2_2bccf1bc5391row9_col12\" class=\"data row9 col12\" >nan</td>\n",
       "                        <td id=\"T_81edcc14_87e2_11e9_afc2_2bccf1bc5391row9_col13\" class=\"data row9 col13\" >nan</td>\n",
       "                        <td id=\"T_81edcc14_87e2_11e9_afc2_2bccf1bc5391row9_col14\" class=\"data row9 col14\" >nan</td>\n",
       "                        <td id=\"T_81edcc14_87e2_11e9_afc2_2bccf1bc5391row9_col15\" class=\"data row9 col15\" >nan</td>\n",
       "                        <td id=\"T_81edcc14_87e2_11e9_afc2_2bccf1bc5391row9_col16\" class=\"data row9 col16\" >nan</td>\n",
       "                        <td id=\"T_81edcc14_87e2_11e9_afc2_2bccf1bc5391row9_col17\" class=\"data row9 col17\" >nan</td>\n",
       "                        <td id=\"T_81edcc14_87e2_11e9_afc2_2bccf1bc5391row9_col18\" class=\"data row9 col18\" >nan</td>\n",
       "                        <td id=\"T_81edcc14_87e2_11e9_afc2_2bccf1bc5391row9_col19\" class=\"data row9 col19\" >nan</td>\n",
       "                        <td id=\"T_81edcc14_87e2_11e9_afc2_2bccf1bc5391row9_col20\" class=\"data row9 col20\" >nan</td>\n",
       "                        <td id=\"T_81edcc14_87e2_11e9_afc2_2bccf1bc5391row9_col21\" class=\"data row9 col21\" >nan</td>\n",
       "                        <td id=\"T_81edcc14_87e2_11e9_afc2_2bccf1bc5391row9_col22\" class=\"data row9 col22\" >nan</td>\n",
       "                        <td id=\"T_81edcc14_87e2_11e9_afc2_2bccf1bc5391row9_col23\" class=\"data row9 col23\" >nan</td>\n",
       "                        <td id=\"T_81edcc14_87e2_11e9_afc2_2bccf1bc5391row9_col24\" class=\"data row9 col24\" >nan</td>\n",
       "                        <td id=\"T_81edcc14_87e2_11e9_afc2_2bccf1bc5391row9_col25\" class=\"data row9 col25\" >nan</td>\n",
       "                        <td id=\"T_81edcc14_87e2_11e9_afc2_2bccf1bc5391row9_col26\" class=\"data row9 col26\" >nan</td>\n",
       "                        <td id=\"T_81edcc14_87e2_11e9_afc2_2bccf1bc5391row9_col27\" class=\"data row9 col27\" >nan</td>\n",
       "                        <td id=\"T_81edcc14_87e2_11e9_afc2_2bccf1bc5391row9_col28\" class=\"data row9 col28\" >nan</td>\n",
       "                        <td id=\"T_81edcc14_87e2_11e9_afc2_2bccf1bc5391row9_col29\" class=\"data row9 col29\" >nan</td>\n",
       "                        <td id=\"T_81edcc14_87e2_11e9_afc2_2bccf1bc5391row9_col30\" class=\"data row9 col30\" >nan</td>\n",
       "                        <td id=\"T_81edcc14_87e2_11e9_afc2_2bccf1bc5391row9_col31\" class=\"data row9 col31\" >nan</td>\n",
       "                        <td id=\"T_81edcc14_87e2_11e9_afc2_2bccf1bc5391row9_col32\" class=\"data row9 col32\" >2017-03-07 12:58:00.099840+00</td>\n",
       "                        <td id=\"T_81edcc14_87e2_11e9_afc2_2bccf1bc5391row9_col33\" class=\"data row9 col33\" >54</td>\n",
       "                        <td id=\"T_81edcc14_87e2_11e9_afc2_2bccf1bc5391row9_col34\" class=\"data row9 col34\" >4.96522e+06</td>\n",
       "                        <td id=\"T_81edcc14_87e2_11e9_afc2_2bccf1bc5391row9_col35\" class=\"data row9 col35\" >317318</td>\n",
       "                        <td id=\"T_81edcc14_87e2_11e9_afc2_2bccf1bc5391row9_col36\" class=\"data row9 col36\" >rejected</td>\n",
       "                        <td id=\"T_81edcc14_87e2_11e9_afc2_2bccf1bc5391row9_col37\" class=\"data row9 col37\" >1</td>\n",
       "                        <td id=\"T_81edcc14_87e2_11e9_afc2_2bccf1bc5391row9_col38\" class=\"data row9 col38\" >0</td>\n",
       "                        <td id=\"T_81edcc14_87e2_11e9_afc2_2bccf1bc5391row9_col39\" class=\"data row9 col39\" >0</td>\n",
       "                        <td id=\"T_81edcc14_87e2_11e9_afc2_2bccf1bc5391row9_col40\" class=\"data row9 col40\" >0</td>\n",
       "                        <td id=\"T_81edcc14_87e2_11e9_afc2_2bccf1bc5391row9_col41\" class=\"data row9 col41\" >0</td>\n",
       "                        <td id=\"T_81edcc14_87e2_11e9_afc2_2bccf1bc5391row9_col42\" class=\"data row9 col42\" >0</td>\n",
       "                        <td id=\"T_81edcc14_87e2_11e9_afc2_2bccf1bc5391row9_col43\" class=\"data row9 col43\" >0</td>\n",
       "                        <td id=\"T_81edcc14_87e2_11e9_afc2_2bccf1bc5391row9_col44\" class=\"data row9 col44\" >58</td>\n",
       "                        <td id=\"T_81edcc14_87e2_11e9_afc2_2bccf1bc5391row9_col45\" class=\"data row9 col45\" >and yet another hate trump based stupid post no it is to ensure no phony can get in from countries that have no reliable or functioning government thus open to false paperwork you ignorant lefty you have been clearly trained by the hate left</td>\n",
       "                        <td id=\"T_81edcc14_87e2_11e9_afc2_2bccf1bc5391row9_col46\" class=\"data row9 col46\" >yet another hate trump based stupid post ensure phony get countries reliable functioning government thus open false paperwork ignorant lefty clearly trained hate left</td>\n",
       "                        <td id=\"T_81edcc14_87e2_11e9_afc2_2bccf1bc5391row9_col47\" class=\"data row9 col47\" >yet anoth hate trump base stupid post ensur phoni get countri reliabl function govern thu open fals paperwork ignor lefti clearli train hate left</td>\n",
       "                        <td id=\"T_81edcc14_87e2_11e9_afc2_2bccf1bc5391row9_col48\" class=\"data row9 col48\" >yet anoth hat trump bas stupid post ens phony get country rely funct govern thu op fals paperwork ign lefty clear train hat left</td>\n",
       "                        <td id=\"T_81edcc14_87e2_11e9_afc2_2bccf1bc5391row9_col49\" class=\"data row9 col49\" >1</td>\n",
       "                        <td id=\"T_81edcc14_87e2_11e9_afc2_2bccf1bc5391row9_col50\" class=\"data row9 col50\" >1</td>\n",
       "                        <td id=\"T_81edcc14_87e2_11e9_afc2_2bccf1bc5391row9_col51\" class=\"data row9 col51\" >1</td>\n",
       "                        <td id=\"T_81edcc14_87e2_11e9_afc2_2bccf1bc5391row9_col52\" class=\"data row9 col52\" >True</td>\n",
       "            </tr>\n",
       "    </tbody></table>"
      ],
      "text/plain": [
       "<pandas.io.formats.style.Styler at 0x7f8103cd5160>"
      ]
     },
     "execution_count": 44,
     "metadata": {},
     "output_type": "execute_result"
    }
   ],
   "source": [
    "output2.head(10).style"
   ]
  },
  {
   "cell_type": "code",
   "execution_count": 45,
   "metadata": {},
   "outputs": [
    {
     "name": "stdout",
     "output_type": "stream",
     "text": [
      "Overall Accuracy: 0.8770883054892601\n",
      "Overall Precision: 0.9121621621621622\n",
      "Overall Recall: 0.6\n",
      "Overall F1 Score: 0.7238605898123324\n",
      "ROC_AUC: 0.789\n",
      "\n",
      "Target Accuracy: 0.6\n",
      "Target Precision: 1.0\n",
      "Target Recall: 0.6\n",
      "Target F1 Score: 0.7499999999999999\n",
      "\n",
      "Non-Target Accuracy: 0.9787928221859706\n",
      "Non-Target Precision: 1.0\n",
      "Non-Target Recall: 0.9787928221859706\n",
      "Non-Target F1 Score: 0.9892827699917559\n",
      "\n",
      "Strong Identity Accuracy: 0.5789473684210527\n",
      "Strong Identity Precision: 1.0\n",
      "Strong Identity Recall: 0.5789473684210527\n",
      "Strong Identity F1 Score: 1.0\n",
      "\n",
      "Obscenity Accuracy: 0.6153846153846154\n",
      "Obscenity Precision: 0.8888888888888888\n",
      "Obscenity Recall: 0.6666666666666666\n",
      "Obscenity F1 Score: 1.0\n",
      "\n",
      "Insults Accuracy: 0.6804733727810651\n",
      "Insults Precision: 1.0\n",
      "Insults Recall: 0.6804733727810651\n",
      "Insults F1 Score: 1.0\n",
      "\n",
      "Threats Accuracy: 0.25\n",
      "Threats Precision: 1.0\n",
      "Threats Recall: 0.25\n",
      "Threats F1 Score: 0.0\n",
      "\n"
     ]
    },
    {
     "data": {
      "text/plain": [
       "{'Overall': {'Accuracy': 0.8770883054892601,\n",
       "  'Precision': 0.9121621621621622,\n",
       "  'Recall': 0.6,\n",
       "  'F1': 0.7238605898123324,\n",
       "  'ROC_AUC': 0.789},\n",
       " 'Target': {'Accuracy': 0.6,\n",
       "  'Precision': 1.0,\n",
       "  'Recall': 0.6,\n",
       "  'F1': 0.7499999999999999},\n",
       " 'Non-Target': {'Accuracy': 0.25, 'Precision': 1.0, 'Recall': 0.25, 'F1': 0.0}}"
      ]
     },
     "execution_count": 45,
     "metadata": {},
     "output_type": "execute_result"
    }
   ],
   "source": [
    "mf.get_metrics(output=output2, \n",
    "               detailed=True, \n",
    "               should_print=True, \n",
    "               round_to=3)\n"
   ]
  },
  {
   "cell_type": "code",
   "execution_count": 46,
   "metadata": {},
   "outputs": [
    {
     "name": "stdout",
     "output_type": "stream",
     "text": [
      "Index(['id', 'target', 'comment_text', 'severe_toxicity', 'obscene',\n",
      "       'identity_attack', 'insult', 'threat', 'asian', 'atheist', 'bisexual',\n",
      "       'black', 'buddhist', 'christian', 'female', 'heterosexual', 'hindu',\n",
      "       'homosexual_gay_or_lesbian', 'intellectual_or_learning_disability',\n",
      "       'jewish', 'latino', 'male', 'muslim', 'other_disability',\n",
      "       'other_gender', 'other_race_or_ethnicity', 'other_religion',\n",
      "       'other_sexual_orientation', 'physical_disability',\n",
      "       'psychiatric_or_mental_illness', 'transgender', 'white', 'created_date',\n",
      "       'publication_id', 'parent_id', 'article_id', 'rating', 'funny', 'wow',\n",
      "       'sad', 'likes', 'disagree', 'sexual_explicit',\n",
      "       'identity_annotator_count', 'toxicity_annotator_count',\n",
      "       'cleaned_w_stopwords_str', 'cleaned_no_stem_str', 'cleaned_porter_str',\n",
      "       'cleaned_lancaster_str', 'toxicity_category', 'predicted', 'y_test'],\n",
      "      dtype='object')\n"
     ]
    }
   ],
   "source": [
    "hold_out_results2 = mf.run_model_test(model_df=hold_out_set2, \n",
    "                                     clf=classifier2, \n",
    "                                     vectorizer=fitted_vectorizer2, \n",
    "                                     comments=\"cleaned_no_stem_str\",\n",
    "                                      target=\"toxicity_category\")"
   ]
  },
  {
   "cell_type": "code",
   "execution_count": 47,
   "metadata": {},
   "outputs": [
    {
     "name": "stdout",
     "output_type": "stream",
     "text": [
      "Overall Accuracy: 0.953012714206744\n",
      "Overall Precision: 0.5290957923008057\n",
      "Overall Recall: 0.591\n",
      "Overall F1 Score: 0.5583372697213037\n",
      "ROC_AUC: 0.782\n",
      "\n",
      "Target Accuracy: 0.591\n",
      "Target Precision: 1.0\n",
      "Target Recall: 0.591\n",
      "Target F1 Score: 0.742928975487115\n",
      "\n",
      "Non-Target Accuracy: 0.9721678395682312\n",
      "Non-Target Precision: 1.0\n",
      "Non-Target Recall: 0.9721678395682312\n",
      "Non-Target F1 Score: 0.985887529512771\n",
      "\n",
      "Strong Identity Accuracy: 0.5476190476190477\n",
      "Strong Identity Precision: 1.0\n",
      "Strong Identity Recall: 0.4794520547945205\n",
      "Strong Identity F1 Score: 1.0\n",
      "\n",
      "Obscenity Accuracy: 0.5737704918032787\n",
      "Obscenity Precision: 1.0\n",
      "Obscenity Recall: 0.5517241379310345\n",
      "Obscenity F1 Score: 1.0\n",
      "\n",
      "Insults Accuracy: 0.6826923076923077\n",
      "Insults Precision: 0.9918032786885246\n",
      "Insults Recall: 0.680731364275668\n",
      "Insults F1 Score: 1.0\n",
      "\n",
      "Threats Accuracy: 0.2857142857142857\n",
      "Threats Precision: 0.8\n",
      "Threats Recall: 0.2222222222222222\n",
      "Threats F1 Score: 0.0\n",
      "\n"
     ]
    }
   ],
   "source": [
    "hold_out_metrics2 = mf.get_metrics(output=hold_out_results2, \n",
    "                                   detailed=True, \n",
    "                                   should_print=True, \n",
    "                                   round_to=3)"
   ]
  },
  {
   "cell_type": "markdown",
   "metadata": {},
   "source": [
    "### Feature Importance"
   ]
  },
  {
   "cell_type": "code",
   "execution_count": 48,
   "metadata": {},
   "outputs": [],
   "source": [
    "feature_names = fitted_vectorizer2.get_feature_names()\n",
    "imp = classifier2.coef_.todense().tolist()[0]\n",
    "imp2, names = zip(*sorted(zip(imp,feature_names)))"
   ]
  },
  {
   "cell_type": "code",
   "execution_count": 49,
   "metadata": {},
   "outputs": [],
   "source": [
    "imps = imp2[-10:] + imp2[:10]\n",
    "words = names[-10:] + names[:10]"
   ]
  },
  {
   "cell_type": "code",
   "execution_count": 50,
   "metadata": {},
   "outputs": [],
   "source": [
    "tograph = pd.DataFrame()\n",
    "tograph['importances'] = imps\n",
    "tograph['words'] = words\n",
    "tograph['type'] = tograph.importances.apply(lambda x: 1 if x > 0 else 0)"
   ]
  },
  {
   "cell_type": "code",
   "execution_count": 51,
   "metadata": {},
   "outputs": [
    {
     "data": {
      "text/plain": [
       "<matplotlib.axes._subplots.AxesSubplot at 0x7f812962ba90>"
      ]
     },
     "execution_count": 51,
     "metadata": {},
     "output_type": "execute_result"
    },
    {
     "data": {
      "image/png": "[encoded data removed]",
      "text/plain": [
       "<Figure size 432x288 with 1 Axes>"
      ]
     },
     "metadata": {},
     "output_type": "display_data"
    }
   ],
   "source": [
    "sns.barplot(x=\"importances\", y=\"words\", data=tograph, hue=\"type\")"
   ]
  },
  {
   "cell_type": "markdown",
   "metadata": {},
   "source": [
    "# 3) SVM - weighted 25% toxic, 75% nontoxic; using porter"
   ]
  },
  {
   "cell_type": "code",
   "execution_count": 52,
   "metadata": {},
   "outputs": [],
   "source": [
    "train3 = pf.read_pickle(bucket_name='advancedml-koch-mathur-hinkson', filename='sub_train_df1_preprocessed')"
   ]
  },
  {
   "cell_type": "code",
   "execution_count": 53,
   "metadata": {},
   "outputs": [],
   "source": [
    "drop_cols = ['split', 'cleaned_w_stopwords', 'cleaned_no_stem', 'cleaned_porter', 'cleaned_lancaster', \n",
    "             'bigrams_unstemmed', 'perc_upper', 'num_exclam', 'num_words', 'perc_stopwords',\n",
    "             'num_upper_words']"
   ]
  },
  {
   "cell_type": "code",
   "execution_count": 54,
   "metadata": {},
   "outputs": [],
   "source": [
    "train3 = train3.drop(drop_cols, axis = 1)"
   ]
  },
  {
   "cell_type": "code",
   "execution_count": 55,
   "metadata": {},
   "outputs": [
    {
     "data": {
      "text/plain": [
       "(100000, 49)"
      ]
     },
     "execution_count": 55,
     "metadata": {},
     "output_type": "execute_result"
    }
   ],
   "source": [
    "train3.shape"
   ]
  },
  {
   "cell_type": "code",
   "execution_count": 56,
   "metadata": {},
   "outputs": [
    {
     "data": {
      "text/plain": [
       "Index(['id', 'target', 'comment_text', 'severe_toxicity', 'obscene',\n",
       "       'identity_attack', 'insult', 'threat', 'asian', 'atheist', 'bisexual',\n",
       "       'black', 'buddhist', 'christian', 'female', 'heterosexual', 'hindu',\n",
       "       'homosexual_gay_or_lesbian', 'intellectual_or_learning_disability',\n",
       "       'jewish', 'latino', 'male', 'muslim', 'other_disability',\n",
       "       'other_gender', 'other_race_or_ethnicity', 'other_religion',\n",
       "       'other_sexual_orientation', 'physical_disability',\n",
       "       'psychiatric_or_mental_illness', 'transgender', 'white', 'created_date',\n",
       "       'publication_id', 'parent_id', 'article_id', 'rating', 'funny', 'wow',\n",
       "       'sad', 'likes', 'disagree', 'sexual_explicit',\n",
       "       'identity_annotator_count', 'toxicity_annotator_count',\n",
       "       'cleaned_w_stopwords_str', 'cleaned_no_stem_str', 'cleaned_porter_str',\n",
       "       'cleaned_lancaster_str'],\n",
       "      dtype='object')"
      ]
     },
     "execution_count": 56,
     "metadata": {},
     "output_type": "execute_result"
    }
   ],
   "source": [
    "train3.columns"
   ]
  },
  {
   "cell_type": "markdown",
   "metadata": {},
   "source": [
    "Create a new column called \"toxicity_category\" in the train data frame categorizing comments as toxic (\"1\") or non-toxic (\"0\")."
   ]
  },
  {
   "cell_type": "code",
   "execution_count": 57,
   "metadata": {},
   "outputs": [],
   "source": [
    "train3['toxicity_category'] = train3.target.apply(lambda x: 1 if x > 0.5 else 0)"
   ]
  },
  {
   "cell_type": "markdown",
   "metadata": {},
   "source": [
    "Split train.csv into training (80%) and hold out sets (20%)."
   ]
  },
  {
   "cell_type": "code",
   "execution_count": 58,
   "metadata": {},
   "outputs": [],
   "source": [
    "#Citation: https://stackoverflow.com/questions/24147278/how-do-i-create-test-and-train-samples-from-one-dataframe-with-pandas\n",
    "msk = np.random.rand(len(train3)) < 0.8\n",
    "train_set3 = train3[msk]\n",
    "hold_out_set3 = train3[~msk]\n"
   ]
  },
  {
   "cell_type": "code",
   "execution_count": 59,
   "metadata": {},
   "outputs": [
    {
     "name": "stdout",
     "output_type": "stream",
     "text": [
      "0    75938\n",
      "1     4105\n",
      "Name: toxicity_category, dtype: int64\n"
     ]
    }
   ],
   "source": [
    "print(train_set3.toxicity_category.value_counts())"
   ]
  },
  {
   "cell_type": "code",
   "execution_count": 60,
   "metadata": {},
   "outputs": [
    {
     "name": "stdout",
     "output_type": "stream",
     "text": [
      "0    18928\n",
      "1     1029\n",
      "Name: toxicity_category, dtype: int64\n"
     ]
    }
   ],
   "source": [
    "print(hold_out_set3.toxicity_category.value_counts())"
   ]
  },
  {
   "cell_type": "code",
   "execution_count": 61,
   "metadata": {},
   "outputs": [],
   "source": [
    "toxic3 = train_set3[train_set3.toxicity_category == 1]\n",
    "nontoxic3 = train_set3[train_set3.toxicity_category == 0]"
   ]
  },
  {
   "cell_type": "code",
   "execution_count": 62,
   "metadata": {},
   "outputs": [
    {
     "data": {
      "text/plain": [
       "((80043, 50), (4105, 50), (75938, 50))"
      ]
     },
     "execution_count": 62,
     "metadata": {},
     "output_type": "execute_result"
    }
   ],
   "source": [
    "train_set3.shape, toxic3.shape, nontoxic3.shape"
   ]
  },
  {
   "cell_type": "markdown",
   "metadata": {},
   "source": [
    "Create a data set of 25% toxic and 75% nontoxic comments, and shuffle the data such that you do not have a data set of grouped toxic and grouped nontoxic comments"
   ]
  },
  {
   "cell_type": "code",
   "execution_count": 63,
   "metadata": {},
   "outputs": [
    {
     "name": "stdout",
     "output_type": "stream",
     "text": [
      "0    12315\n",
      "1     4105\n",
      "Name: toxicity_category, dtype: int64\n"
     ]
    }
   ],
   "source": [
    "prepared_25_b = toxic3.append(nontoxic3.sample(len(toxic3)*3))\n",
    "prepared_25_b = prepared_25_b.sample(frac=1).reset_index(drop=True)\n",
    "print(prepared_25_b.toxicity_category.value_counts())"
   ]
  },
  {
   "cell_type": "markdown",
   "metadata": {},
   "source": [
    "### Run model"
   ]
  },
  {
   "cell_type": "code",
   "execution_count": 64,
   "metadata": {},
   "outputs": [
    {
     "name": "stdout",
     "output_type": "stream",
     "text": [
      "fitting model now\n"
     ]
    }
   ],
   "source": [
    "classifier3, output3, fitted_vectorizer3 = mf.run_model(model_df=prepared_25_b, \n",
    "                                                     model_type=\"SVM\", \n",
    "                                                     comments = \"cleaned_porter_str\", \n",
    "                                                     train_perc=0.95, \n",
    "                                                     target=\"toxicity_category\", \n",
    "                                                     see_inside=False)"
   ]
  },
  {
   "cell_type": "code",
   "execution_count": 65,
   "metadata": {},
   "outputs": [
    {
     "data": {
      "text/html": [
       "<style  type=\"text/css\" >\n",
       "</style><table id=\"T_884d5592_87e3_11e9_afc2_2bccf1bc5391\" ><thead>    <tr>        <th class=\"blank level0\" ></th>        <th class=\"col_heading level0 col0\" >id</th>        <th class=\"col_heading level0 col1\" >target</th>        <th class=\"col_heading level0 col2\" >comment_text</th>        <th class=\"col_heading level0 col3\" >severe_toxicity</th>        <th class=\"col_heading level0 col4\" >obscene</th>        <th class=\"col_heading level0 col5\" >identity_attack</th>        <th class=\"col_heading level0 col6\" >insult</th>        <th class=\"col_heading level0 col7\" >threat</th>        <th class=\"col_heading level0 col8\" >asian</th>        <th class=\"col_heading level0 col9\" >atheist</th>        <th class=\"col_heading level0 col10\" >bisexual</th>        <th class=\"col_heading level0 col11\" >black</th>        <th class=\"col_heading level0 col12\" >buddhist</th>        <th class=\"col_heading level0 col13\" >christian</th>        <th class=\"col_heading level0 col14\" >female</th>        <th class=\"col_heading level0 col15\" >heterosexual</th>        <th class=\"col_heading level0 col16\" >hindu</th>        <th class=\"col_heading level0 col17\" >homosexual_gay_or_lesbian</th>        <th class=\"col_heading level0 col18\" >intellectual_or_learning_disability</th>        <th class=\"col_heading level0 col19\" >jewish</th>        <th class=\"col_heading level0 col20\" >latino</th>        <th class=\"col_heading level0 col21\" >male</th>        <th class=\"col_heading level0 col22\" >muslim</th>        <th class=\"col_heading level0 col23\" >other_disability</th>        <th class=\"col_heading level0 col24\" >other_gender</th>        <th class=\"col_heading level0 col25\" >other_race_or_ethnicity</th>        <th class=\"col_heading level0 col26\" >other_religion</th>        <th class=\"col_heading level0 col27\" >other_sexual_orientation</th>        <th class=\"col_heading level0 col28\" >physical_disability</th>        <th class=\"col_heading level0 col29\" >psychiatric_or_mental_illness</th>        <th class=\"col_heading level0 col30\" >transgender</th>        <th class=\"col_heading level0 col31\" >white</th>        <th class=\"col_heading level0 col32\" >created_date</th>        <th class=\"col_heading level0 col33\" >publication_id</th>        <th class=\"col_heading level0 col34\" >parent_id</th>        <th class=\"col_heading level0 col35\" >article_id</th>        <th class=\"col_heading level0 col36\" >rating</th>        <th class=\"col_heading level0 col37\" >funny</th>        <th class=\"col_heading level0 col38\" >wow</th>        <th class=\"col_heading level0 col39\" >sad</th>        <th class=\"col_heading level0 col40\" >likes</th>        <th class=\"col_heading level0 col41\" >disagree</th>        <th class=\"col_heading level0 col42\" >sexual_explicit</th>        <th class=\"col_heading level0 col43\" >identity_annotator_count</th>        <th class=\"col_heading level0 col44\" >toxicity_annotator_count</th>        <th class=\"col_heading level0 col45\" >cleaned_w_stopwords_str</th>        <th class=\"col_heading level0 col46\" >cleaned_no_stem_str</th>        <th class=\"col_heading level0 col47\" >cleaned_porter_str</th>        <th class=\"col_heading level0 col48\" >cleaned_lancaster_str</th>        <th class=\"col_heading level0 col49\" >toxicity_category</th>        <th class=\"col_heading level0 col50\" >predicted</th>        <th class=\"col_heading level0 col51\" >y_test</th>        <th class=\"col_heading level0 col52\" >accuracy</th>    </tr></thead><tbody>\n",
       "                <tr>\n",
       "                        <th id=\"T_884d5592_87e3_11e9_afc2_2bccf1bc5391level0_row0\" class=\"row_heading level0 row0\" >15599</th>\n",
       "                        <td id=\"T_884d5592_87e3_11e9_afc2_2bccf1bc5391row0_col0\" class=\"data row0 col0\" >355663</td>\n",
       "                        <td id=\"T_884d5592_87e3_11e9_afc2_2bccf1bc5391row0_col1\" class=\"data row0 col1\" >0</td>\n",
       "                        <td id=\"T_884d5592_87e3_11e9_afc2_2bccf1bc5391row0_col2\" class=\"data row0 col2\" >Hey Marvin, how about a 20% income tax on everyone, isn't that tantamount to a salary reduction?  Why not share the burden equally? Or does that hit too close to home?</td>\n",
       "                        <td id=\"T_884d5592_87e3_11e9_afc2_2bccf1bc5391row0_col3\" class=\"data row0 col3\" >0</td>\n",
       "                        <td id=\"T_884d5592_87e3_11e9_afc2_2bccf1bc5391row0_col4\" class=\"data row0 col4\" >0</td>\n",
       "                        <td id=\"T_884d5592_87e3_11e9_afc2_2bccf1bc5391row0_col5\" class=\"data row0 col5\" >0</td>\n",
       "                        <td id=\"T_884d5592_87e3_11e9_afc2_2bccf1bc5391row0_col6\" class=\"data row0 col6\" >0</td>\n",
       "                        <td id=\"T_884d5592_87e3_11e9_afc2_2bccf1bc5391row0_col7\" class=\"data row0 col7\" >0</td>\n",
       "                        <td id=\"T_884d5592_87e3_11e9_afc2_2bccf1bc5391row0_col8\" class=\"data row0 col8\" >nan</td>\n",
       "                        <td id=\"T_884d5592_87e3_11e9_afc2_2bccf1bc5391row0_col9\" class=\"data row0 col9\" >nan</td>\n",
       "                        <td id=\"T_884d5592_87e3_11e9_afc2_2bccf1bc5391row0_col10\" class=\"data row0 col10\" >nan</td>\n",
       "                        <td id=\"T_884d5592_87e3_11e9_afc2_2bccf1bc5391row0_col11\" class=\"data row0 col11\" >nan</td>\n",
       "                        <td id=\"T_884d5592_87e3_11e9_afc2_2bccf1bc5391row0_col12\" class=\"data row0 col12\" >nan</td>\n",
       "                        <td id=\"T_884d5592_87e3_11e9_afc2_2bccf1bc5391row0_col13\" class=\"data row0 col13\" >nan</td>\n",
       "                        <td id=\"T_884d5592_87e3_11e9_afc2_2bccf1bc5391row0_col14\" class=\"data row0 col14\" >nan</td>\n",
       "                        <td id=\"T_884d5592_87e3_11e9_afc2_2bccf1bc5391row0_col15\" class=\"data row0 col15\" >nan</td>\n",
       "                        <td id=\"T_884d5592_87e3_11e9_afc2_2bccf1bc5391row0_col16\" class=\"data row0 col16\" >nan</td>\n",
       "                        <td id=\"T_884d5592_87e3_11e9_afc2_2bccf1bc5391row0_col17\" class=\"data row0 col17\" >nan</td>\n",
       "                        <td id=\"T_884d5592_87e3_11e9_afc2_2bccf1bc5391row0_col18\" class=\"data row0 col18\" >nan</td>\n",
       "                        <td id=\"T_884d5592_87e3_11e9_afc2_2bccf1bc5391row0_col19\" class=\"data row0 col19\" >nan</td>\n",
       "                        <td id=\"T_884d5592_87e3_11e9_afc2_2bccf1bc5391row0_col20\" class=\"data row0 col20\" >nan</td>\n",
       "                        <td id=\"T_884d5592_87e3_11e9_afc2_2bccf1bc5391row0_col21\" class=\"data row0 col21\" >nan</td>\n",
       "                        <td id=\"T_884d5592_87e3_11e9_afc2_2bccf1bc5391row0_col22\" class=\"data row0 col22\" >nan</td>\n",
       "                        <td id=\"T_884d5592_87e3_11e9_afc2_2bccf1bc5391row0_col23\" class=\"data row0 col23\" >nan</td>\n",
       "                        <td id=\"T_884d5592_87e3_11e9_afc2_2bccf1bc5391row0_col24\" class=\"data row0 col24\" >nan</td>\n",
       "                        <td id=\"T_884d5592_87e3_11e9_afc2_2bccf1bc5391row0_col25\" class=\"data row0 col25\" >nan</td>\n",
       "                        <td id=\"T_884d5592_87e3_11e9_afc2_2bccf1bc5391row0_col26\" class=\"data row0 col26\" >nan</td>\n",
       "                        <td id=\"T_884d5592_87e3_11e9_afc2_2bccf1bc5391row0_col27\" class=\"data row0 col27\" >nan</td>\n",
       "                        <td id=\"T_884d5592_87e3_11e9_afc2_2bccf1bc5391row0_col28\" class=\"data row0 col28\" >nan</td>\n",
       "                        <td id=\"T_884d5592_87e3_11e9_afc2_2bccf1bc5391row0_col29\" class=\"data row0 col29\" >nan</td>\n",
       "                        <td id=\"T_884d5592_87e3_11e9_afc2_2bccf1bc5391row0_col30\" class=\"data row0 col30\" >nan</td>\n",
       "                        <td id=\"T_884d5592_87e3_11e9_afc2_2bccf1bc5391row0_col31\" class=\"data row0 col31\" >nan</td>\n",
       "                        <td id=\"T_884d5592_87e3_11e9_afc2_2bccf1bc5391row0_col32\" class=\"data row0 col32\" >2016-06-18 19:01:41.544273+00</td>\n",
       "                        <td id=\"T_884d5592_87e3_11e9_afc2_2bccf1bc5391row0_col33\" class=\"data row0 col33\" >21</td>\n",
       "                        <td id=\"T_884d5592_87e3_11e9_afc2_2bccf1bc5391row0_col34\" class=\"data row0 col34\" >355429</td>\n",
       "                        <td id=\"T_884d5592_87e3_11e9_afc2_2bccf1bc5391row0_col35\" class=\"data row0 col35\" >139044</td>\n",
       "                        <td id=\"T_884d5592_87e3_11e9_afc2_2bccf1bc5391row0_col36\" class=\"data row0 col36\" >approved</td>\n",
       "                        <td id=\"T_884d5592_87e3_11e9_afc2_2bccf1bc5391row0_col37\" class=\"data row0 col37\" >0</td>\n",
       "                        <td id=\"T_884d5592_87e3_11e9_afc2_2bccf1bc5391row0_col38\" class=\"data row0 col38\" >0</td>\n",
       "                        <td id=\"T_884d5592_87e3_11e9_afc2_2bccf1bc5391row0_col39\" class=\"data row0 col39\" >0</td>\n",
       "                        <td id=\"T_884d5592_87e3_11e9_afc2_2bccf1bc5391row0_col40\" class=\"data row0 col40\" >1</td>\n",
       "                        <td id=\"T_884d5592_87e3_11e9_afc2_2bccf1bc5391row0_col41\" class=\"data row0 col41\" >0</td>\n",
       "                        <td id=\"T_884d5592_87e3_11e9_afc2_2bccf1bc5391row0_col42\" class=\"data row0 col42\" >0</td>\n",
       "                        <td id=\"T_884d5592_87e3_11e9_afc2_2bccf1bc5391row0_col43\" class=\"data row0 col43\" >0</td>\n",
       "                        <td id=\"T_884d5592_87e3_11e9_afc2_2bccf1bc5391row0_col44\" class=\"data row0 col44\" >4</td>\n",
       "                        <td id=\"T_884d5592_87e3_11e9_afc2_2bccf1bc5391row0_col45\" class=\"data row0 col45\" >Hey Marvin how about a 20 income tax on everyone isn't that tantamount to a salary reduction  Why not share the burden equally Or does that hit too close to home</td>\n",
       "                        <td id=\"T_884d5592_87e3_11e9_afc2_2bccf1bc5391row0_col46\" class=\"data row0 col46\" >hey marvin 20 income tax everyone tantamount salary reduction why not share burden equally or hit close home</td>\n",
       "                        <td id=\"T_884d5592_87e3_11e9_afc2_2bccf1bc5391row0_col47\" class=\"data row0 col47\" >hey marvin 20 incom tax everyon tantamount salari reduct whi not share burden equal or hit close home</td>\n",
       "                        <td id=\"T_884d5592_87e3_11e9_afc2_2bccf1bc5391row0_col48\" class=\"data row0 col48\" >hey marvin 20 incom tax everyon tantamount sal reduc why not shar burd eq or hit clos hom</td>\n",
       "                        <td id=\"T_884d5592_87e3_11e9_afc2_2bccf1bc5391row0_col49\" class=\"data row0 col49\" >0</td>\n",
       "                        <td id=\"T_884d5592_87e3_11e9_afc2_2bccf1bc5391row0_col50\" class=\"data row0 col50\" >0</td>\n",
       "                        <td id=\"T_884d5592_87e3_11e9_afc2_2bccf1bc5391row0_col51\" class=\"data row0 col51\" >0</td>\n",
       "                        <td id=\"T_884d5592_87e3_11e9_afc2_2bccf1bc5391row0_col52\" class=\"data row0 col52\" >True</td>\n",
       "            </tr>\n",
       "            <tr>\n",
       "                        <th id=\"T_884d5592_87e3_11e9_afc2_2bccf1bc5391level0_row1\" class=\"row_heading level0 row1\" >15600</th>\n",
       "                        <td id=\"T_884d5592_87e3_11e9_afc2_2bccf1bc5391row1_col0\" class=\"data row1 col0\" >330234</td>\n",
       "                        <td id=\"T_884d5592_87e3_11e9_afc2_2bccf1bc5391row1_col1\" class=\"data row1 col1\" >0</td>\n",
       "                        <td id=\"T_884d5592_87e3_11e9_afc2_2bccf1bc5391row1_col2\" class=\"data row1 col2\" >The advisory group (and perhaps others, but not \"Kuskokwim River residents\" as implied in the article) agreed to support limiting fishing, when decisions were easy, during winter.  Now it's crunch time, and they whine and cry to the Department going against what they supported.  Real leaders, real people, would man up and help support the hard decisions that they themselves agreed need to be made.  Deferring the hard decisions to the Department seems to be an attempt to deflect the heat; let someone else take the blame.   Shame.</td>\n",
       "                        <td id=\"T_884d5592_87e3_11e9_afc2_2bccf1bc5391row1_col3\" class=\"data row1 col3\" >0</td>\n",
       "                        <td id=\"T_884d5592_87e3_11e9_afc2_2bccf1bc5391row1_col4\" class=\"data row1 col4\" >0</td>\n",
       "                        <td id=\"T_884d5592_87e3_11e9_afc2_2bccf1bc5391row1_col5\" class=\"data row1 col5\" >0</td>\n",
       "                        <td id=\"T_884d5592_87e3_11e9_afc2_2bccf1bc5391row1_col6\" class=\"data row1 col6\" >0</td>\n",
       "                        <td id=\"T_884d5592_87e3_11e9_afc2_2bccf1bc5391row1_col7\" class=\"data row1 col7\" >0</td>\n",
       "                        <td id=\"T_884d5592_87e3_11e9_afc2_2bccf1bc5391row1_col8\" class=\"data row1 col8\" >nan</td>\n",
       "                        <td id=\"T_884d5592_87e3_11e9_afc2_2bccf1bc5391row1_col9\" class=\"data row1 col9\" >nan</td>\n",
       "                        <td id=\"T_884d5592_87e3_11e9_afc2_2bccf1bc5391row1_col10\" class=\"data row1 col10\" >nan</td>\n",
       "                        <td id=\"T_884d5592_87e3_11e9_afc2_2bccf1bc5391row1_col11\" class=\"data row1 col11\" >nan</td>\n",
       "                        <td id=\"T_884d5592_87e3_11e9_afc2_2bccf1bc5391row1_col12\" class=\"data row1 col12\" >nan</td>\n",
       "                        <td id=\"T_884d5592_87e3_11e9_afc2_2bccf1bc5391row1_col13\" class=\"data row1 col13\" >nan</td>\n",
       "                        <td id=\"T_884d5592_87e3_11e9_afc2_2bccf1bc5391row1_col14\" class=\"data row1 col14\" >nan</td>\n",
       "                        <td id=\"T_884d5592_87e3_11e9_afc2_2bccf1bc5391row1_col15\" class=\"data row1 col15\" >nan</td>\n",
       "                        <td id=\"T_884d5592_87e3_11e9_afc2_2bccf1bc5391row1_col16\" class=\"data row1 col16\" >nan</td>\n",
       "                        <td id=\"T_884d5592_87e3_11e9_afc2_2bccf1bc5391row1_col17\" class=\"data row1 col17\" >nan</td>\n",
       "                        <td id=\"T_884d5592_87e3_11e9_afc2_2bccf1bc5391row1_col18\" class=\"data row1 col18\" >nan</td>\n",
       "                        <td id=\"T_884d5592_87e3_11e9_afc2_2bccf1bc5391row1_col19\" class=\"data row1 col19\" >nan</td>\n",
       "                        <td id=\"T_884d5592_87e3_11e9_afc2_2bccf1bc5391row1_col20\" class=\"data row1 col20\" >nan</td>\n",
       "                        <td id=\"T_884d5592_87e3_11e9_afc2_2bccf1bc5391row1_col21\" class=\"data row1 col21\" >nan</td>\n",
       "                        <td id=\"T_884d5592_87e3_11e9_afc2_2bccf1bc5391row1_col22\" class=\"data row1 col22\" >nan</td>\n",
       "                        <td id=\"T_884d5592_87e3_11e9_afc2_2bccf1bc5391row1_col23\" class=\"data row1 col23\" >nan</td>\n",
       "                        <td id=\"T_884d5592_87e3_11e9_afc2_2bccf1bc5391row1_col24\" class=\"data row1 col24\" >nan</td>\n",
       "                        <td id=\"T_884d5592_87e3_11e9_afc2_2bccf1bc5391row1_col25\" class=\"data row1 col25\" >nan</td>\n",
       "                        <td id=\"T_884d5592_87e3_11e9_afc2_2bccf1bc5391row1_col26\" class=\"data row1 col26\" >nan</td>\n",
       "                        <td id=\"T_884d5592_87e3_11e9_afc2_2bccf1bc5391row1_col27\" class=\"data row1 col27\" >nan</td>\n",
       "                        <td id=\"T_884d5592_87e3_11e9_afc2_2bccf1bc5391row1_col28\" class=\"data row1 col28\" >nan</td>\n",
       "                        <td id=\"T_884d5592_87e3_11e9_afc2_2bccf1bc5391row1_col29\" class=\"data row1 col29\" >nan</td>\n",
       "                        <td id=\"T_884d5592_87e3_11e9_afc2_2bccf1bc5391row1_col30\" class=\"data row1 col30\" >nan</td>\n",
       "                        <td id=\"T_884d5592_87e3_11e9_afc2_2bccf1bc5391row1_col31\" class=\"data row1 col31\" >nan</td>\n",
       "                        <td id=\"T_884d5592_87e3_11e9_afc2_2bccf1bc5391row1_col32\" class=\"data row1 col32\" >2016-05-28 06:19:57.656068+00</td>\n",
       "                        <td id=\"T_884d5592_87e3_11e9_afc2_2bccf1bc5391row1_col33\" class=\"data row1 col33\" >21</td>\n",
       "                        <td id=\"T_884d5592_87e3_11e9_afc2_2bccf1bc5391row1_col34\" class=\"data row1 col34\" >nan</td>\n",
       "                        <td id=\"T_884d5592_87e3_11e9_afc2_2bccf1bc5391row1_col35\" class=\"data row1 col35\" >137616</td>\n",
       "                        <td id=\"T_884d5592_87e3_11e9_afc2_2bccf1bc5391row1_col36\" class=\"data row1 col36\" >approved</td>\n",
       "                        <td id=\"T_884d5592_87e3_11e9_afc2_2bccf1bc5391row1_col37\" class=\"data row1 col37\" >0</td>\n",
       "                        <td id=\"T_884d5592_87e3_11e9_afc2_2bccf1bc5391row1_col38\" class=\"data row1 col38\" >0</td>\n",
       "                        <td id=\"T_884d5592_87e3_11e9_afc2_2bccf1bc5391row1_col39\" class=\"data row1 col39\" >0</td>\n",
       "                        <td id=\"T_884d5592_87e3_11e9_afc2_2bccf1bc5391row1_col40\" class=\"data row1 col40\" >2</td>\n",
       "                        <td id=\"T_884d5592_87e3_11e9_afc2_2bccf1bc5391row1_col41\" class=\"data row1 col41\" >0</td>\n",
       "                        <td id=\"T_884d5592_87e3_11e9_afc2_2bccf1bc5391row1_col42\" class=\"data row1 col42\" >0</td>\n",
       "                        <td id=\"T_884d5592_87e3_11e9_afc2_2bccf1bc5391row1_col43\" class=\"data row1 col43\" >0</td>\n",
       "                        <td id=\"T_884d5592_87e3_11e9_afc2_2bccf1bc5391row1_col44\" class=\"data row1 col44\" >4</td>\n",
       "                        <td id=\"T_884d5592_87e3_11e9_afc2_2bccf1bc5391row1_col45\" class=\"data row1 col45\" >The advisory group and perhaps others but not Kuskokwim River residents as implied in the article agreed to support limiting fishing when decisions were easy during winter  Now it's crunch time and they whine and cry to the Department going against what they supported  Real leaders real people would man up and help support the hard decisions that they themselves agreed need to be made  Deferring the hard decisions to the Department seems to be an attempt to deflect the heat let someone else take the blame   Shame</td>\n",
       "                        <td id=\"T_884d5592_87e3_11e9_afc2_2bccf1bc5391row1_col46\" class=\"data row1 col46\" >the advisory group perhaps others not kuskokwim river residents implied article agreed support limiting fishing decisions easy winter now crunch time whine cry department going against supported real leaders real people would man help support hard decisions themselves agreed need made deferring hard decisions department seems attempt deflect heat let someone else take blame shame</td>\n",
       "                        <td id=\"T_884d5592_87e3_11e9_afc2_2bccf1bc5391row1_col47\" class=\"data row1 col47\" >the advisori group perhap other not kuskokwim river resid impli articl agre support limit fish decis easi winter now crunch time whine cri depart go against support real leader real peopl would man help support hard decis themselv agre need made defer hard decis depart seem attempt deflect heat let someon els take blame shame</td>\n",
       "                        <td id=\"T_884d5592_87e3_11e9_afc2_2bccf1bc5391row1_col48\" class=\"data row1 col48\" >the adv group perhap oth not kuskokwim riv resid imply artic agree support limit fish decid easy wint now crunch tim whin cry depart going against support real lead real peopl would man help support hard decid themselv agree nee mad defer hard decid depart seem attempt deflect heat let someon els tak blam sham</td>\n",
       "                        <td id=\"T_884d5592_87e3_11e9_afc2_2bccf1bc5391row1_col49\" class=\"data row1 col49\" >0</td>\n",
       "                        <td id=\"T_884d5592_87e3_11e9_afc2_2bccf1bc5391row1_col50\" class=\"data row1 col50\" >0</td>\n",
       "                        <td id=\"T_884d5592_87e3_11e9_afc2_2bccf1bc5391row1_col51\" class=\"data row1 col51\" >0</td>\n",
       "                        <td id=\"T_884d5592_87e3_11e9_afc2_2bccf1bc5391row1_col52\" class=\"data row1 col52\" >True</td>\n",
       "            </tr>\n",
       "            <tr>\n",
       "                        <th id=\"T_884d5592_87e3_11e9_afc2_2bccf1bc5391level0_row2\" class=\"row_heading level0 row2\" >15601</th>\n",
       "                        <td id=\"T_884d5592_87e3_11e9_afc2_2bccf1bc5391row2_col0\" class=\"data row2 col0\" >330277</td>\n",
       "                        <td id=\"T_884d5592_87e3_11e9_afc2_2bccf1bc5391row2_col1\" class=\"data row2 col1\" >0.2</td>\n",
       "                        <td id=\"T_884d5592_87e3_11e9_afc2_2bccf1bc5391row2_col2\" class=\"data row2 col2\" >Let none of us fail to understand that the real harm done by these scammers is that they obscure from our view people who are truly in need.  They are fraudsters - pretending to be the needy.  They are taking from motorists money which would, or should, be given to the truly needy.  Those who give money to these con artists allow themselves to imagine that they have provided assistance to people who are genuinely in need of assistance, but this is not at all the case.  Don't feel guilty when you drive by these scammers.  Feel guilty when you give them a reward for tricking you into thinking you are helping the truly needy.</td>\n",
       "                        <td id=\"T_884d5592_87e3_11e9_afc2_2bccf1bc5391row2_col3\" class=\"data row2 col3\" >0.1</td>\n",
       "                        <td id=\"T_884d5592_87e3_11e9_afc2_2bccf1bc5391row2_col4\" class=\"data row2 col4\" >0</td>\n",
       "                        <td id=\"T_884d5592_87e3_11e9_afc2_2bccf1bc5391row2_col5\" class=\"data row2 col5\" >0</td>\n",
       "                        <td id=\"T_884d5592_87e3_11e9_afc2_2bccf1bc5391row2_col6\" class=\"data row2 col6\" >0.1</td>\n",
       "                        <td id=\"T_884d5592_87e3_11e9_afc2_2bccf1bc5391row2_col7\" class=\"data row2 col7\" >0</td>\n",
       "                        <td id=\"T_884d5592_87e3_11e9_afc2_2bccf1bc5391row2_col8\" class=\"data row2 col8\" >nan</td>\n",
       "                        <td id=\"T_884d5592_87e3_11e9_afc2_2bccf1bc5391row2_col9\" class=\"data row2 col9\" >nan</td>\n",
       "                        <td id=\"T_884d5592_87e3_11e9_afc2_2bccf1bc5391row2_col10\" class=\"data row2 col10\" >nan</td>\n",
       "                        <td id=\"T_884d5592_87e3_11e9_afc2_2bccf1bc5391row2_col11\" class=\"data row2 col11\" >nan</td>\n",
       "                        <td id=\"T_884d5592_87e3_11e9_afc2_2bccf1bc5391row2_col12\" class=\"data row2 col12\" >nan</td>\n",
       "                        <td id=\"T_884d5592_87e3_11e9_afc2_2bccf1bc5391row2_col13\" class=\"data row2 col13\" >nan</td>\n",
       "                        <td id=\"T_884d5592_87e3_11e9_afc2_2bccf1bc5391row2_col14\" class=\"data row2 col14\" >nan</td>\n",
       "                        <td id=\"T_884d5592_87e3_11e9_afc2_2bccf1bc5391row2_col15\" class=\"data row2 col15\" >nan</td>\n",
       "                        <td id=\"T_884d5592_87e3_11e9_afc2_2bccf1bc5391row2_col16\" class=\"data row2 col16\" >nan</td>\n",
       "                        <td id=\"T_884d5592_87e3_11e9_afc2_2bccf1bc5391row2_col17\" class=\"data row2 col17\" >nan</td>\n",
       "                        <td id=\"T_884d5592_87e3_11e9_afc2_2bccf1bc5391row2_col18\" class=\"data row2 col18\" >nan</td>\n",
       "                        <td id=\"T_884d5592_87e3_11e9_afc2_2bccf1bc5391row2_col19\" class=\"data row2 col19\" >nan</td>\n",
       "                        <td id=\"T_884d5592_87e3_11e9_afc2_2bccf1bc5391row2_col20\" class=\"data row2 col20\" >nan</td>\n",
       "                        <td id=\"T_884d5592_87e3_11e9_afc2_2bccf1bc5391row2_col21\" class=\"data row2 col21\" >nan</td>\n",
       "                        <td id=\"T_884d5592_87e3_11e9_afc2_2bccf1bc5391row2_col22\" class=\"data row2 col22\" >nan</td>\n",
       "                        <td id=\"T_884d5592_87e3_11e9_afc2_2bccf1bc5391row2_col23\" class=\"data row2 col23\" >nan</td>\n",
       "                        <td id=\"T_884d5592_87e3_11e9_afc2_2bccf1bc5391row2_col24\" class=\"data row2 col24\" >nan</td>\n",
       "                        <td id=\"T_884d5592_87e3_11e9_afc2_2bccf1bc5391row2_col25\" class=\"data row2 col25\" >nan</td>\n",
       "                        <td id=\"T_884d5592_87e3_11e9_afc2_2bccf1bc5391row2_col26\" class=\"data row2 col26\" >nan</td>\n",
       "                        <td id=\"T_884d5592_87e3_11e9_afc2_2bccf1bc5391row2_col27\" class=\"data row2 col27\" >nan</td>\n",
       "                        <td id=\"T_884d5592_87e3_11e9_afc2_2bccf1bc5391row2_col28\" class=\"data row2 col28\" >nan</td>\n",
       "                        <td id=\"T_884d5592_87e3_11e9_afc2_2bccf1bc5391row2_col29\" class=\"data row2 col29\" >nan</td>\n",
       "                        <td id=\"T_884d5592_87e3_11e9_afc2_2bccf1bc5391row2_col30\" class=\"data row2 col30\" >nan</td>\n",
       "                        <td id=\"T_884d5592_87e3_11e9_afc2_2bccf1bc5391row2_col31\" class=\"data row2 col31\" >nan</td>\n",
       "                        <td id=\"T_884d5592_87e3_11e9_afc2_2bccf1bc5391row2_col32\" class=\"data row2 col32\" >2016-05-28 07:30:30.068759+00</td>\n",
       "                        <td id=\"T_884d5592_87e3_11e9_afc2_2bccf1bc5391row2_col33\" class=\"data row2 col33\" >13</td>\n",
       "                        <td id=\"T_884d5592_87e3_11e9_afc2_2bccf1bc5391row2_col34\" class=\"data row2 col34\" >nan</td>\n",
       "                        <td id=\"T_884d5592_87e3_11e9_afc2_2bccf1bc5391row2_col35\" class=\"data row2 col35\" >137604</td>\n",
       "                        <td id=\"T_884d5592_87e3_11e9_afc2_2bccf1bc5391row2_col36\" class=\"data row2 col36\" >approved</td>\n",
       "                        <td id=\"T_884d5592_87e3_11e9_afc2_2bccf1bc5391row2_col37\" class=\"data row2 col37\" >0</td>\n",
       "                        <td id=\"T_884d5592_87e3_11e9_afc2_2bccf1bc5391row2_col38\" class=\"data row2 col38\" >0</td>\n",
       "                        <td id=\"T_884d5592_87e3_11e9_afc2_2bccf1bc5391row2_col39\" class=\"data row2 col39\" >0</td>\n",
       "                        <td id=\"T_884d5592_87e3_11e9_afc2_2bccf1bc5391row2_col40\" class=\"data row2 col40\" >3</td>\n",
       "                        <td id=\"T_884d5592_87e3_11e9_afc2_2bccf1bc5391row2_col41\" class=\"data row2 col41\" >0</td>\n",
       "                        <td id=\"T_884d5592_87e3_11e9_afc2_2bccf1bc5391row2_col42\" class=\"data row2 col42\" >0</td>\n",
       "                        <td id=\"T_884d5592_87e3_11e9_afc2_2bccf1bc5391row2_col43\" class=\"data row2 col43\" >0</td>\n",
       "                        <td id=\"T_884d5592_87e3_11e9_afc2_2bccf1bc5391row2_col44\" class=\"data row2 col44\" >10</td>\n",
       "                        <td id=\"T_884d5592_87e3_11e9_afc2_2bccf1bc5391row2_col45\" class=\"data row2 col45\" >Let none of us fail to understand that the real harm done by these scammers is that they obscure from our view people who are truly in need  They are fraudsters   pretending to be the needy  They are taking from motorists money which would or should be given to the truly needy  Those who give money to these con artists allow themselves to imagine that they have provided assistance to people who are genuinely in need of assistance but this is not at all the case  Don't feel guilty when you drive by these scammers  Feel guilty when you give them a reward for tricking you into thinking you are helping the truly needy</td>\n",
       "                        <td id=\"T_884d5592_87e3_11e9_afc2_2bccf1bc5391row2_col46\" class=\"data row2 col46\" >let none us fail understand real harm done scammers obscure view people truly need they fraudsters pretending needy they taking motorists money would should given truly needy those give money con artists allow themselves imagine provided assistance people genuinely need assistance not case don't feel guilty drive scammers feel guilty give them reward tricking thinking helping truly needy</td>\n",
       "                        <td id=\"T_884d5592_87e3_11e9_afc2_2bccf1bc5391row2_col47\" class=\"data row2 col47\" >let none us fail understand real harm done scammer obscur view peopl truli need they fraudster pretend needi they take motorist money would should given truli needi those give money con artist allow themselv imagin provid assist peopl genuin need assist not case don't feel guilti drive scammer feel guilti give them reward trick think help truli needi</td>\n",
       "                        <td id=\"T_884d5592_87e3_11e9_afc2_2bccf1bc5391row2_col48\" class=\"data row2 col48\" >let non us fail understand real harm don scam obsc view peopl tru nee they fraudst pretend needy they tak mot money would should giv tru needy thos giv money con art allow themselv imagin provid assist peopl genuin nee assist not cas don't feel guil driv scam feel guil giv them reward trick think help tru needy</td>\n",
       "                        <td id=\"T_884d5592_87e3_11e9_afc2_2bccf1bc5391row2_col49\" class=\"data row2 col49\" >0</td>\n",
       "                        <td id=\"T_884d5592_87e3_11e9_afc2_2bccf1bc5391row2_col50\" class=\"data row2 col50\" >0</td>\n",
       "                        <td id=\"T_884d5592_87e3_11e9_afc2_2bccf1bc5391row2_col51\" class=\"data row2 col51\" >0</td>\n",
       "                        <td id=\"T_884d5592_87e3_11e9_afc2_2bccf1bc5391row2_col52\" class=\"data row2 col52\" >True</td>\n",
       "            </tr>\n",
       "            <tr>\n",
       "                        <th id=\"T_884d5592_87e3_11e9_afc2_2bccf1bc5391level0_row3\" class=\"row_heading level0 row3\" >15602</th>\n",
       "                        <td id=\"T_884d5592_87e3_11e9_afc2_2bccf1bc5391row3_col0\" class=\"data row3 col0\" >329783</td>\n",
       "                        <td id=\"T_884d5592_87e3_11e9_afc2_2bccf1bc5391row3_col1\" class=\"data row3 col1\" >0.166667</td>\n",
       "                        <td id=\"T_884d5592_87e3_11e9_afc2_2bccf1bc5391row3_col2\" class=\"data row3 col2\" >Or your burned down joint.</td>\n",
       "                        <td id=\"T_884d5592_87e3_11e9_afc2_2bccf1bc5391row3_col3\" class=\"data row3 col3\" >0</td>\n",
       "                        <td id=\"T_884d5592_87e3_11e9_afc2_2bccf1bc5391row3_col4\" class=\"data row3 col4\" >0</td>\n",
       "                        <td id=\"T_884d5592_87e3_11e9_afc2_2bccf1bc5391row3_col5\" class=\"data row3 col5\" >0</td>\n",
       "                        <td id=\"T_884d5592_87e3_11e9_afc2_2bccf1bc5391row3_col6\" class=\"data row3 col6\" >0</td>\n",
       "                        <td id=\"T_884d5592_87e3_11e9_afc2_2bccf1bc5391row3_col7\" class=\"data row3 col7\" >0.166667</td>\n",
       "                        <td id=\"T_884d5592_87e3_11e9_afc2_2bccf1bc5391row3_col8\" class=\"data row3 col8\" >nan</td>\n",
       "                        <td id=\"T_884d5592_87e3_11e9_afc2_2bccf1bc5391row3_col9\" class=\"data row3 col9\" >nan</td>\n",
       "                        <td id=\"T_884d5592_87e3_11e9_afc2_2bccf1bc5391row3_col10\" class=\"data row3 col10\" >nan</td>\n",
       "                        <td id=\"T_884d5592_87e3_11e9_afc2_2bccf1bc5391row3_col11\" class=\"data row3 col11\" >nan</td>\n",
       "                        <td id=\"T_884d5592_87e3_11e9_afc2_2bccf1bc5391row3_col12\" class=\"data row3 col12\" >nan</td>\n",
       "                        <td id=\"T_884d5592_87e3_11e9_afc2_2bccf1bc5391row3_col13\" class=\"data row3 col13\" >nan</td>\n",
       "                        <td id=\"T_884d5592_87e3_11e9_afc2_2bccf1bc5391row3_col14\" class=\"data row3 col14\" >nan</td>\n",
       "                        <td id=\"T_884d5592_87e3_11e9_afc2_2bccf1bc5391row3_col15\" class=\"data row3 col15\" >nan</td>\n",
       "                        <td id=\"T_884d5592_87e3_11e9_afc2_2bccf1bc5391row3_col16\" class=\"data row3 col16\" >nan</td>\n",
       "                        <td id=\"T_884d5592_87e3_11e9_afc2_2bccf1bc5391row3_col17\" class=\"data row3 col17\" >nan</td>\n",
       "                        <td id=\"T_884d5592_87e3_11e9_afc2_2bccf1bc5391row3_col18\" class=\"data row3 col18\" >nan</td>\n",
       "                        <td id=\"T_884d5592_87e3_11e9_afc2_2bccf1bc5391row3_col19\" class=\"data row3 col19\" >nan</td>\n",
       "                        <td id=\"T_884d5592_87e3_11e9_afc2_2bccf1bc5391row3_col20\" class=\"data row3 col20\" >nan</td>\n",
       "                        <td id=\"T_884d5592_87e3_11e9_afc2_2bccf1bc5391row3_col21\" class=\"data row3 col21\" >nan</td>\n",
       "                        <td id=\"T_884d5592_87e3_11e9_afc2_2bccf1bc5391row3_col22\" class=\"data row3 col22\" >nan</td>\n",
       "                        <td id=\"T_884d5592_87e3_11e9_afc2_2bccf1bc5391row3_col23\" class=\"data row3 col23\" >nan</td>\n",
       "                        <td id=\"T_884d5592_87e3_11e9_afc2_2bccf1bc5391row3_col24\" class=\"data row3 col24\" >nan</td>\n",
       "                        <td id=\"T_884d5592_87e3_11e9_afc2_2bccf1bc5391row3_col25\" class=\"data row3 col25\" >nan</td>\n",
       "                        <td id=\"T_884d5592_87e3_11e9_afc2_2bccf1bc5391row3_col26\" class=\"data row3 col26\" >nan</td>\n",
       "                        <td id=\"T_884d5592_87e3_11e9_afc2_2bccf1bc5391row3_col27\" class=\"data row3 col27\" >nan</td>\n",
       "                        <td id=\"T_884d5592_87e3_11e9_afc2_2bccf1bc5391row3_col28\" class=\"data row3 col28\" >nan</td>\n",
       "                        <td id=\"T_884d5592_87e3_11e9_afc2_2bccf1bc5391row3_col29\" class=\"data row3 col29\" >nan</td>\n",
       "                        <td id=\"T_884d5592_87e3_11e9_afc2_2bccf1bc5391row3_col30\" class=\"data row3 col30\" >nan</td>\n",
       "                        <td id=\"T_884d5592_87e3_11e9_afc2_2bccf1bc5391row3_col31\" class=\"data row3 col31\" >nan</td>\n",
       "                        <td id=\"T_884d5592_87e3_11e9_afc2_2bccf1bc5391row3_col32\" class=\"data row3 col32\" >2016-05-27 21:04:56.778094+00</td>\n",
       "                        <td id=\"T_884d5592_87e3_11e9_afc2_2bccf1bc5391row3_col33\" class=\"data row3 col33\" >21</td>\n",
       "                        <td id=\"T_884d5592_87e3_11e9_afc2_2bccf1bc5391row3_col34\" class=\"data row3 col34\" >329479</td>\n",
       "                        <td id=\"T_884d5592_87e3_11e9_afc2_2bccf1bc5391row3_col35\" class=\"data row3 col35\" >137567</td>\n",
       "                        <td id=\"T_884d5592_87e3_11e9_afc2_2bccf1bc5391row3_col36\" class=\"data row3 col36\" >approved</td>\n",
       "                        <td id=\"T_884d5592_87e3_11e9_afc2_2bccf1bc5391row3_col37\" class=\"data row3 col37\" >0</td>\n",
       "                        <td id=\"T_884d5592_87e3_11e9_afc2_2bccf1bc5391row3_col38\" class=\"data row3 col38\" >0</td>\n",
       "                        <td id=\"T_884d5592_87e3_11e9_afc2_2bccf1bc5391row3_col39\" class=\"data row3 col39\" >0</td>\n",
       "                        <td id=\"T_884d5592_87e3_11e9_afc2_2bccf1bc5391row3_col40\" class=\"data row3 col40\" >2</td>\n",
       "                        <td id=\"T_884d5592_87e3_11e9_afc2_2bccf1bc5391row3_col41\" class=\"data row3 col41\" >0</td>\n",
       "                        <td id=\"T_884d5592_87e3_11e9_afc2_2bccf1bc5391row3_col42\" class=\"data row3 col42\" >0</td>\n",
       "                        <td id=\"T_884d5592_87e3_11e9_afc2_2bccf1bc5391row3_col43\" class=\"data row3 col43\" >0</td>\n",
       "                        <td id=\"T_884d5592_87e3_11e9_afc2_2bccf1bc5391row3_col44\" class=\"data row3 col44\" >6</td>\n",
       "                        <td id=\"T_884d5592_87e3_11e9_afc2_2bccf1bc5391row3_col45\" class=\"data row3 col45\" >Or your burned down joint</td>\n",
       "                        <td id=\"T_884d5592_87e3_11e9_afc2_2bccf1bc5391row3_col46\" class=\"data row3 col46\" >or burned joint</td>\n",
       "                        <td id=\"T_884d5592_87e3_11e9_afc2_2bccf1bc5391row3_col47\" class=\"data row3 col47\" >or burn joint</td>\n",
       "                        <td id=\"T_884d5592_87e3_11e9_afc2_2bccf1bc5391row3_col48\" class=\"data row3 col48\" >or burn joint</td>\n",
       "                        <td id=\"T_884d5592_87e3_11e9_afc2_2bccf1bc5391row3_col49\" class=\"data row3 col49\" >0</td>\n",
       "                        <td id=\"T_884d5592_87e3_11e9_afc2_2bccf1bc5391row3_col50\" class=\"data row3 col50\" >0</td>\n",
       "                        <td id=\"T_884d5592_87e3_11e9_afc2_2bccf1bc5391row3_col51\" class=\"data row3 col51\" >0</td>\n",
       "                        <td id=\"T_884d5592_87e3_11e9_afc2_2bccf1bc5391row3_col52\" class=\"data row3 col52\" >True</td>\n",
       "            </tr>\n",
       "            <tr>\n",
       "                        <th id=\"T_884d5592_87e3_11e9_afc2_2bccf1bc5391level0_row4\" class=\"row_heading level0 row4\" >15603</th>\n",
       "                        <td id=\"T_884d5592_87e3_11e9_afc2_2bccf1bc5391row4_col0\" class=\"data row4 col0\" >323704</td>\n",
       "                        <td id=\"T_884d5592_87e3_11e9_afc2_2bccf1bc5391row4_col1\" class=\"data row4 col1\" >0</td>\n",
       "                        <td id=\"T_884d5592_87e3_11e9_afc2_2bccf1bc5391row4_col2\" class=\"data row4 col2\" >Administrations have too many crossed paths to separate them clearly from the effects of policy decisions of past administration.  Partisanship demands a winner/loser decision. When the model is cooperative government, both parties get a failing grade.  Their fates are linked.  Those who drop out blame 'the government', we can't rationally excuse either party\n",
       "\n",
       "I actually agree about Eugene, but whining by conservatives doesn't help correct the decision,   'don't complain, train'.    Maybe the Republican party in Eugene, like the Democrats, only listens to themselves.   Maybe they don't represent the majority of people living in Eugene?  Maybe 'their' people don't vote?  You would think they'd hit the street and find out?\n",
       "\n",
       "The message, neither party is flexible enough, smart enough, or creative enough to develop links to the majority of Americans.  What they are, is wealthy/powerful enough to buy their deepest desire - self-preservation of their dying breed.</td>\n",
       "                        <td id=\"T_884d5592_87e3_11e9_afc2_2bccf1bc5391row4_col3\" class=\"data row4 col3\" >0</td>\n",
       "                        <td id=\"T_884d5592_87e3_11e9_afc2_2bccf1bc5391row4_col4\" class=\"data row4 col4\" >0</td>\n",
       "                        <td id=\"T_884d5592_87e3_11e9_afc2_2bccf1bc5391row4_col5\" class=\"data row4 col5\" >0</td>\n",
       "                        <td id=\"T_884d5592_87e3_11e9_afc2_2bccf1bc5391row4_col6\" class=\"data row4 col6\" >0</td>\n",
       "                        <td id=\"T_884d5592_87e3_11e9_afc2_2bccf1bc5391row4_col7\" class=\"data row4 col7\" >0</td>\n",
       "                        <td id=\"T_884d5592_87e3_11e9_afc2_2bccf1bc5391row4_col8\" class=\"data row4 col8\" >nan</td>\n",
       "                        <td id=\"T_884d5592_87e3_11e9_afc2_2bccf1bc5391row4_col9\" class=\"data row4 col9\" >nan</td>\n",
       "                        <td id=\"T_884d5592_87e3_11e9_afc2_2bccf1bc5391row4_col10\" class=\"data row4 col10\" >nan</td>\n",
       "                        <td id=\"T_884d5592_87e3_11e9_afc2_2bccf1bc5391row4_col11\" class=\"data row4 col11\" >nan</td>\n",
       "                        <td id=\"T_884d5592_87e3_11e9_afc2_2bccf1bc5391row4_col12\" class=\"data row4 col12\" >nan</td>\n",
       "                        <td id=\"T_884d5592_87e3_11e9_afc2_2bccf1bc5391row4_col13\" class=\"data row4 col13\" >nan</td>\n",
       "                        <td id=\"T_884d5592_87e3_11e9_afc2_2bccf1bc5391row4_col14\" class=\"data row4 col14\" >nan</td>\n",
       "                        <td id=\"T_884d5592_87e3_11e9_afc2_2bccf1bc5391row4_col15\" class=\"data row4 col15\" >nan</td>\n",
       "                        <td id=\"T_884d5592_87e3_11e9_afc2_2bccf1bc5391row4_col16\" class=\"data row4 col16\" >nan</td>\n",
       "                        <td id=\"T_884d5592_87e3_11e9_afc2_2bccf1bc5391row4_col17\" class=\"data row4 col17\" >nan</td>\n",
       "                        <td id=\"T_884d5592_87e3_11e9_afc2_2bccf1bc5391row4_col18\" class=\"data row4 col18\" >nan</td>\n",
       "                        <td id=\"T_884d5592_87e3_11e9_afc2_2bccf1bc5391row4_col19\" class=\"data row4 col19\" >nan</td>\n",
       "                        <td id=\"T_884d5592_87e3_11e9_afc2_2bccf1bc5391row4_col20\" class=\"data row4 col20\" >nan</td>\n",
       "                        <td id=\"T_884d5592_87e3_11e9_afc2_2bccf1bc5391row4_col21\" class=\"data row4 col21\" >nan</td>\n",
       "                        <td id=\"T_884d5592_87e3_11e9_afc2_2bccf1bc5391row4_col22\" class=\"data row4 col22\" >nan</td>\n",
       "                        <td id=\"T_884d5592_87e3_11e9_afc2_2bccf1bc5391row4_col23\" class=\"data row4 col23\" >nan</td>\n",
       "                        <td id=\"T_884d5592_87e3_11e9_afc2_2bccf1bc5391row4_col24\" class=\"data row4 col24\" >nan</td>\n",
       "                        <td id=\"T_884d5592_87e3_11e9_afc2_2bccf1bc5391row4_col25\" class=\"data row4 col25\" >nan</td>\n",
       "                        <td id=\"T_884d5592_87e3_11e9_afc2_2bccf1bc5391row4_col26\" class=\"data row4 col26\" >nan</td>\n",
       "                        <td id=\"T_884d5592_87e3_11e9_afc2_2bccf1bc5391row4_col27\" class=\"data row4 col27\" >nan</td>\n",
       "                        <td id=\"T_884d5592_87e3_11e9_afc2_2bccf1bc5391row4_col28\" class=\"data row4 col28\" >nan</td>\n",
       "                        <td id=\"T_884d5592_87e3_11e9_afc2_2bccf1bc5391row4_col29\" class=\"data row4 col29\" >nan</td>\n",
       "                        <td id=\"T_884d5592_87e3_11e9_afc2_2bccf1bc5391row4_col30\" class=\"data row4 col30\" >nan</td>\n",
       "                        <td id=\"T_884d5592_87e3_11e9_afc2_2bccf1bc5391row4_col31\" class=\"data row4 col31\" >nan</td>\n",
       "                        <td id=\"T_884d5592_87e3_11e9_afc2_2bccf1bc5391row4_col32\" class=\"data row4 col32\" >2016-05-23 00:33:07.410603+00</td>\n",
       "                        <td id=\"T_884d5592_87e3_11e9_afc2_2bccf1bc5391row4_col33\" class=\"data row4 col33\" >13</td>\n",
       "                        <td id=\"T_884d5592_87e3_11e9_afc2_2bccf1bc5391row4_col34\" class=\"data row4 col34\" >323155</td>\n",
       "                        <td id=\"T_884d5592_87e3_11e9_afc2_2bccf1bc5391row4_col35\" class=\"data row4 col35\" >120668</td>\n",
       "                        <td id=\"T_884d5592_87e3_11e9_afc2_2bccf1bc5391row4_col36\" class=\"data row4 col36\" >approved</td>\n",
       "                        <td id=\"T_884d5592_87e3_11e9_afc2_2bccf1bc5391row4_col37\" class=\"data row4 col37\" >0</td>\n",
       "                        <td id=\"T_884d5592_87e3_11e9_afc2_2bccf1bc5391row4_col38\" class=\"data row4 col38\" >0</td>\n",
       "                        <td id=\"T_884d5592_87e3_11e9_afc2_2bccf1bc5391row4_col39\" class=\"data row4 col39\" >0</td>\n",
       "                        <td id=\"T_884d5592_87e3_11e9_afc2_2bccf1bc5391row4_col40\" class=\"data row4 col40\" >0</td>\n",
       "                        <td id=\"T_884d5592_87e3_11e9_afc2_2bccf1bc5391row4_col41\" class=\"data row4 col41\" >0</td>\n",
       "                        <td id=\"T_884d5592_87e3_11e9_afc2_2bccf1bc5391row4_col42\" class=\"data row4 col42\" >0</td>\n",
       "                        <td id=\"T_884d5592_87e3_11e9_afc2_2bccf1bc5391row4_col43\" class=\"data row4 col43\" >0</td>\n",
       "                        <td id=\"T_884d5592_87e3_11e9_afc2_2bccf1bc5391row4_col44\" class=\"data row4 col44\" >4</td>\n",
       "                        <td id=\"T_884d5592_87e3_11e9_afc2_2bccf1bc5391row4_col45\" class=\"data row4 col45\" >Administrations have too many crossed paths to separate them clearly from the effects of policy decisions of past administration  Partisanship demands a winner/loser decision When the model is cooperative government both parties get a failing grade  Their fates are linked  Those who drop out blame the government we can't rationally excuse either party\n",
       "\n",
       "I actually agree about Eugene but whining by conservatives doesn't help correct the decision   don't complain train    Maybe the Republican party in Eugene like the Democrats only listens to themselves   Maybe they don't represent the majority of people living in Eugene  Maybe their people don't vote  You would think they'd hit the street and find out?\n",
       "\n",
       "The message neither party is flexible enough smart enough or creative enough to develop links to the majority of Americans  What they are is wealthy/powerful enough to buy their deepest desire   self preservation of their dying breed</td>\n",
       "                        <td id=\"T_884d5592_87e3_11e9_afc2_2bccf1bc5391row4_col46\" class=\"data row4 col46\" >administrations many crossed paths separate them clearly effects policy decisions past administration partisanship demands winner/loser decision when model cooperative government parties get failing grade their fates linked those drop blame government can't rationally excuse either party\n",
       "\n",
       "i actually agree eugene whining conservatives help correct decision complain train maybe republican party eugene like democrats listens themselves maybe represent majority people living eugene maybe people vote you would think they'd hit street find out?\n",
       "\n",
       "the message neither party flexible enough smart enough creative enough develop links majority americans what wealthy/powerful enough buy deepest desire self preservation dying breed</td>\n",
       "                        <td id=\"T_884d5592_87e3_11e9_afc2_2bccf1bc5391row4_col47\" class=\"data row4 col47\" >administr mani cross path separ them clearli effect polici decis past administr partisanship demand winner/los decis when model cooper govern parti get fail grade their fate link those drop blame govern can't ration excus either party\n",
       "\n",
       "i actual agre eugen whine conserv help correct decis complain train mayb republican parti eugen like democrat listen themselv mayb repres major peopl live eugen mayb peopl vote you would think they'd hit street find out?\n",
       "\n",
       "th messag neither parti flexibl enough smart enough creativ enough develop link major american what wealthy/pow enough buy deepest desir self preserv die breed</td>\n",
       "                        <td id=\"T_884d5592_87e3_11e9_afc2_2bccf1bc5391row4_col48\" class=\"data row4 col48\" >admin many cross path sep them clear effect policy decid past admin part demand winner/los decid when model coop govern party get fail grad their fat link thos drop blam govern can't rat excus eith party\n",
       "\n",
       "i act agr eug whin conserv help correct decid complain train mayb republ party eug lik democr list themselv mayb repres maj peopl liv eug mayb peopl vot you would think they'd hit street find out?\n",
       "\n",
       "the mess neith party flex enough smart enough cre enough develop link maj am what wealthy/powerful enough buy deepest desir self preserv dying bree</td>\n",
       "                        <td id=\"T_884d5592_87e3_11e9_afc2_2bccf1bc5391row4_col49\" class=\"data row4 col49\" >0</td>\n",
       "                        <td id=\"T_884d5592_87e3_11e9_afc2_2bccf1bc5391row4_col50\" class=\"data row4 col50\" >0</td>\n",
       "                        <td id=\"T_884d5592_87e3_11e9_afc2_2bccf1bc5391row4_col51\" class=\"data row4 col51\" >0</td>\n",
       "                        <td id=\"T_884d5592_87e3_11e9_afc2_2bccf1bc5391row4_col52\" class=\"data row4 col52\" >True</td>\n",
       "            </tr>\n",
       "            <tr>\n",
       "                        <th id=\"T_884d5592_87e3_11e9_afc2_2bccf1bc5391level0_row5\" class=\"row_heading level0 row5\" >15604</th>\n",
       "                        <td id=\"T_884d5592_87e3_11e9_afc2_2bccf1bc5391row5_col0\" class=\"data row5 col0\" >347199</td>\n",
       "                        <td id=\"T_884d5592_87e3_11e9_afc2_2bccf1bc5391row5_col1\" class=\"data row5 col1\" >0</td>\n",
       "                        <td id=\"T_884d5592_87e3_11e9_afc2_2bccf1bc5391row5_col2\" class=\"data row5 col2\" >David Otness: Thanks for the excellent summary.</td>\n",
       "                        <td id=\"T_884d5592_87e3_11e9_afc2_2bccf1bc5391row5_col3\" class=\"data row5 col3\" >0</td>\n",
       "                        <td id=\"T_884d5592_87e3_11e9_afc2_2bccf1bc5391row5_col4\" class=\"data row5 col4\" >0</td>\n",
       "                        <td id=\"T_884d5592_87e3_11e9_afc2_2bccf1bc5391row5_col5\" class=\"data row5 col5\" >0</td>\n",
       "                        <td id=\"T_884d5592_87e3_11e9_afc2_2bccf1bc5391row5_col6\" class=\"data row5 col6\" >0</td>\n",
       "                        <td id=\"T_884d5592_87e3_11e9_afc2_2bccf1bc5391row5_col7\" class=\"data row5 col7\" >0</td>\n",
       "                        <td id=\"T_884d5592_87e3_11e9_afc2_2bccf1bc5391row5_col8\" class=\"data row5 col8\" >nan</td>\n",
       "                        <td id=\"T_884d5592_87e3_11e9_afc2_2bccf1bc5391row5_col9\" class=\"data row5 col9\" >nan</td>\n",
       "                        <td id=\"T_884d5592_87e3_11e9_afc2_2bccf1bc5391row5_col10\" class=\"data row5 col10\" >nan</td>\n",
       "                        <td id=\"T_884d5592_87e3_11e9_afc2_2bccf1bc5391row5_col11\" class=\"data row5 col11\" >nan</td>\n",
       "                        <td id=\"T_884d5592_87e3_11e9_afc2_2bccf1bc5391row5_col12\" class=\"data row5 col12\" >nan</td>\n",
       "                        <td id=\"T_884d5592_87e3_11e9_afc2_2bccf1bc5391row5_col13\" class=\"data row5 col13\" >nan</td>\n",
       "                        <td id=\"T_884d5592_87e3_11e9_afc2_2bccf1bc5391row5_col14\" class=\"data row5 col14\" >nan</td>\n",
       "                        <td id=\"T_884d5592_87e3_11e9_afc2_2bccf1bc5391row5_col15\" class=\"data row5 col15\" >nan</td>\n",
       "                        <td id=\"T_884d5592_87e3_11e9_afc2_2bccf1bc5391row5_col16\" class=\"data row5 col16\" >nan</td>\n",
       "                        <td id=\"T_884d5592_87e3_11e9_afc2_2bccf1bc5391row5_col17\" class=\"data row5 col17\" >nan</td>\n",
       "                        <td id=\"T_884d5592_87e3_11e9_afc2_2bccf1bc5391row5_col18\" class=\"data row5 col18\" >nan</td>\n",
       "                        <td id=\"T_884d5592_87e3_11e9_afc2_2bccf1bc5391row5_col19\" class=\"data row5 col19\" >nan</td>\n",
       "                        <td id=\"T_884d5592_87e3_11e9_afc2_2bccf1bc5391row5_col20\" class=\"data row5 col20\" >nan</td>\n",
       "                        <td id=\"T_884d5592_87e3_11e9_afc2_2bccf1bc5391row5_col21\" class=\"data row5 col21\" >nan</td>\n",
       "                        <td id=\"T_884d5592_87e3_11e9_afc2_2bccf1bc5391row5_col22\" class=\"data row5 col22\" >nan</td>\n",
       "                        <td id=\"T_884d5592_87e3_11e9_afc2_2bccf1bc5391row5_col23\" class=\"data row5 col23\" >nan</td>\n",
       "                        <td id=\"T_884d5592_87e3_11e9_afc2_2bccf1bc5391row5_col24\" class=\"data row5 col24\" >nan</td>\n",
       "                        <td id=\"T_884d5592_87e3_11e9_afc2_2bccf1bc5391row5_col25\" class=\"data row5 col25\" >nan</td>\n",
       "                        <td id=\"T_884d5592_87e3_11e9_afc2_2bccf1bc5391row5_col26\" class=\"data row5 col26\" >nan</td>\n",
       "                        <td id=\"T_884d5592_87e3_11e9_afc2_2bccf1bc5391row5_col27\" class=\"data row5 col27\" >nan</td>\n",
       "                        <td id=\"T_884d5592_87e3_11e9_afc2_2bccf1bc5391row5_col28\" class=\"data row5 col28\" >nan</td>\n",
       "                        <td id=\"T_884d5592_87e3_11e9_afc2_2bccf1bc5391row5_col29\" class=\"data row5 col29\" >nan</td>\n",
       "                        <td id=\"T_884d5592_87e3_11e9_afc2_2bccf1bc5391row5_col30\" class=\"data row5 col30\" >nan</td>\n",
       "                        <td id=\"T_884d5592_87e3_11e9_afc2_2bccf1bc5391row5_col31\" class=\"data row5 col31\" >nan</td>\n",
       "                        <td id=\"T_884d5592_87e3_11e9_afc2_2bccf1bc5391row5_col32\" class=\"data row5 col32\" >2016-06-12 05:00:39.373017+00</td>\n",
       "                        <td id=\"T_884d5592_87e3_11e9_afc2_2bccf1bc5391row5_col33\" class=\"data row5 col33\" >21</td>\n",
       "                        <td id=\"T_884d5592_87e3_11e9_afc2_2bccf1bc5391row5_col34\" class=\"data row5 col34\" >346427</td>\n",
       "                        <td id=\"T_884d5592_87e3_11e9_afc2_2bccf1bc5391row5_col35\" class=\"data row5 col35\" >138558</td>\n",
       "                        <td id=\"T_884d5592_87e3_11e9_afc2_2bccf1bc5391row5_col36\" class=\"data row5 col36\" >approved</td>\n",
       "                        <td id=\"T_884d5592_87e3_11e9_afc2_2bccf1bc5391row5_col37\" class=\"data row5 col37\" >0</td>\n",
       "                        <td id=\"T_884d5592_87e3_11e9_afc2_2bccf1bc5391row5_col38\" class=\"data row5 col38\" >0</td>\n",
       "                        <td id=\"T_884d5592_87e3_11e9_afc2_2bccf1bc5391row5_col39\" class=\"data row5 col39\" >0</td>\n",
       "                        <td id=\"T_884d5592_87e3_11e9_afc2_2bccf1bc5391row5_col40\" class=\"data row5 col40\" >3</td>\n",
       "                        <td id=\"T_884d5592_87e3_11e9_afc2_2bccf1bc5391row5_col41\" class=\"data row5 col41\" >0</td>\n",
       "                        <td id=\"T_884d5592_87e3_11e9_afc2_2bccf1bc5391row5_col42\" class=\"data row5 col42\" >0</td>\n",
       "                        <td id=\"T_884d5592_87e3_11e9_afc2_2bccf1bc5391row5_col43\" class=\"data row5 col43\" >0</td>\n",
       "                        <td id=\"T_884d5592_87e3_11e9_afc2_2bccf1bc5391row5_col44\" class=\"data row5 col44\" >4</td>\n",
       "                        <td id=\"T_884d5592_87e3_11e9_afc2_2bccf1bc5391row5_col45\" class=\"data row5 col45\" >David Otness Thanks for the excellent summary</td>\n",
       "                        <td id=\"T_884d5592_87e3_11e9_afc2_2bccf1bc5391row5_col46\" class=\"data row5 col46\" >david otness thanks excellent summary</td>\n",
       "                        <td id=\"T_884d5592_87e3_11e9_afc2_2bccf1bc5391row5_col47\" class=\"data row5 col47\" >david ot thank excel summari</td>\n",
       "                        <td id=\"T_884d5592_87e3_11e9_afc2_2bccf1bc5391row5_col48\" class=\"data row5 col48\" >david ot thank excel sum</td>\n",
       "                        <td id=\"T_884d5592_87e3_11e9_afc2_2bccf1bc5391row5_col49\" class=\"data row5 col49\" >0</td>\n",
       "                        <td id=\"T_884d5592_87e3_11e9_afc2_2bccf1bc5391row5_col50\" class=\"data row5 col50\" >0</td>\n",
       "                        <td id=\"T_884d5592_87e3_11e9_afc2_2bccf1bc5391row5_col51\" class=\"data row5 col51\" >0</td>\n",
       "                        <td id=\"T_884d5592_87e3_11e9_afc2_2bccf1bc5391row5_col52\" class=\"data row5 col52\" >True</td>\n",
       "            </tr>\n",
       "            <tr>\n",
       "                        <th id=\"T_884d5592_87e3_11e9_afc2_2bccf1bc5391level0_row6\" class=\"row_heading level0 row6\" >15605</th>\n",
       "                        <td id=\"T_884d5592_87e3_11e9_afc2_2bccf1bc5391row6_col0\" class=\"data row6 col0\" >278864</td>\n",
       "                        <td id=\"T_884d5592_87e3_11e9_afc2_2bccf1bc5391row6_col1\" class=\"data row6 col1\" >0</td>\n",
       "                        <td id=\"T_884d5592_87e3_11e9_afc2_2bccf1bc5391row6_col2\" class=\"data row6 col2\" >\"They ignore the plain evidence of dozens of campuses in several states with combined decades of experience of legal carry on campus not producing -any- of the “fears and concerns” they state.\"\n",
       "\n",
       "So why are negligent discharges up on campuses who've allowed concealed carry? Were you the \"responsible gun owner\" who left his shooting iron in the crapper last year at UAF? Or maybe 1/3 who've left unsecured firearms around in the past 3 months, also at UAF?</td>\n",
       "                        <td id=\"T_884d5592_87e3_11e9_afc2_2bccf1bc5391row6_col3\" class=\"data row6 col3\" >0</td>\n",
       "                        <td id=\"T_884d5592_87e3_11e9_afc2_2bccf1bc5391row6_col4\" class=\"data row6 col4\" >0</td>\n",
       "                        <td id=\"T_884d5592_87e3_11e9_afc2_2bccf1bc5391row6_col5\" class=\"data row6 col5\" >0</td>\n",
       "                        <td id=\"T_884d5592_87e3_11e9_afc2_2bccf1bc5391row6_col6\" class=\"data row6 col6\" >0</td>\n",
       "                        <td id=\"T_884d5592_87e3_11e9_afc2_2bccf1bc5391row6_col7\" class=\"data row6 col7\" >0</td>\n",
       "                        <td id=\"T_884d5592_87e3_11e9_afc2_2bccf1bc5391row6_col8\" class=\"data row6 col8\" >nan</td>\n",
       "                        <td id=\"T_884d5592_87e3_11e9_afc2_2bccf1bc5391row6_col9\" class=\"data row6 col9\" >nan</td>\n",
       "                        <td id=\"T_884d5592_87e3_11e9_afc2_2bccf1bc5391row6_col10\" class=\"data row6 col10\" >nan</td>\n",
       "                        <td id=\"T_884d5592_87e3_11e9_afc2_2bccf1bc5391row6_col11\" class=\"data row6 col11\" >nan</td>\n",
       "                        <td id=\"T_884d5592_87e3_11e9_afc2_2bccf1bc5391row6_col12\" class=\"data row6 col12\" >nan</td>\n",
       "                        <td id=\"T_884d5592_87e3_11e9_afc2_2bccf1bc5391row6_col13\" class=\"data row6 col13\" >nan</td>\n",
       "                        <td id=\"T_884d5592_87e3_11e9_afc2_2bccf1bc5391row6_col14\" class=\"data row6 col14\" >nan</td>\n",
       "                        <td id=\"T_884d5592_87e3_11e9_afc2_2bccf1bc5391row6_col15\" class=\"data row6 col15\" >nan</td>\n",
       "                        <td id=\"T_884d5592_87e3_11e9_afc2_2bccf1bc5391row6_col16\" class=\"data row6 col16\" >nan</td>\n",
       "                        <td id=\"T_884d5592_87e3_11e9_afc2_2bccf1bc5391row6_col17\" class=\"data row6 col17\" >nan</td>\n",
       "                        <td id=\"T_884d5592_87e3_11e9_afc2_2bccf1bc5391row6_col18\" class=\"data row6 col18\" >nan</td>\n",
       "                        <td id=\"T_884d5592_87e3_11e9_afc2_2bccf1bc5391row6_col19\" class=\"data row6 col19\" >nan</td>\n",
       "                        <td id=\"T_884d5592_87e3_11e9_afc2_2bccf1bc5391row6_col20\" class=\"data row6 col20\" >nan</td>\n",
       "                        <td id=\"T_884d5592_87e3_11e9_afc2_2bccf1bc5391row6_col21\" class=\"data row6 col21\" >nan</td>\n",
       "                        <td id=\"T_884d5592_87e3_11e9_afc2_2bccf1bc5391row6_col22\" class=\"data row6 col22\" >nan</td>\n",
       "                        <td id=\"T_884d5592_87e3_11e9_afc2_2bccf1bc5391row6_col23\" class=\"data row6 col23\" >nan</td>\n",
       "                        <td id=\"T_884d5592_87e3_11e9_afc2_2bccf1bc5391row6_col24\" class=\"data row6 col24\" >nan</td>\n",
       "                        <td id=\"T_884d5592_87e3_11e9_afc2_2bccf1bc5391row6_col25\" class=\"data row6 col25\" >nan</td>\n",
       "                        <td id=\"T_884d5592_87e3_11e9_afc2_2bccf1bc5391row6_col26\" class=\"data row6 col26\" >nan</td>\n",
       "                        <td id=\"T_884d5592_87e3_11e9_afc2_2bccf1bc5391row6_col27\" class=\"data row6 col27\" >nan</td>\n",
       "                        <td id=\"T_884d5592_87e3_11e9_afc2_2bccf1bc5391row6_col28\" class=\"data row6 col28\" >nan</td>\n",
       "                        <td id=\"T_884d5592_87e3_11e9_afc2_2bccf1bc5391row6_col29\" class=\"data row6 col29\" >nan</td>\n",
       "                        <td id=\"T_884d5592_87e3_11e9_afc2_2bccf1bc5391row6_col30\" class=\"data row6 col30\" >nan</td>\n",
       "                        <td id=\"T_884d5592_87e3_11e9_afc2_2bccf1bc5391row6_col31\" class=\"data row6 col31\" >nan</td>\n",
       "                        <td id=\"T_884d5592_87e3_11e9_afc2_2bccf1bc5391row6_col32\" class=\"data row6 col32\" >2016-04-12 20:45:32.311346+00</td>\n",
       "                        <td id=\"T_884d5592_87e3_11e9_afc2_2bccf1bc5391row6_col33\" class=\"data row6 col33\" >21</td>\n",
       "                        <td id=\"T_884d5592_87e3_11e9_afc2_2bccf1bc5391row6_col34\" class=\"data row6 col34\" >278681</td>\n",
       "                        <td id=\"T_884d5592_87e3_11e9_afc2_2bccf1bc5391row6_col35\" class=\"data row6 col35\" >98207</td>\n",
       "                        <td id=\"T_884d5592_87e3_11e9_afc2_2bccf1bc5391row6_col36\" class=\"data row6 col36\" >approved</td>\n",
       "                        <td id=\"T_884d5592_87e3_11e9_afc2_2bccf1bc5391row6_col37\" class=\"data row6 col37\" >0</td>\n",
       "                        <td id=\"T_884d5592_87e3_11e9_afc2_2bccf1bc5391row6_col38\" class=\"data row6 col38\" >0</td>\n",
       "                        <td id=\"T_884d5592_87e3_11e9_afc2_2bccf1bc5391row6_col39\" class=\"data row6 col39\" >0</td>\n",
       "                        <td id=\"T_884d5592_87e3_11e9_afc2_2bccf1bc5391row6_col40\" class=\"data row6 col40\" >2</td>\n",
       "                        <td id=\"T_884d5592_87e3_11e9_afc2_2bccf1bc5391row6_col41\" class=\"data row6 col41\" >0</td>\n",
       "                        <td id=\"T_884d5592_87e3_11e9_afc2_2bccf1bc5391row6_col42\" class=\"data row6 col42\" >0</td>\n",
       "                        <td id=\"T_884d5592_87e3_11e9_afc2_2bccf1bc5391row6_col43\" class=\"data row6 col43\" >0</td>\n",
       "                        <td id=\"T_884d5592_87e3_11e9_afc2_2bccf1bc5391row6_col44\" class=\"data row6 col44\" >4</td>\n",
       "                        <td id=\"T_884d5592_87e3_11e9_afc2_2bccf1bc5391row6_col45\" class=\"data row6 col45\" >They ignore the plain evidence of dozens of campuses in several states with combined decades of experience of legal carry on campus not producing  any  of the “fears and concerns” they state.\"\n",
       "\n",
       "So why are negligent discharges up on campuses who've allowed concealed carry Were you the responsible gun owner who left his shooting iron in the crapper last year at UAF Or maybe 1/3 who've left unsecured firearms around in the past 3 months also at UAF</td>\n",
       "                        <td id=\"T_884d5592_87e3_11e9_afc2_2bccf1bc5391row6_col46\" class=\"data row6 col46\" >they ignore plain evidence dozens campuses several states combined decades experience legal carry campus not producing “fears concerns” state.\"\n",
       "\n",
       "so negligent discharges campuses who've allowed concealed carry were responsible gun owner left shooting iron crapper last year uaf or maybe 1/3 who've left unsecured firearms around past 3 months also uaf</td>\n",
       "                        <td id=\"T_884d5592_87e3_11e9_afc2_2bccf1bc5391row6_col47\" class=\"data row6 col47\" >they ignor plain evid dozen campus sever state combin decad experi legal carri campu not produc “fear concerns” state.\"\n",
       "\n",
       "so neglig discharg campus who'v allow conceal carri were respons gun owner left shoot iron crapper last year uaf or mayb 1/3 who'v left unsecur firearm around past 3 month also uaf</td>\n",
       "                        <td id=\"T_884d5592_87e3_11e9_afc2_2bccf1bc5391row6_col48\" class=\"data row6 col48\" >they ign plain evid doz campus sev stat combin decad expery leg carry camp not produc “fears concerns” state.\"\n",
       "\n",
       "so neglig discharg campus who've allow cont carry wer respons gun own left shoot iron crap last year uaf or mayb 1/3 who've left unsec firearm around past 3 month also uaf</td>\n",
       "                        <td id=\"T_884d5592_87e3_11e9_afc2_2bccf1bc5391row6_col49\" class=\"data row6 col49\" >0</td>\n",
       "                        <td id=\"T_884d5592_87e3_11e9_afc2_2bccf1bc5391row6_col50\" class=\"data row6 col50\" >0</td>\n",
       "                        <td id=\"T_884d5592_87e3_11e9_afc2_2bccf1bc5391row6_col51\" class=\"data row6 col51\" >0</td>\n",
       "                        <td id=\"T_884d5592_87e3_11e9_afc2_2bccf1bc5391row6_col52\" class=\"data row6 col52\" >True</td>\n",
       "            </tr>\n",
       "            <tr>\n",
       "                        <th id=\"T_884d5592_87e3_11e9_afc2_2bccf1bc5391level0_row7\" class=\"row_heading level0 row7\" >15606</th>\n",
       "                        <td id=\"T_884d5592_87e3_11e9_afc2_2bccf1bc5391row7_col0\" class=\"data row7 col0\" >268197</td>\n",
       "                        <td id=\"T_884d5592_87e3_11e9_afc2_2bccf1bc5391row7_col1\" class=\"data row7 col1\" >0</td>\n",
       "                        <td id=\"T_884d5592_87e3_11e9_afc2_2bccf1bc5391row7_col2\" class=\"data row7 col2\" >The Pusher ~ http://www.lyricsmode.com/lyrics/s/steppenwolf/the_pusher.html#!\n",
       "He On The Streets  &  He In The AMA ~ Good Luck America.... We Need It</td>\n",
       "                        <td id=\"T_884d5592_87e3_11e9_afc2_2bccf1bc5391row7_col3\" class=\"data row7 col3\" >0</td>\n",
       "                        <td id=\"T_884d5592_87e3_11e9_afc2_2bccf1bc5391row7_col4\" class=\"data row7 col4\" >0</td>\n",
       "                        <td id=\"T_884d5592_87e3_11e9_afc2_2bccf1bc5391row7_col5\" class=\"data row7 col5\" >0</td>\n",
       "                        <td id=\"T_884d5592_87e3_11e9_afc2_2bccf1bc5391row7_col6\" class=\"data row7 col6\" >0</td>\n",
       "                        <td id=\"T_884d5592_87e3_11e9_afc2_2bccf1bc5391row7_col7\" class=\"data row7 col7\" >0</td>\n",
       "                        <td id=\"T_884d5592_87e3_11e9_afc2_2bccf1bc5391row7_col8\" class=\"data row7 col8\" >nan</td>\n",
       "                        <td id=\"T_884d5592_87e3_11e9_afc2_2bccf1bc5391row7_col9\" class=\"data row7 col9\" >nan</td>\n",
       "                        <td id=\"T_884d5592_87e3_11e9_afc2_2bccf1bc5391row7_col10\" class=\"data row7 col10\" >nan</td>\n",
       "                        <td id=\"T_884d5592_87e3_11e9_afc2_2bccf1bc5391row7_col11\" class=\"data row7 col11\" >nan</td>\n",
       "                        <td id=\"T_884d5592_87e3_11e9_afc2_2bccf1bc5391row7_col12\" class=\"data row7 col12\" >nan</td>\n",
       "                        <td id=\"T_884d5592_87e3_11e9_afc2_2bccf1bc5391row7_col13\" class=\"data row7 col13\" >nan</td>\n",
       "                        <td id=\"T_884d5592_87e3_11e9_afc2_2bccf1bc5391row7_col14\" class=\"data row7 col14\" >nan</td>\n",
       "                        <td id=\"T_884d5592_87e3_11e9_afc2_2bccf1bc5391row7_col15\" class=\"data row7 col15\" >nan</td>\n",
       "                        <td id=\"T_884d5592_87e3_11e9_afc2_2bccf1bc5391row7_col16\" class=\"data row7 col16\" >nan</td>\n",
       "                        <td id=\"T_884d5592_87e3_11e9_afc2_2bccf1bc5391row7_col17\" class=\"data row7 col17\" >nan</td>\n",
       "                        <td id=\"T_884d5592_87e3_11e9_afc2_2bccf1bc5391row7_col18\" class=\"data row7 col18\" >nan</td>\n",
       "                        <td id=\"T_884d5592_87e3_11e9_afc2_2bccf1bc5391row7_col19\" class=\"data row7 col19\" >nan</td>\n",
       "                        <td id=\"T_884d5592_87e3_11e9_afc2_2bccf1bc5391row7_col20\" class=\"data row7 col20\" >nan</td>\n",
       "                        <td id=\"T_884d5592_87e3_11e9_afc2_2bccf1bc5391row7_col21\" class=\"data row7 col21\" >nan</td>\n",
       "                        <td id=\"T_884d5592_87e3_11e9_afc2_2bccf1bc5391row7_col22\" class=\"data row7 col22\" >nan</td>\n",
       "                        <td id=\"T_884d5592_87e3_11e9_afc2_2bccf1bc5391row7_col23\" class=\"data row7 col23\" >nan</td>\n",
       "                        <td id=\"T_884d5592_87e3_11e9_afc2_2bccf1bc5391row7_col24\" class=\"data row7 col24\" >nan</td>\n",
       "                        <td id=\"T_884d5592_87e3_11e9_afc2_2bccf1bc5391row7_col25\" class=\"data row7 col25\" >nan</td>\n",
       "                        <td id=\"T_884d5592_87e3_11e9_afc2_2bccf1bc5391row7_col26\" class=\"data row7 col26\" >nan</td>\n",
       "                        <td id=\"T_884d5592_87e3_11e9_afc2_2bccf1bc5391row7_col27\" class=\"data row7 col27\" >nan</td>\n",
       "                        <td id=\"T_884d5592_87e3_11e9_afc2_2bccf1bc5391row7_col28\" class=\"data row7 col28\" >nan</td>\n",
       "                        <td id=\"T_884d5592_87e3_11e9_afc2_2bccf1bc5391row7_col29\" class=\"data row7 col29\" >nan</td>\n",
       "                        <td id=\"T_884d5592_87e3_11e9_afc2_2bccf1bc5391row7_col30\" class=\"data row7 col30\" >nan</td>\n",
       "                        <td id=\"T_884d5592_87e3_11e9_afc2_2bccf1bc5391row7_col31\" class=\"data row7 col31\" >nan</td>\n",
       "                        <td id=\"T_884d5592_87e3_11e9_afc2_2bccf1bc5391row7_col32\" class=\"data row7 col32\" >2016-04-03 15:22:55.887014+00</td>\n",
       "                        <td id=\"T_884d5592_87e3_11e9_afc2_2bccf1bc5391row7_col33\" class=\"data row7 col33\" >21</td>\n",
       "                        <td id=\"T_884d5592_87e3_11e9_afc2_2bccf1bc5391row7_col34\" class=\"data row7 col34\" >nan</td>\n",
       "                        <td id=\"T_884d5592_87e3_11e9_afc2_2bccf1bc5391row7_col35\" class=\"data row7 col35\" >56412</td>\n",
       "                        <td id=\"T_884d5592_87e3_11e9_afc2_2bccf1bc5391row7_col36\" class=\"data row7 col36\" >approved</td>\n",
       "                        <td id=\"T_884d5592_87e3_11e9_afc2_2bccf1bc5391row7_col37\" class=\"data row7 col37\" >0</td>\n",
       "                        <td id=\"T_884d5592_87e3_11e9_afc2_2bccf1bc5391row7_col38\" class=\"data row7 col38\" >0</td>\n",
       "                        <td id=\"T_884d5592_87e3_11e9_afc2_2bccf1bc5391row7_col39\" class=\"data row7 col39\" >0</td>\n",
       "                        <td id=\"T_884d5592_87e3_11e9_afc2_2bccf1bc5391row7_col40\" class=\"data row7 col40\" >1</td>\n",
       "                        <td id=\"T_884d5592_87e3_11e9_afc2_2bccf1bc5391row7_col41\" class=\"data row7 col41\" >0</td>\n",
       "                        <td id=\"T_884d5592_87e3_11e9_afc2_2bccf1bc5391row7_col42\" class=\"data row7 col42\" >0</td>\n",
       "                        <td id=\"T_884d5592_87e3_11e9_afc2_2bccf1bc5391row7_col43\" class=\"data row7 col43\" >0</td>\n",
       "                        <td id=\"T_884d5592_87e3_11e9_afc2_2bccf1bc5391row7_col44\" class=\"data row7 col44\" >4</td>\n",
       "                        <td id=\"T_884d5592_87e3_11e9_afc2_2bccf1bc5391row7_col45\" class=\"data row7 col45\" >The Pusher  http://www.lyricsmode.com/lyrics/s/steppenwolf/the_pusher.html#!\n",
       "He On The Streets    He In The AMA  Good Luck America We Need It</td>\n",
       "                        <td id=\"T_884d5592_87e3_11e9_afc2_2bccf1bc5391row7_col46\" class=\"data row7 col46\" >the pusher http://www.lyricsmode.com/lyrics/s/steppenwolf/the_pusher.html#!\n",
       "he on the streets he in the ama good luck america we need it</td>\n",
       "                        <td id=\"T_884d5592_87e3_11e9_afc2_2bccf1bc5391row7_col47\" class=\"data row7 col47\" >the pusher http://www.lyricsmode.com/lyrics/s/steppenwolf/the_pusher.html#!\n",
       "h on the street he in the ama good luck america we need it</td>\n",
       "                        <td id=\"T_884d5592_87e3_11e9_afc2_2bccf1bc5391row7_col48\" class=\"data row7 col48\" >the push http://www.lyricsmode.com/lyrics/s/steppenwolf/the_pusher.html#!\n",
       "he on the streets he in the am good luck americ we nee it</td>\n",
       "                        <td id=\"T_884d5592_87e3_11e9_afc2_2bccf1bc5391row7_col49\" class=\"data row7 col49\" >0</td>\n",
       "                        <td id=\"T_884d5592_87e3_11e9_afc2_2bccf1bc5391row7_col50\" class=\"data row7 col50\" >0</td>\n",
       "                        <td id=\"T_884d5592_87e3_11e9_afc2_2bccf1bc5391row7_col51\" class=\"data row7 col51\" >0</td>\n",
       "                        <td id=\"T_884d5592_87e3_11e9_afc2_2bccf1bc5391row7_col52\" class=\"data row7 col52\" >True</td>\n",
       "            </tr>\n",
       "            <tr>\n",
       "                        <th id=\"T_884d5592_87e3_11e9_afc2_2bccf1bc5391level0_row8\" class=\"row_heading level0 row8\" >15607</th>\n",
       "                        <td id=\"T_884d5592_87e3_11e9_afc2_2bccf1bc5391row8_col0\" class=\"data row8 col0\" >283649</td>\n",
       "                        <td id=\"T_884d5592_87e3_11e9_afc2_2bccf1bc5391row8_col1\" class=\"data row8 col1\" >0</td>\n",
       "                        <td id=\"T_884d5592_87e3_11e9_afc2_2bccf1bc5391row8_col2\" class=\"data row8 col2\" >Where were all the haters of liberty when Hussein Obama talks of his \" Christian faith\" ?\n",
       " Or do they just figure Hussein Obama is lying about that as well ?</td>\n",
       "                        <td id=\"T_884d5592_87e3_11e9_afc2_2bccf1bc5391row8_col3\" class=\"data row8 col3\" >0</td>\n",
       "                        <td id=\"T_884d5592_87e3_11e9_afc2_2bccf1bc5391row8_col4\" class=\"data row8 col4\" >0</td>\n",
       "                        <td id=\"T_884d5592_87e3_11e9_afc2_2bccf1bc5391row8_col5\" class=\"data row8 col5\" >0</td>\n",
       "                        <td id=\"T_884d5592_87e3_11e9_afc2_2bccf1bc5391row8_col6\" class=\"data row8 col6\" >0</td>\n",
       "                        <td id=\"T_884d5592_87e3_11e9_afc2_2bccf1bc5391row8_col7\" class=\"data row8 col7\" >0</td>\n",
       "                        <td id=\"T_884d5592_87e3_11e9_afc2_2bccf1bc5391row8_col8\" class=\"data row8 col8\" >0</td>\n",
       "                        <td id=\"T_884d5592_87e3_11e9_afc2_2bccf1bc5391row8_col9\" class=\"data row8 col9\" >0</td>\n",
       "                        <td id=\"T_884d5592_87e3_11e9_afc2_2bccf1bc5391row8_col10\" class=\"data row8 col10\" >0</td>\n",
       "                        <td id=\"T_884d5592_87e3_11e9_afc2_2bccf1bc5391row8_col11\" class=\"data row8 col11\" >0</td>\n",
       "                        <td id=\"T_884d5592_87e3_11e9_afc2_2bccf1bc5391row8_col12\" class=\"data row8 col12\" >0</td>\n",
       "                        <td id=\"T_884d5592_87e3_11e9_afc2_2bccf1bc5391row8_col13\" class=\"data row8 col13\" >1</td>\n",
       "                        <td id=\"T_884d5592_87e3_11e9_afc2_2bccf1bc5391row8_col14\" class=\"data row8 col14\" >0</td>\n",
       "                        <td id=\"T_884d5592_87e3_11e9_afc2_2bccf1bc5391row8_col15\" class=\"data row8 col15\" >0</td>\n",
       "                        <td id=\"T_884d5592_87e3_11e9_afc2_2bccf1bc5391row8_col16\" class=\"data row8 col16\" >0</td>\n",
       "                        <td id=\"T_884d5592_87e3_11e9_afc2_2bccf1bc5391row8_col17\" class=\"data row8 col17\" >0</td>\n",
       "                        <td id=\"T_884d5592_87e3_11e9_afc2_2bccf1bc5391row8_col18\" class=\"data row8 col18\" >0</td>\n",
       "                        <td id=\"T_884d5592_87e3_11e9_afc2_2bccf1bc5391row8_col19\" class=\"data row8 col19\" >0</td>\n",
       "                        <td id=\"T_884d5592_87e3_11e9_afc2_2bccf1bc5391row8_col20\" class=\"data row8 col20\" >0</td>\n",
       "                        <td id=\"T_884d5592_87e3_11e9_afc2_2bccf1bc5391row8_col21\" class=\"data row8 col21\" >0</td>\n",
       "                        <td id=\"T_884d5592_87e3_11e9_afc2_2bccf1bc5391row8_col22\" class=\"data row8 col22\" >0</td>\n",
       "                        <td id=\"T_884d5592_87e3_11e9_afc2_2bccf1bc5391row8_col23\" class=\"data row8 col23\" >0</td>\n",
       "                        <td id=\"T_884d5592_87e3_11e9_afc2_2bccf1bc5391row8_col24\" class=\"data row8 col24\" >0</td>\n",
       "                        <td id=\"T_884d5592_87e3_11e9_afc2_2bccf1bc5391row8_col25\" class=\"data row8 col25\" >0</td>\n",
       "                        <td id=\"T_884d5592_87e3_11e9_afc2_2bccf1bc5391row8_col26\" class=\"data row8 col26\" >0</td>\n",
       "                        <td id=\"T_884d5592_87e3_11e9_afc2_2bccf1bc5391row8_col27\" class=\"data row8 col27\" >0</td>\n",
       "                        <td id=\"T_884d5592_87e3_11e9_afc2_2bccf1bc5391row8_col28\" class=\"data row8 col28\" >0</td>\n",
       "                        <td id=\"T_884d5592_87e3_11e9_afc2_2bccf1bc5391row8_col29\" class=\"data row8 col29\" >0</td>\n",
       "                        <td id=\"T_884d5592_87e3_11e9_afc2_2bccf1bc5391row8_col30\" class=\"data row8 col30\" >0</td>\n",
       "                        <td id=\"T_884d5592_87e3_11e9_afc2_2bccf1bc5391row8_col31\" class=\"data row8 col31\" >0</td>\n",
       "                        <td id=\"T_884d5592_87e3_11e9_afc2_2bccf1bc5391row8_col32\" class=\"data row8 col32\" >2016-04-15 11:37:26.587891+00</td>\n",
       "                        <td id=\"T_884d5592_87e3_11e9_afc2_2bccf1bc5391row8_col33\" class=\"data row8 col33\" >21</td>\n",
       "                        <td id=\"T_884d5592_87e3_11e9_afc2_2bccf1bc5391row8_col34\" class=\"data row8 col34\" >nan</td>\n",
       "                        <td id=\"T_884d5592_87e3_11e9_afc2_2bccf1bc5391row8_col35\" class=\"data row8 col35\" >99446</td>\n",
       "                        <td id=\"T_884d5592_87e3_11e9_afc2_2bccf1bc5391row8_col36\" class=\"data row8 col36\" >approved</td>\n",
       "                        <td id=\"T_884d5592_87e3_11e9_afc2_2bccf1bc5391row8_col37\" class=\"data row8 col37\" >0</td>\n",
       "                        <td id=\"T_884d5592_87e3_11e9_afc2_2bccf1bc5391row8_col38\" class=\"data row8 col38\" >0</td>\n",
       "                        <td id=\"T_884d5592_87e3_11e9_afc2_2bccf1bc5391row8_col39\" class=\"data row8 col39\" >0</td>\n",
       "                        <td id=\"T_884d5592_87e3_11e9_afc2_2bccf1bc5391row8_col40\" class=\"data row8 col40\" >0</td>\n",
       "                        <td id=\"T_884d5592_87e3_11e9_afc2_2bccf1bc5391row8_col41\" class=\"data row8 col41\" >0</td>\n",
       "                        <td id=\"T_884d5592_87e3_11e9_afc2_2bccf1bc5391row8_col42\" class=\"data row8 col42\" >0</td>\n",
       "                        <td id=\"T_884d5592_87e3_11e9_afc2_2bccf1bc5391row8_col43\" class=\"data row8 col43\" >4</td>\n",
       "                        <td id=\"T_884d5592_87e3_11e9_afc2_2bccf1bc5391row8_col44\" class=\"data row8 col44\" >4</td>\n",
       "                        <td id=\"T_884d5592_87e3_11e9_afc2_2bccf1bc5391row8_col45\" class=\"data row8 col45\" >Where were all the haters of liberty when Hussein Obama talks of his  Christian faith \n",
       " Or do they just figure Hussein Obama is lying about that as well </td>\n",
       "                        <td id=\"T_884d5592_87e3_11e9_afc2_2bccf1bc5391row8_col46\" class=\"data row8 col46\" >where haters liberty hussein obama talks christian faith \n",
       " or figure hussein obama lying well</td>\n",
       "                        <td id=\"T_884d5592_87e3_11e9_afc2_2bccf1bc5391row8_col47\" class=\"data row8 col47\" >where hater liberti hussein obama talk christian faith \n",
       " or figur hussein obama lie well</td>\n",
       "                        <td id=\"T_884d5592_87e3_11e9_afc2_2bccf1bc5391row8_col48\" class=\"data row8 col48\" >wher hat liberty hussein obam talk christian fai \n",
       " or fig hussein obam lying wel</td>\n",
       "                        <td id=\"T_884d5592_87e3_11e9_afc2_2bccf1bc5391row8_col49\" class=\"data row8 col49\" >0</td>\n",
       "                        <td id=\"T_884d5592_87e3_11e9_afc2_2bccf1bc5391row8_col50\" class=\"data row8 col50\" >0</td>\n",
       "                        <td id=\"T_884d5592_87e3_11e9_afc2_2bccf1bc5391row8_col51\" class=\"data row8 col51\" >0</td>\n",
       "                        <td id=\"T_884d5592_87e3_11e9_afc2_2bccf1bc5391row8_col52\" class=\"data row8 col52\" >True</td>\n",
       "            </tr>\n",
       "            <tr>\n",
       "                        <th id=\"T_884d5592_87e3_11e9_afc2_2bccf1bc5391level0_row9\" class=\"row_heading level0 row9\" >15608</th>\n",
       "                        <td id=\"T_884d5592_87e3_11e9_afc2_2bccf1bc5391row9_col0\" class=\"data row9 col0\" >348641</td>\n",
       "                        <td id=\"T_884d5592_87e3_11e9_afc2_2bccf1bc5391row9_col1\" class=\"data row9 col1\" >0.8</td>\n",
       "                        <td id=\"T_884d5592_87e3_11e9_afc2_2bccf1bc5391row9_col2\" class=\"data row9 col2\" >Don't leave out local queers who would parade the riverfront trolling for \"seafood\" as they called it.</td>\n",
       "                        <td id=\"T_884d5592_87e3_11e9_afc2_2bccf1bc5391row9_col3\" class=\"data row9 col3\" >0</td>\n",
       "                        <td id=\"T_884d5592_87e3_11e9_afc2_2bccf1bc5391row9_col4\" class=\"data row9 col4\" >0.4</td>\n",
       "                        <td id=\"T_884d5592_87e3_11e9_afc2_2bccf1bc5391row9_col5\" class=\"data row9 col5\" >0.6</td>\n",
       "                        <td id=\"T_884d5592_87e3_11e9_afc2_2bccf1bc5391row9_col6\" class=\"data row9 col6\" >0.6</td>\n",
       "                        <td id=\"T_884d5592_87e3_11e9_afc2_2bccf1bc5391row9_col7\" class=\"data row9 col7\" >0</td>\n",
       "                        <td id=\"T_884d5592_87e3_11e9_afc2_2bccf1bc5391row9_col8\" class=\"data row9 col8\" >0</td>\n",
       "                        <td id=\"T_884d5592_87e3_11e9_afc2_2bccf1bc5391row9_col9\" class=\"data row9 col9\" >0</td>\n",
       "                        <td id=\"T_884d5592_87e3_11e9_afc2_2bccf1bc5391row9_col10\" class=\"data row9 col10\" >0.1</td>\n",
       "                        <td id=\"T_884d5592_87e3_11e9_afc2_2bccf1bc5391row9_col11\" class=\"data row9 col11\" >0</td>\n",
       "                        <td id=\"T_884d5592_87e3_11e9_afc2_2bccf1bc5391row9_col12\" class=\"data row9 col12\" >0</td>\n",
       "                        <td id=\"T_884d5592_87e3_11e9_afc2_2bccf1bc5391row9_col13\" class=\"data row9 col13\" >0</td>\n",
       "                        <td id=\"T_884d5592_87e3_11e9_afc2_2bccf1bc5391row9_col14\" class=\"data row9 col14\" >0</td>\n",
       "                        <td id=\"T_884d5592_87e3_11e9_afc2_2bccf1bc5391row9_col15\" class=\"data row9 col15\" >0</td>\n",
       "                        <td id=\"T_884d5592_87e3_11e9_afc2_2bccf1bc5391row9_col16\" class=\"data row9 col16\" >0</td>\n",
       "                        <td id=\"T_884d5592_87e3_11e9_afc2_2bccf1bc5391row9_col17\" class=\"data row9 col17\" >0.2</td>\n",
       "                        <td id=\"T_884d5592_87e3_11e9_afc2_2bccf1bc5391row9_col18\" class=\"data row9 col18\" >0</td>\n",
       "                        <td id=\"T_884d5592_87e3_11e9_afc2_2bccf1bc5391row9_col19\" class=\"data row9 col19\" >0</td>\n",
       "                        <td id=\"T_884d5592_87e3_11e9_afc2_2bccf1bc5391row9_col20\" class=\"data row9 col20\" >0</td>\n",
       "                        <td id=\"T_884d5592_87e3_11e9_afc2_2bccf1bc5391row9_col21\" class=\"data row9 col21\" >0</td>\n",
       "                        <td id=\"T_884d5592_87e3_11e9_afc2_2bccf1bc5391row9_col22\" class=\"data row9 col22\" >0</td>\n",
       "                        <td id=\"T_884d5592_87e3_11e9_afc2_2bccf1bc5391row9_col23\" class=\"data row9 col23\" >0</td>\n",
       "                        <td id=\"T_884d5592_87e3_11e9_afc2_2bccf1bc5391row9_col24\" class=\"data row9 col24\" >0</td>\n",
       "                        <td id=\"T_884d5592_87e3_11e9_afc2_2bccf1bc5391row9_col25\" class=\"data row9 col25\" >0</td>\n",
       "                        <td id=\"T_884d5592_87e3_11e9_afc2_2bccf1bc5391row9_col26\" class=\"data row9 col26\" >0</td>\n",
       "                        <td id=\"T_884d5592_87e3_11e9_afc2_2bccf1bc5391row9_col27\" class=\"data row9 col27\" >0</td>\n",
       "                        <td id=\"T_884d5592_87e3_11e9_afc2_2bccf1bc5391row9_col28\" class=\"data row9 col28\" >0</td>\n",
       "                        <td id=\"T_884d5592_87e3_11e9_afc2_2bccf1bc5391row9_col29\" class=\"data row9 col29\" >0</td>\n",
       "                        <td id=\"T_884d5592_87e3_11e9_afc2_2bccf1bc5391row9_col30\" class=\"data row9 col30\" >0</td>\n",
       "                        <td id=\"T_884d5592_87e3_11e9_afc2_2bccf1bc5391row9_col31\" class=\"data row9 col31\" >0</td>\n",
       "                        <td id=\"T_884d5592_87e3_11e9_afc2_2bccf1bc5391row9_col32\" class=\"data row9 col32\" >2016-06-13 15:59:37.395292+00</td>\n",
       "                        <td id=\"T_884d5592_87e3_11e9_afc2_2bccf1bc5391row9_col33\" class=\"data row9 col33\" >6</td>\n",
       "                        <td id=\"T_884d5592_87e3_11e9_afc2_2bccf1bc5391row9_col34\" class=\"data row9 col34\" >nan</td>\n",
       "                        <td id=\"T_884d5592_87e3_11e9_afc2_2bccf1bc5391row9_col35\" class=\"data row9 col35\" >138352</td>\n",
       "                        <td id=\"T_884d5592_87e3_11e9_afc2_2bccf1bc5391row9_col36\" class=\"data row9 col36\" >approved</td>\n",
       "                        <td id=\"T_884d5592_87e3_11e9_afc2_2bccf1bc5391row9_col37\" class=\"data row9 col37\" >0</td>\n",
       "                        <td id=\"T_884d5592_87e3_11e9_afc2_2bccf1bc5391row9_col38\" class=\"data row9 col38\" >0</td>\n",
       "                        <td id=\"T_884d5592_87e3_11e9_afc2_2bccf1bc5391row9_col39\" class=\"data row9 col39\" >0</td>\n",
       "                        <td id=\"T_884d5592_87e3_11e9_afc2_2bccf1bc5391row9_col40\" class=\"data row9 col40\" >0</td>\n",
       "                        <td id=\"T_884d5592_87e3_11e9_afc2_2bccf1bc5391row9_col41\" class=\"data row9 col41\" >0</td>\n",
       "                        <td id=\"T_884d5592_87e3_11e9_afc2_2bccf1bc5391row9_col42\" class=\"data row9 col42\" >0</td>\n",
       "                        <td id=\"T_884d5592_87e3_11e9_afc2_2bccf1bc5391row9_col43\" class=\"data row9 col43\" >10</td>\n",
       "                        <td id=\"T_884d5592_87e3_11e9_afc2_2bccf1bc5391row9_col44\" class=\"data row9 col44\" >10</td>\n",
       "                        <td id=\"T_884d5592_87e3_11e9_afc2_2bccf1bc5391row9_col45\" class=\"data row9 col45\" >Don't leave out local queers who would parade the riverfront trolling for seafood as they called it</td>\n",
       "                        <td id=\"T_884d5592_87e3_11e9_afc2_2bccf1bc5391row9_col46\" class=\"data row9 col46\" >don't leave local queers would parade riverfront trolling seafood called</td>\n",
       "                        <td id=\"T_884d5592_87e3_11e9_afc2_2bccf1bc5391row9_col47\" class=\"data row9 col47\" >don't leav local queer would parad riverfront troll seafood call</td>\n",
       "                        <td id=\"T_884d5592_87e3_11e9_afc2_2bccf1bc5391row9_col48\" class=\"data row9 col48\" >don't leav loc que would parad riverfront trol seafood cal</td>\n",
       "                        <td id=\"T_884d5592_87e3_11e9_afc2_2bccf1bc5391row9_col49\" class=\"data row9 col49\" >1</td>\n",
       "                        <td id=\"T_884d5592_87e3_11e9_afc2_2bccf1bc5391row9_col50\" class=\"data row9 col50\" >1</td>\n",
       "                        <td id=\"T_884d5592_87e3_11e9_afc2_2bccf1bc5391row9_col51\" class=\"data row9 col51\" >1</td>\n",
       "                        <td id=\"T_884d5592_87e3_11e9_afc2_2bccf1bc5391row9_col52\" class=\"data row9 col52\" >True</td>\n",
       "            </tr>\n",
       "    </tbody></table>"
      ],
      "text/plain": [
       "<pandas.io.formats.style.Styler at 0x7f811839e978>"
      ]
     },
     "execution_count": 65,
     "metadata": {},
     "output_type": "execute_result"
    }
   ],
   "source": [
    "output3.head(10).style"
   ]
  },
  {
   "cell_type": "code",
   "execution_count": 66,
   "metadata": {},
   "outputs": [
    {
     "name": "stdout",
     "output_type": "stream",
     "text": [
      "Overall Accuracy: 0.8855054811205847\n",
      "Overall Precision: 0.8775510204081632\n",
      "Overall Recall: 0.6292682926829268\n",
      "Overall F1 Score: 0.7329545454545454\n",
      "ROC_AUC: 0.8\n",
      "\n",
      "Target Accuracy: 0.6292682926829268\n",
      "Target Precision: 1.0\n",
      "Target Recall: 0.6292682926829268\n",
      "Target F1 Score: 0.7724550898203593\n",
      "\n",
      "Non-Target Accuracy: 0.9707792207792207\n",
      "Non-Target Precision: 1.0\n",
      "Non-Target Recall: 0.9707792207792207\n",
      "Non-Target F1 Score: 0.985172981878089\n",
      "\n",
      "Strong Identity Accuracy: 0.6\n",
      "Strong Identity Precision: 1.0\n",
      "Strong Identity Recall: 0.6\n",
      "Strong Identity F1 Score: 1.0\n",
      "\n",
      "Obscenity Accuracy: 0.7894736842105263\n",
      "Obscenity Precision: 1.0\n",
      "Obscenity Recall: 0.7894736842105263\n",
      "Obscenity F1 Score: 1.0\n",
      "\n",
      "Insults Accuracy: 0.6510067114093959\n",
      "Insults Precision: 0.9897959183673469\n",
      "Insults Recall: 0.6554054054054054\n",
      "Insults F1 Score: 1.0\n",
      "\n",
      "Threats Accuracy: 0.2857142857142857\n",
      "Threats Precision: 1.0\n",
      "Threats Recall: 0.2857142857142857\n",
      "Threats F1 Score: 0.0\n",
      "\n"
     ]
    },
    {
     "data": {
      "text/plain": [
       "{'Overall': {'Accuracy': 0.8855054811205847,\n",
       "  'Precision': 0.8775510204081632,\n",
       "  'Recall': 0.6292682926829268,\n",
       "  'F1': 0.7329545454545454,\n",
       "  'ROC_AUC': 0.8},\n",
       " 'Target': {'Accuracy': 0.6292682926829268,\n",
       "  'Precision': 1.0,\n",
       "  'Recall': 0.6292682926829268,\n",
       "  'F1': 0.7724550898203593},\n",
       " 'Non-Target': {'Accuracy': 0.2857142857142857,\n",
       "  'Precision': 1.0,\n",
       "  'Recall': 0.2857142857142857,\n",
       "  'F1': 0.0}}"
      ]
     },
     "execution_count": 66,
     "metadata": {},
     "output_type": "execute_result"
    }
   ],
   "source": [
    "mf.get_metrics(output=output3, \n",
    "               detailed=True, \n",
    "               should_print=True, \n",
    "               round_to=3)"
   ]
  },
  {
   "cell_type": "code",
   "execution_count": 67,
   "metadata": {
    "scrolled": true
   },
   "outputs": [
    {
     "name": "stdout",
     "output_type": "stream",
     "text": [
      "Index(['id', 'target', 'comment_text', 'severe_toxicity', 'obscene',\n",
      "       'identity_attack', 'insult', 'threat', 'asian', 'atheist', 'bisexual',\n",
      "       'black', 'buddhist', 'christian', 'female', 'heterosexual', 'hindu',\n",
      "       'homosexual_gay_or_lesbian', 'intellectual_or_learning_disability',\n",
      "       'jewish', 'latino', 'male', 'muslim', 'other_disability',\n",
      "       'other_gender', 'other_race_or_ethnicity', 'other_religion',\n",
      "       'other_sexual_orientation', 'physical_disability',\n",
      "       'psychiatric_or_mental_illness', 'transgender', 'white', 'created_date',\n",
      "       'publication_id', 'parent_id', 'article_id', 'rating', 'funny', 'wow',\n",
      "       'sad', 'likes', 'disagree', 'sexual_explicit',\n",
      "       'identity_annotator_count', 'toxicity_annotator_count',\n",
      "       'cleaned_w_stopwords_str', 'cleaned_no_stem_str', 'cleaned_porter_str',\n",
      "       'cleaned_lancaster_str', 'toxicity_category', 'predicted', 'y_test'],\n",
      "      dtype='object')\n"
     ]
    }
   ],
   "source": [
    "hold_out_results3 = mf.run_model_test(model_df=hold_out_set3, \n",
    "                                     clf=classifier3, \n",
    "                                     vectorizer=fitted_vectorizer3, \n",
    "                                     comments=\"cleaned_no_stem_str\", target=\"toxicity_category\")"
   ]
  },
  {
   "cell_type": "code",
   "execution_count": 68,
   "metadata": {},
   "outputs": [
    {
     "name": "stdout",
     "output_type": "stream",
     "text": [
      "Overall Accuracy: 0.952698301347898\n",
      "Overall Precision: 0.5596072931276297\n",
      "Overall Recall: 0.3877551020408163\n",
      "Overall F1 Score: 0.4580941446613088\n",
      "ROC_AUC: 0.686\n",
      "\n",
      "Target Accuracy: 0.3877551020408163\n",
      "Target Precision: 1.0\n",
      "Target Recall: 0.3877551020408163\n",
      "Target F1 Score: 0.5588235294117647\n",
      "\n",
      "Non-Target Accuracy: 0.9834108199492815\n",
      "Non-Target Precision: 1.0\n",
      "Non-Target Recall: 0.9834108199492815\n",
      "Non-Target F1 Score: 0.9916360343082414\n",
      "\n",
      "Strong Identity Accuracy: 0.48148148148148145\n",
      "Strong Identity Precision: 1.0\n",
      "Strong Identity Recall: 0.44\n",
      "Strong Identity F1 Score: 1.0\n",
      "\n",
      "Obscenity Accuracy: 0.546875\n",
      "Obscenity Precision: 1.0\n",
      "Obscenity Recall: 0.5433070866141733\n",
      "Obscenity F1 Score: 1.0\n",
      "\n",
      "Insults Accuracy: 0.4266487213997308\n",
      "Insults Precision: 0.9933993399339934\n",
      "Insults Recall: 0.41517241379310343\n",
      "Insults F1 Score: 1.0\n",
      "\n",
      "Threats Accuracy: 0.21052631578947367\n",
      "Threats Precision: 1.0\n",
      "Threats Recall: 0.1891891891891892\n",
      "Threats F1 Score: 0.0\n",
      "\n"
     ]
    }
   ],
   "source": [
    "hold_out_metrics3 = mf.get_metrics(output=hold_out_results3, \n",
    "                                   detailed=True, \n",
    "                                   should_print=True, \n",
    "                                   round_to=3)"
   ]
  },
  {
   "cell_type": "markdown",
   "metadata": {},
   "source": [
    "### Feature Importance"
   ]
  },
  {
   "cell_type": "code",
   "execution_count": 69,
   "metadata": {},
   "outputs": [],
   "source": [
    "feature_names = fitted_vectorizer3.get_feature_names()\n",
    "imp = classifier3.coef_.todense().tolist()[0]\n",
    "imp2, names = zip(*sorted(zip(imp,feature_names)))\n"
   ]
  },
  {
   "cell_type": "code",
   "execution_count": 70,
   "metadata": {},
   "outputs": [],
   "source": [
    "imps = imp2[-10:] + imp2[:10]\n",
    "words = names[-10:] + names[:10]"
   ]
  },
  {
   "cell_type": "code",
   "execution_count": 71,
   "metadata": {},
   "outputs": [],
   "source": [
    "tograph = pd.DataFrame()\n",
    "tograph['importances'] = imps\n",
    "tograph['words'] = words\n",
    "tograph['type'] = tograph.importances.apply(lambda x: 1 if x > 0 else 0)"
   ]
  },
  {
   "cell_type": "code",
   "execution_count": 72,
   "metadata": {},
   "outputs": [
    {
     "data": {
      "text/plain": [
       "<matplotlib.axes._subplots.AxesSubplot at 0x7f813640dc88>"
      ]
     },
     "execution_count": 72,
     "metadata": {},
     "output_type": "execute_result"
    },
    {
     "data": {
      "image/png": "[encoded data removed]",
      "text/plain": [
       "<Figure size 432x288 with 1 Axes>"
      ]
     },
     "metadata": {},
     "output_type": "display_data"
    }
   ],
   "source": [
    "sns.barplot(x=\"importances\", y=\"words\", data=tograph, hue=\"type\")"
   ]
  },
  {
   "cell_type": "code",
   "execution_count": null,
   "metadata": {},
   "outputs": [],
   "source": []
  }
 ],
 "metadata": {
  "kernelspec": {
   "display_name": "conda_python3",
   "language": "python",
   "name": "conda_python3"
  },
  "language_info": {
   "codemirror_mode": {
    "name": "ipython",
    "version": 3
   },
   "file_extension": ".py",
   "mimetype": "text/x-python",
   "name": "python",
   "nbconvert_exporter": "python",
   "pygments_lexer": "ipython3",
   "version": "3.6.5"
  }
 },
 "nbformat": 4,
 "nbformat_minor": 2
}
