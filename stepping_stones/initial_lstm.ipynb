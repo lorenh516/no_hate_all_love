{
 "cells": [
  {
   "cell_type": "code",
   "execution_count": 247,
   "metadata": {},
   "outputs": [],
   "source": [
    "import torch\n",
    "import torch.nn as nn\n",
    "import torch.nn.functional as F\n",
    "import os\n",
    "import re\n",
    "import numpy as np\n",
    "import pandas as pd\n",
    "\n",
    "from nltk.corpus import stopwords\n",
    "from nltk.stem import PorterStemmer, LancasterStemmer\n",
    "from sklearn.model_selection import train_test_split\n",
    "from sklearn.metrics import accuracy_score, precision_score, recall_score, f1_score, roc_auc_score\n",
    "from torch.nn.utils.rnn import pad_sequence, pack_sequence, pad_packed_sequence, pack_padded_sequence"
   ]
  },
  {
   "cell_type": "markdown",
   "metadata": {},
   "source": [
    "### Import Data"
   ]
  },
  {
   "cell_type": "code",
   "execution_count": 306,
   "metadata": {},
   "outputs": [],
   "source": [
    "train = pd.read_csv(\"s3://advancedml-koch-mathur-hinkson/train.csv\")"
   ]
  },
  {
   "cell_type": "code",
   "execution_count": 307,
   "metadata": {},
   "outputs": [
    {
     "data": {
      "text/plain": [
       "(1804874, 45)"
      ]
     },
     "execution_count": 307,
     "metadata": {},
     "output_type": "execute_result"
    }
   ],
   "source": [
    "train.shape"
   ]
  },
  {
   "cell_type": "markdown",
   "metadata": {},
   "source": [
    "### Divide Dataset into Train and Validation/ Test Set"
   ]
  },
  {
   "cell_type": "code",
   "execution_count": 309,
   "metadata": {},
   "outputs": [],
   "source": [
    "train['label'] = train.target.apply(lambda x: 1 if x > 0.5 else 0)\n",
    "msk = np.random.rand(len(train)) < 0.8\n",
    "train_set = train[msk]\n",
    "validation_set = train[~msk]\n"
   ]
  },
  {
   "cell_type": "code",
   "execution_count": 312,
   "metadata": {},
   "outputs": [
    {
     "name": "stdout",
     "output_type": "stream",
     "text": [
      "0    0.941128\n",
      "1    0.058872\n",
      "Name: label, dtype: float64\n"
     ]
    }
   ],
   "source": [
    "print(train_set.label.value_counts(normalize=True))"
   ]
  },
  {
   "cell_type": "code",
   "execution_count": 313,
   "metadata": {},
   "outputs": [
    {
     "name": "stdout",
     "output_type": "stream",
     "text": [
      "0    0.940624\n",
      "1    0.059376\n",
      "Name: label, dtype: float64\n"
     ]
    }
   ],
   "source": [
    "print(validation_set.label.value_counts(normalize=True))"
   ]
  },
  {
   "cell_type": "code",
   "execution_count": 349,
   "metadata": {},
   "outputs": [],
   "source": [
    "msk_test = np.random.rand(len(validation_set)) <= 0.50\n",
    "test_set = validation_set[~msk_test]\n",
    "validation_set = validation_set[msk_test]"
   ]
  },
  {
   "cell_type": "code",
   "execution_count": 350,
   "metadata": {},
   "outputs": [
    {
     "name": "stdout",
     "output_type": "stream",
     "text": [
      "0    169545\n",
      "1     10755\n",
      "Name: label, dtype: int64\n",
      "0    169895\n",
      "1     10672\n",
      "Name: label, dtype: int64\n"
     ]
    }
   ],
   "source": [
    "print(validation_set.label.value_counts(normalize=False))\n",
    "print(test_set.label.value_counts(normalize=False))"
   ]
  },
  {
   "cell_type": "markdown",
   "metadata": {},
   "source": [
    "### Create Training Sets\n",
    "\n",
    "Use different percetages of available data, with various proportions of toxic comments"
   ]
  },
  {
   "cell_type": "markdown",
   "metadata": {},
   "source": [
    "#### Take 20%, 30%, 40%, 50%, and 60% of data"
   ]
  },
  {
   "cell_type": "code",
   "execution_count": 315,
   "metadata": {},
   "outputs": [
    {
     "name": "stdout",
     "output_type": "stream",
     "text": [
      "0    0.941129\n",
      "1    0.058871\n",
      "Name: label, dtype: float64\n"
     ]
    }
   ],
   "source": [
    "train_sample = train_set.sample(frac=0.2, replace=True)\n",
    "print(train_sample.label.value_counts(normalize=True))"
   ]
  },
  {
   "cell_type": "code",
   "execution_count": 332,
   "metadata": {},
   "outputs": [
    {
     "name": "stdout",
     "output_type": "stream",
     "text": [
      "0    0.941291\n",
      "1    0.058709\n",
      "Name: label, dtype: float64\n"
     ]
    }
   ],
   "source": [
    "train_sample30 = train_set.sample(frac=0.3, replace=True)\n",
    "print(train_sample30.label.value_counts(normalize=True))"
   ]
  },
  {
   "cell_type": "code",
   "execution_count": 333,
   "metadata": {},
   "outputs": [
    {
     "name": "stdout",
     "output_type": "stream",
     "text": [
      "0    0.941291\n",
      "1    0.058709\n",
      "Name: label, dtype: float64\n"
     ]
    }
   ],
   "source": [
    "train_sample40 = train_set.sample(frac=0.4, replace=True)\n",
    "print(train_sample30.label.value_counts(normalize=True))"
   ]
  },
  {
   "cell_type": "code",
   "execution_count": 334,
   "metadata": {},
   "outputs": [
    {
     "name": "stdout",
     "output_type": "stream",
     "text": [
      "0    0.941291\n",
      "1    0.058709\n",
      "Name: label, dtype: float64\n"
     ]
    }
   ],
   "source": [
    "train_sample50 = train_set.sample(frac=0.5, replace=True)\n",
    "print(train_sample30.label.value_counts(normalize=True))"
   ]
  },
  {
   "cell_type": "code",
   "execution_count": 335,
   "metadata": {},
   "outputs": [
    {
     "name": "stdout",
     "output_type": "stream",
     "text": [
      "0    0.941291\n",
      "1    0.058709\n",
      "Name: label, dtype: float64\n"
     ]
    }
   ],
   "source": [
    "train_sample60 = train_set.sample(frac=0.6, replace=True)\n",
    "print(train_sample30.label.value_counts(normalize=True))"
   ]
  },
  {
   "cell_type": "markdown",
   "metadata": {},
   "source": [
    "#### Rebalance Data Set\n",
    "\n",
    "Create \"weighted\" datasets with increased rate of toxic comments "
   ]
  },
  {
   "cell_type": "code",
   "execution_count": 320,
   "metadata": {},
   "outputs": [],
   "source": [
    "toxic = train_sample[train_sample.label == 1]\n",
    "nontoxic = train_sample[train_sample.label == 0]"
   ]
  },
  {
   "cell_type": "code",
   "execution_count": 321,
   "metadata": {},
   "outputs": [
    {
     "data": {
      "text/plain": [
       "((288801, 46), (17002, 46), (271799, 46))"
      ]
     },
     "execution_count": 321,
     "metadata": {},
     "output_type": "execute_result"
    }
   ],
   "source": [
    "train_sample.shape, toxic.shape, nontoxic.shape"
   ]
  },
  {
   "cell_type": "code",
   "execution_count": 324,
   "metadata": {},
   "outputs": [
    {
     "data": {
      "text/plain": [
       "17002"
      ]
     },
     "execution_count": 324,
     "metadata": {},
     "output_type": "execute_result"
    }
   ],
   "source": [
    "TOTAL_TOXIC = len(toxic)\n",
    "TOTAL_TOXIC"
   ]
  },
  {
   "cell_type": "code",
   "execution_count": 340,
   "metadata": {},
   "outputs": [
    {
     "name": "stdout",
     "output_type": "stream",
     "text": [
      "prepared_25:\n",
      " 0    51006\n",
      "1    17002\n",
      "Name: label, dtype: int64\n",
      "prepared_50:\n",
      " 1    34004\n",
      "0    34004\n",
      "Name: label, dtype: int64\n",
      "prepared_75:\n",
      " 1    51006\n",
      "0    17002\n",
      "Name: label, dtype: int64\n"
     ]
    }
   ],
   "source": [
    "prepared_25 = toxic.append(nontoxic.sample(TOTAL_TOXIC*3))\n",
    "prepared_25 = prepared_25.sample(frac=1).reset_index(drop=True)\n",
    "print(\"prepared_25:\\n\", prepared_25.label.value_counts())\n",
    "\n",
    "prepared_50 = toxic.append(toxic).append(nontoxic.sample(TOTAL_TOXIC*2))\n",
    "prepared_50 = prepared_50.sample(frac=1).reset_index(drop=True)\n",
    "print(\"prepared_50:\\n\", prepared_50.label.value_counts())\n",
    "\n",
    "prepared_75 = toxic.append(toxic).append(toxic).append(nontoxic.sample(TOTAL_TOXIC))\n",
    "prepared_75 = prepared_75.sample(frac=1).reset_index(drop=True)\n",
    "print(\"prepared_75:\\n\", prepared_75.label.value_counts())"
   ]
  },
  {
   "cell_type": "markdown",
   "metadata": {},
   "source": [
    "#### Confirm datasets are same size"
   ]
  },
  {
   "cell_type": "code",
   "execution_count": 339,
   "metadata": {},
   "outputs": [
    {
     "name": "stdout",
     "output_type": "stream",
     "text": [
      "(68008, 46) (68008, 46) (68008, 46)\n"
     ]
    }
   ],
   "source": [
    "print(prepared_25.shape, prepared_50.shape, prepared_75.shape)"
   ]
  },
  {
   "cell_type": "markdown",
   "metadata": {},
   "source": [
    "#### Create Random Dataset\n",
    "\n",
    "To evaluate the efficacy of imbalance correction, we generate a completely random dataset of comparative size as a control."
   ]
  },
  {
   "cell_type": "code",
   "execution_count": 325,
   "metadata": {},
   "outputs": [],
   "source": [
    "random_df = train_sample.sample(TOTAL_TOXIC*4)"
   ]
  },
  {
   "cell_type": "code",
   "execution_count": 337,
   "metadata": {},
   "outputs": [
    {
     "name": "stdout",
     "output_type": "stream",
     "text": [
      "(68008, 46)\n"
     ]
    }
   ],
   "source": [
    "print(random_df.shape)"
   ]
  },
  {
   "cell_type": "markdown",
   "metadata": {},
   "source": [
    "#### Add cleaned column to datasets"
   ]
  },
  {
   "cell_type": "code",
   "execution_count": 345,
   "metadata": {},
   "outputs": [],
   "source": [
    "import re\n",
    "import time\n",
    "import pandas as pd\n",
    "import string\n",
    "\n",
    "\n",
    "from nltk.corpus import stopwords\n",
    "from nltk.stem import PorterStemmer, LancasterStemmer\n",
    "\n",
    "\n",
    "def print_elapsed_time(start, end, message):\n",
    "    print(f\"{message}...Elapsed Time:{round((end - start)/60,3)} minutes\")\n",
    "\n",
    "# intialize stemmer\n",
    "ps = PorterStemmer() \n",
    "ls = LancasterStemmer()\n",
    "\n",
    "# define stopwords\n",
    "stops = set(stopwords.words('english'))\n",
    "stops.add('')\n",
    "\n",
    "approved_stop_words = {\"not\", \"get\", \"against\", \"haven\", \"haven't\",\"aren't\", \n",
    "                       \"aren\", \"should\", \"shouldn\", \"shouldn't\", \"themselves\", \n",
    "                       \"them\", \"under\", \"over\", 'won', \"won't\", \"wouldn'\", \n",
    "                       \"wouldn't\"}\n",
    "\n",
    "stops = stops - approved_stop_words\n",
    "\n",
    "def clean_text(text, stop_ws=stops, stemmer=ps, str_output=True):\n",
    "    \n",
    "    t = text.replace(\"-\", \" \").split(\" \")\n",
    "    t = [w.strip(string.punctuation) for w in t]\n",
    "    \n",
    "    if stop_ws:\n",
    "        t = [w.lower() for w in t if w not in stop_ws]\n",
    "    \n",
    "    if stemmer:\n",
    "        t = [stemmer.stem(w) for w in t]\n",
    "    \n",
    "    if str_output:\n",
    "        return ' '.join(t)\n",
    "    else:\n",
    "        return t\n",
    "\n"
   ]
  },
  {
   "cell_type": "code",
   "execution_count": 347,
   "metadata": {},
   "outputs": [],
   "source": [
    "for df in [prepared_25, prepared_50, prepared_75]:\n",
    "    df['cleaned_no_stem'] = df[\"comment_text\"].apply(clean_text,args=(stops,None,False),)"
   ]
  },
  {
   "cell_type": "code",
   "execution_count": 348,
   "metadata": {},
   "outputs": [
    {
     "data": {
      "text/html": [
       "<div>\n",
       "<style scoped>\n",
       "    .dataframe tbody tr th:only-of-type {\n",
       "        vertical-align: middle;\n",
       "    }\n",
       "\n",
       "    .dataframe tbody tr th {\n",
       "        vertical-align: top;\n",
       "    }\n",
       "\n",
       "    .dataframe thead th {\n",
       "        text-align: right;\n",
       "    }\n",
       "</style>\n",
       "<table border=\"1\" class=\"dataframe\">\n",
       "  <thead>\n",
       "    <tr style=\"text-align: right;\">\n",
       "      <th></th>\n",
       "      <th>id</th>\n",
       "      <th>target</th>\n",
       "      <th>comment_text</th>\n",
       "      <th>severe_toxicity</th>\n",
       "      <th>obscene</th>\n",
       "      <th>identity_attack</th>\n",
       "      <th>insult</th>\n",
       "      <th>threat</th>\n",
       "      <th>asian</th>\n",
       "      <th>atheist</th>\n",
       "      <th>...</th>\n",
       "      <th>funny</th>\n",
       "      <th>wow</th>\n",
       "      <th>sad</th>\n",
       "      <th>likes</th>\n",
       "      <th>disagree</th>\n",
       "      <th>sexual_explicit</th>\n",
       "      <th>identity_annotator_count</th>\n",
       "      <th>toxicity_annotator_count</th>\n",
       "      <th>label</th>\n",
       "      <th>cleaned_no_stem</th>\n",
       "    </tr>\n",
       "  </thead>\n",
       "  <tbody>\n",
       "    <tr>\n",
       "      <th>0</th>\n",
       "      <td>254975</td>\n",
       "      <td>0.000000</td>\n",
       "      <td>garycrum - No erasing needed as Mr Trump spoke...</td>\n",
       "      <td>0.000000</td>\n",
       "      <td>0.000000</td>\n",
       "      <td>0.000000</td>\n",
       "      <td>0.000000</td>\n",
       "      <td>0.0</td>\n",
       "      <td>NaN</td>\n",
       "      <td>NaN</td>\n",
       "      <td>...</td>\n",
       "      <td>0</td>\n",
       "      <td>0</td>\n",
       "      <td>0</td>\n",
       "      <td>1</td>\n",
       "      <td>0</td>\n",
       "      <td>0.0</td>\n",
       "      <td>0</td>\n",
       "      <td>4</td>\n",
       "      <td>0</td>\n",
       "      <td>[garycrum, no, erasing, needed, mr, trump, spo...</td>\n",
       "    </tr>\n",
       "    <tr>\n",
       "      <th>1</th>\n",
       "      <td>6212918</td>\n",
       "      <td>0.200000</td>\n",
       "      <td>Was Jesus conceived of EGG and Sperm.  Seems o...</td>\n",
       "      <td>0.000000</td>\n",
       "      <td>0.000000</td>\n",
       "      <td>0.200000</td>\n",
       "      <td>0.100000</td>\n",
       "      <td>0.0</td>\n",
       "      <td>0.0</td>\n",
       "      <td>0.0</td>\n",
       "      <td>...</td>\n",
       "      <td>0</td>\n",
       "      <td>0</td>\n",
       "      <td>0</td>\n",
       "      <td>0</td>\n",
       "      <td>0</td>\n",
       "      <td>0.1</td>\n",
       "      <td>10</td>\n",
       "      <td>10</td>\n",
       "      <td>0</td>\n",
       "      <td>[was, jesus, conceived, egg, sperm, seems, myt...</td>\n",
       "    </tr>\n",
       "    <tr>\n",
       "      <th>2</th>\n",
       "      <td>724109</td>\n",
       "      <td>0.857143</td>\n",
       "      <td>That's because you're too dumb to understand t...</td>\n",
       "      <td>0.085714</td>\n",
       "      <td>0.128571</td>\n",
       "      <td>0.457143</td>\n",
       "      <td>0.842857</td>\n",
       "      <td>0.0</td>\n",
       "      <td>0.0</td>\n",
       "      <td>0.0</td>\n",
       "      <td>...</td>\n",
       "      <td>0</td>\n",
       "      <td>0</td>\n",
       "      <td>0</td>\n",
       "      <td>2</td>\n",
       "      <td>1</td>\n",
       "      <td>0.0</td>\n",
       "      <td>6</td>\n",
       "      <td>70</td>\n",
       "      <td>1</td>\n",
       "      <td>[that's, dumb, understand, data, bob, you're, ...</td>\n",
       "    </tr>\n",
       "    <tr>\n",
       "      <th>3</th>\n",
       "      <td>6204777</td>\n",
       "      <td>1.000000</td>\n",
       "      <td>yeah! \\n\\nI loved that stat.\\n\\nI own 100 guns...</td>\n",
       "      <td>0.000000</td>\n",
       "      <td>0.000000</td>\n",
       "      <td>0.000000</td>\n",
       "      <td>0.000000</td>\n",
       "      <td>1.0</td>\n",
       "      <td>NaN</td>\n",
       "      <td>NaN</td>\n",
       "      <td>...</td>\n",
       "      <td>0</td>\n",
       "      <td>0</td>\n",
       "      <td>0</td>\n",
       "      <td>0</td>\n",
       "      <td>1</td>\n",
       "      <td>0.0</td>\n",
       "      <td>0</td>\n",
       "      <td>4</td>\n",
       "      <td>1</td>\n",
       "      <td>[yeah, \\n\\ni, loved, stat.\\n\\ni, 100, guns, i,...</td>\n",
       "    </tr>\n",
       "    <tr>\n",
       "      <th>4</th>\n",
       "      <td>6319321</td>\n",
       "      <td>0.000000</td>\n",
       "      <td>My post, below, makes the point that conservat...</td>\n",
       "      <td>0.000000</td>\n",
       "      <td>0.000000</td>\n",
       "      <td>0.000000</td>\n",
       "      <td>0.000000</td>\n",
       "      <td>0.0</td>\n",
       "      <td>0.0</td>\n",
       "      <td>0.0</td>\n",
       "      <td>...</td>\n",
       "      <td>0</td>\n",
       "      <td>0</td>\n",
       "      <td>0</td>\n",
       "      <td>1</td>\n",
       "      <td>0</td>\n",
       "      <td>0.0</td>\n",
       "      <td>4</td>\n",
       "      <td>4</td>\n",
       "      <td>0</td>\n",
       "      <td>[my, post, makes, point, conservative, blindne...</td>\n",
       "    </tr>\n",
       "  </tbody>\n",
       "</table>\n",
       "<p>5 rows × 47 columns</p>\n",
       "</div>"
      ],
      "text/plain": [
       "        id    target                                       comment_text  \\\n",
       "0   254975  0.000000  garycrum - No erasing needed as Mr Trump spoke...   \n",
       "1  6212918  0.200000  Was Jesus conceived of EGG and Sperm.  Seems o...   \n",
       "2   724109  0.857143  That's because you're too dumb to understand t...   \n",
       "3  6204777  1.000000  yeah! \\n\\nI loved that stat.\\n\\nI own 100 guns...   \n",
       "4  6319321  0.000000  My post, below, makes the point that conservat...   \n",
       "\n",
       "   severe_toxicity   obscene  identity_attack    insult  threat  asian  \\\n",
       "0         0.000000  0.000000         0.000000  0.000000     0.0    NaN   \n",
       "1         0.000000  0.000000         0.200000  0.100000     0.0    0.0   \n",
       "2         0.085714  0.128571         0.457143  0.842857     0.0    0.0   \n",
       "3         0.000000  0.000000         0.000000  0.000000     1.0    NaN   \n",
       "4         0.000000  0.000000         0.000000  0.000000     0.0    0.0   \n",
       "\n",
       "   atheist  ...  funny  wow  sad  likes  disagree  sexual_explicit  \\\n",
       "0      NaN  ...      0    0    0      1         0              0.0   \n",
       "1      0.0  ...      0    0    0      0         0              0.1   \n",
       "2      0.0  ...      0    0    0      2         1              0.0   \n",
       "3      NaN  ...      0    0    0      0         1              0.0   \n",
       "4      0.0  ...      0    0    0      1         0              0.0   \n",
       "\n",
       "   identity_annotator_count  toxicity_annotator_count  label  \\\n",
       "0                         0                         4      0   \n",
       "1                        10                        10      0   \n",
       "2                         6                        70      1   \n",
       "3                         0                         4      1   \n",
       "4                         4                         4      0   \n",
       "\n",
       "                                     cleaned_no_stem  \n",
       "0  [garycrum, no, erasing, needed, mr, trump, spo...  \n",
       "1  [was, jesus, conceived, egg, sperm, seems, myt...  \n",
       "2  [that's, dumb, understand, data, bob, you're, ...  \n",
       "3  [yeah, \\n\\ni, loved, stat.\\n\\ni, 100, guns, i,...  \n",
       "4  [my, post, makes, point, conservative, blindne...  \n",
       "\n",
       "[5 rows x 47 columns]"
      ]
     },
     "execution_count": 348,
     "metadata": {},
     "output_type": "execute_result"
    }
   ],
   "source": [
    "prepared_50.head()"
   ]
  },
  {
   "cell_type": "markdown",
   "metadata": {},
   "source": [
    "#### Use 10K dataset for initial build"
   ]
  },
  {
   "cell_type": "code",
   "execution_count": 257,
   "metadata": {},
   "outputs": [],
   "source": [
    "mini_preprocessed = pd.read_pickle('mini_preprocessed.pkl')"
   ]
  },
  {
   "cell_type": "markdown",
   "metadata": {},
   "source": [
    "mini_preprocessed.head().style"
   ]
  },
  {
   "cell_type": "code",
   "execution_count": 12,
   "metadata": {},
   "outputs": [],
   "source": [
    "assign_label = lambda x: 0 if x < 0.5 else 1\n"
   ]
  },
  {
   "cell_type": "code",
   "execution_count": 259,
   "metadata": {},
   "outputs": [],
   "source": [
    "mini_preprocessed['label'] = mini_preprocessed.target.apply(lambda x: assign_label(x))\n"
   ]
  },
  {
   "cell_type": "markdown",
   "metadata": {},
   "source": [
    "## Build LSTM"
   ]
  },
  {
   "cell_type": "code",
   "execution_count": 351,
   "metadata": {},
   "outputs": [],
   "source": [
    "TOXIC_LABEL = 'toxic'\n",
    "NOT_TOXIC_LABEL = 'not_toxic'  \n",
    "VOCAB_SIZE = 7500"
   ]
  },
  {
   "cell_type": "code",
   "execution_count": 352,
   "metadata": {},
   "outputs": [],
   "source": [
    "import torch\n",
    "import torch.utils.data as tud\n",
    "\n",
    "from collections import Counter, defaultdict\n",
    "\n",
    "class TextData:\n",
    "    def __init__(self, df, text_col='cleaned_no_stem'):\n",
    "        # pull relevant data from df\n",
    "        self.preprocessed_text = [word_list for word_list in df[text_col] ]\n",
    "        \n",
    "        # gather vocabulary corpus to store all words in training data\n",
    "        self.vocab = Counter([word for comment in self.preprocessed_text \n",
    "                              for word in comment]\n",
    "                            ).most_common(VOCAB_SIZE-1)\n",
    "\n",
    "        # word to index mapping\n",
    "        self.word_to_idx = {k[0]: v+1 for v, k in \n",
    "                            enumerate(self.vocab)}\n",
    "        # all the unknown words will be mapped to index 0\n",
    "        self.word_to_idx[\"UNK\"] = 0 \n",
    "        self.idx_to_word = {v:k for k, v in self.word_to_idx.items()}\n",
    "        self.label_to_idx = {TOXIC_LABEL: 1, NOT_TOXIC_LABEL: 0}\n",
    "        self.idx_to_label = [NOT_TOXIC_LABEL, TOXIC_LABEL]\n",
    "        self.vocab = set(self.word_to_idx.keys())\n"
   ]
  },
  {
   "cell_type": "markdown",
   "metadata": {},
   "source": [
    "### Initial LSTM"
   ]
  },
  {
   "cell_type": "code",
   "execution_count": 353,
   "metadata": {},
   "outputs": [],
   "source": [
    "from torch import optim\n",
    "import math\n",
    "import torch.nn.functional as F\n",
    "\n",
    "class LSTMModel(nn.Module):\n",
    "    def __init__(self, X_data, y_data, test_X, test_y, hidden_dim, batch_size=1,   \n",
    "                 embed_dim=6, weight_decay=0, optimizer_fcn='Adam', \n",
    "                 learning_rate=1e-3, num_layers=2, dropout=0.05, num_classes=2):\n",
    "        super(LSTMModel, self).__init__()\n",
    "        nn.Module.__init__(self)\n",
    "        TextData.__init__(self, X_data)  \n",
    "        self.vocab_size = VOCAB_SIZE\n",
    "        self.hidden_dim = hidden_dim\n",
    "        self.batch_size = batch_size\n",
    "        self.num_layers = num_layers\n",
    "        self.embed_dim = embed_dim\n",
    "        self.dropout = dropout\n",
    "        self.output_dim = num_classes\n",
    "        self.loss_fcn = nn.NLLLoss()\n",
    "        self.weight_decay = weight_decay\n",
    "        self.learning_rate = learning_rate\n",
    "        self.highest_f1 = -math.inf\n",
    " \n",
    "        # Layer 1: Embedding Layer\n",
    "        self.embedding = nn.Embedding(self.vocab_size, self.embed_dim)\n",
    "    \n",
    "        # Layer 2: LSTM Layer\n",
    "        self.lstm = nn.LSTM(input_size = self.embed_dim, hidden_size = self.hidden_dim, \n",
    "                            num_layers = self.num_layers, dropout = self.dropout, batch_first=True)\n",
    "        \n",
    "        # Layer 3 (Output Layer): Linear\n",
    "        self.linear = nn.Linear(self.hidden_dim, self.output_dim)\n",
    "        \n",
    "        # define optimizer\n",
    "        if optimizer_fcn == 'Adam':\n",
    "            self.optimizer = optim.Adam(params=self.parameters(),\n",
    "                                                 weight_decay=self.weight_decay,\n",
    "                                                 lr=self.learning_rate)\n",
    "        elif optimizer_fcn == 'RMSprop':\n",
    "            self.optimizer = optim.RMSprop(params=self.parameters(), \n",
    "                                                 weight_decay=self.weight_decay,\n",
    "                                                 lr=self.learning_rate)\n",
    "        elif optimizer_fcn == 'SDG':\n",
    "            self.optimizer = optim.SGD(params=self.parameters(), \n",
    "                                                 weight_decay=self.weight_decay,\n",
    "                                                 lr=self.learning_rate)\n",
    "\n",
    "    def forward(self, input_seq):\n",
    "\n",
    "        embed_out = self.embedding(input_seq)\n",
    "\n",
    "        lstm_out, (hn, cn) = self.lstm(embed_out)\n",
    "         \n",
    "        out = F.log_softmax(self.linear(hn), dim=self.output_dim)\n",
    "\n",
    "        return out\n",
    "\n",
    "    \n",
    "    def get_vectors(self, labels, text=None, text_col=None):    \n",
    "        X = []\n",
    "        if text is None:\n",
    "            text = self.preprocessed_text\n",
    "        else:\n",
    "            text = text[text_col]\n",
    "        for comment in text:\n",
    "            X.append( \n",
    "                torch.tensor([self.word_to_idx.get(w, 0) for w in comment])\n",
    "            )\n",
    "        X_tensors = pad_sequence(X, batch_first=True)\n",
    "\n",
    "        y_tensors = pd.get_dummies(labels).values\n",
    "        y_tensors = torch.LongTensor(y_tensors)\n",
    "            \n",
    "        return X_tensors, y_tensors\n",
    "\n",
    "    \n",
    "    def classify(self, X_vec):\n",
    "        '''\n",
    "        This function classifies documents into their categories. \n",
    "        docs are documents without labels.\n",
    "        '''\n",
    "        # pass to forwrard --> get two items. first value is \n",
    "        # not toxic class and second is toxic class\n",
    "        argmaxes = []\n",
    "        for vec in X_vec:\n",
    "\n",
    "            results = self.forward(vec.unsqueeze(0))\n",
    "            \n",
    "            _, indices = torch.max(results.view(-1, results.size()[-1]), argmax=1)\n",
    "            # indicies works cleanest --> for multiclass, look up in self.label_to_idx\n",
    "            argmaxes.append(indices.item())\n",
    "        \n",
    "        return argmaxes\n",
    "            \n",
    "        \n",
    "    def evaluate_classifier(self, validation_X, validation_y, text_col=None):\n",
    "        '''\n",
    "        This function evaluates the data with the current model. \n",
    "        data contains both documents and labels. \n",
    "        It calls classify() to make predictions, \n",
    "        and compares with the correct labels to return \n",
    "        the model accuracy on \"data\". \n",
    "        '''\n",
    "        X_vec, y_vec = self.get_vectors(validation_y, text=validation_X, \n",
    "                                        text_col='cleaned_no_stem')\n",
    "\n",
    "        labels = [(single_tensor[1]).unsqueeze(0).item() for single_tensor in y_vec]\n",
    "        \n",
    "        classifications = self.classify(X_vec)\n",
    "\n",
    "        accuracy = accuracy_score(labels, classifications)\n",
    "        print(f\"Accuracy: {round(accuracy, 5)}\")\n",
    "        \n",
    "        precision = precision_score(labels, classifications)\n",
    "        print(f\"Precision: {round(precision, 5)}\")\n",
    "        \n",
    "        recall = recall_score(labels, classifications)\n",
    "        print(f\"Recall: {round(recall, 5)}\")\n",
    "        \n",
    "        auc_roc = roc_auc_score(labels, classifications)\n",
    "        print(f\"AUC-ROC: {round(auc_roc, 5)}\")\n",
    "        \n",
    "        f1 = f1_score(labels, classifications)\n",
    "        print(\"Model Metrics:\")\n",
    "        print(f\"F1 Score: {round(f1, 5)}; Precision: {round(precision, 5)}; \"\n",
    "              \"Recall: {round(recall, 5)}; AUC-ROC: {round(auc_roc, 5)}; Accuracy: {round(accuracy, 5)}\")\n",
    "        \n",
    "        self.overall_metrics = {\n",
    "            'f1': f1,\n",
    "            'precision': precision,\n",
    "            'auc_roc': auc_roc,\n",
    "            'recall': recall,\n",
    "            'accuracy': accuracy\n",
    "        }\n",
    "        \n",
    "        results_df = validation_X.copy()\n",
    "        results_df['predicted_score'] = classifications\n",
    "        results_df['y_true'] = labels\n",
    "        results_df['accuracy'] = results_df.predicted_score == results_df.y_true\n",
    "        \n",
    "        return f1, results_df\n",
    "    \n",
    "    \n",
    "    def run_model(self, y_data, test_X, test_y, num_epochs, loss_record, text_col=None):\n",
    "        \n",
    "        X_vec, y_vec = self.get_vectors(y_data, text=None)\n",
    "        last_mean_error = -math.inf\n",
    "        training_samples = X_vec.size()[0]\n",
    "        for epoch in range(num_epochs):\n",
    "\n",
    "            for i in range(training_samples):\n",
    "                # Zero out gradient, else they will accumulate between epochs\n",
    "                self.optimizer.zero_grad()\n",
    "                \n",
    "                y_pred = self.forward(X_vec[i].unsqueeze(0))\n",
    "\n",
    "                loss = self.loss_fcn(input=y_pred.view(-1, y_pred.size()[-1]), \n",
    "                                     target=(y_vec[i][1]).unsqueeze(0))\n",
    "                \n",
    "                # Backward pass\n",
    "                loss.backward()\n",
    "\n",
    "                # Update parameters\n",
    "                self.optimizer.step()\n",
    "            \n",
    "            thresholds: {\n",
    "                5000: 1000, \n",
    "                1000: 100, \n",
    "                100: 10, \n",
    "                20: 5, \n",
    "                10: 3\n",
    "            }\n",
    "            \n",
    "            # print results for every few epochs\n",
    "            if epoch % thresholds[num_epochs] == 0:\n",
    "                print(f\"Epoch {epoch}, Negative Log Linear Loss: {loss.item()}\")\n",
    "                loss_record[epoch] = loss.item()\n",
    "                \n",
    "                with torch.no_grad():\n",
    "                    if np.mean(np.abs(loss.item())) < last_mean_error:\n",
    "                        print(f\"Delta after {epoch} iterations: {np.mean(np.abs(loss.item()))}\")\n",
    "                        last_mean_error = np.mean(np.abs(loss.item()))\n",
    "                    else:\n",
    "                        if last_mean_error > -math.inf:\n",
    "                            print(f\"Break: {np.mean(np.abs(loss.item()))} > {last_mean_error}\")\n",
    "                            break\n",
    "                \n",
    "        print()\n",
    "        print(\"Starting Evaluation\")\n",
    "        print(f\"Epochs: {num_epochs}; Train Size: {training_samples}; Test Size: {test_X.shape[0]})\")\n",
    "        \n",
    "        model_f1, results_df = self.evaluate_classifier(test_X, test_y, text_col=text_col)\n",
    "            \n",
    "        best_model_state_dict = None\n",
    "        \n",
    "        if model_f1 > self.highest_f1:\n",
    "            self.highest_f1 = model_f1\n",
    "            \n",
    "            best_model_state_dict = self.state_dict() \n",
    "        \n",
    "        return results_df, best_model_state_dict"
   ]
  },
  {
   "cell_type": "markdown",
   "metadata": {},
   "source": [
    "### Split Data"
   ]
  },
  {
   "cell_type": "code",
   "execution_count": 237,
   "metadata": {},
   "outputs": [
    {
     "name": "stdout",
     "output_type": "stream",
     "text": [
      "(8000, 60) (8000,)\n",
      "(2000, 60) (2000,)\n"
     ]
    }
   ],
   "source": [
    "from sklearn.model_selection import train_test_split\n",
    "\n",
    "X_train, X_test, y_train, y_test = train_test_split(mini_preprocessed.drop('label', axis=1), \n",
    "                                                    mini_preprocessed['label'], \n",
    "                                                    test_size = 0.20, \n",
    "                                                    random_state = 4812)\n",
    "\n",
    "print(X_train.shape, y_train.shape)\n",
    "print(X_test.shape, y_test.shape)\n"
   ]
  },
  {
   "cell_type": "code",
   "execution_count": 226,
   "metadata": {},
   "outputs": [
    {
     "data": {
      "text/plain": [
       "0    0.9435\n",
       "1    0.0565\n",
       "Name: label, dtype: float64"
      ]
     },
     "execution_count": 226,
     "metadata": {},
     "output_type": "execute_result"
    }
   ],
   "source": [
    "y_train.value_counts(normalize=True)"
   ]
  },
  {
   "cell_type": "code",
   "execution_count": 227,
   "metadata": {},
   "outputs": [
    {
     "data": {
      "text/plain": [
       "0    0.937\n",
       "1    0.063\n",
       "Name: label, dtype: float64"
      ]
     },
     "execution_count": 227,
     "metadata": {},
     "output_type": "execute_result"
    }
   ],
   "source": [
    "y_test.value_counts(normalize=True)"
   ]
  },
  {
   "cell_type": "code",
   "execution_count": 228,
   "metadata": {},
   "outputs": [
    {
     "data": {
      "text/html": [
       "<div>\n",
       "<style scoped>\n",
       "    .dataframe tbody tr th:only-of-type {\n",
       "        vertical-align: middle;\n",
       "    }\n",
       "\n",
       "    .dataframe tbody tr th {\n",
       "        vertical-align: top;\n",
       "    }\n",
       "\n",
       "    .dataframe thead th {\n",
       "        text-align: right;\n",
       "    }\n",
       "</style>\n",
       "<table border=\"1\" class=\"dataframe\">\n",
       "  <thead>\n",
       "    <tr style=\"text-align: right;\">\n",
       "      <th></th>\n",
       "      <th>cleaned_no_stem</th>\n",
       "      <th>label</th>\n",
       "    </tr>\n",
       "  </thead>\n",
       "  <tbody>\n",
       "    <tr>\n",
       "      <th>0</th>\n",
       "      <td>[this, cool, it's, like, would, want, mother, ...</td>\n",
       "      <td>0</td>\n",
       "    </tr>\n",
       "    <tr>\n",
       "      <th>1</th>\n",
       "      <td>[thank, this, would, make, life, lot, less, an...</td>\n",
       "      <td>0</td>\n",
       "    </tr>\n",
       "    <tr>\n",
       "      <th>2</th>\n",
       "      <td>[this, urgent, design, problem, kudos, taking,...</td>\n",
       "      <td>0</td>\n",
       "    </tr>\n",
       "    <tr>\n",
       "      <th>3</th>\n",
       "      <td>[is, something, i'll, able, install, site, whe...</td>\n",
       "      <td>0</td>\n",
       "    </tr>\n",
       "    <tr>\n",
       "      <th>4</th>\n",
       "      <td>[haha, guys, bunch, losers]</td>\n",
       "      <td>1</td>\n",
       "    </tr>\n",
       "  </tbody>\n",
       "</table>\n",
       "</div>"
      ],
      "text/plain": [
       "                                     cleaned_no_stem  label\n",
       "0  [this, cool, it's, like, would, want, mother, ...      0\n",
       "1  [thank, this, would, make, life, lot, less, an...      0\n",
       "2  [this, urgent, design, problem, kudos, taking,...      0\n",
       "3  [is, something, i'll, able, install, site, whe...      0\n",
       "4                        [haha, guys, bunch, losers]      1"
      ]
     },
     "execution_count": 228,
     "metadata": {},
     "output_type": "execute_result"
    }
   ],
   "source": [
    "mini_preprocessed[['cleaned_no_stem', 'label']].head()"
   ]
  },
  {
   "cell_type": "code",
   "execution_count": 162,
   "metadata": {},
   "outputs": [
    {
     "data": {
      "text/plain": [
       "194"
      ]
     },
     "execution_count": 162,
     "metadata": {},
     "output_type": "execute_result"
    }
   ],
   "source": [
    "# get max number of words after cleaning\n",
    "max(mini_preprocessed['cleaned_no_stem'].apply(len))"
   ]
  },
  {
   "cell_type": "code",
   "execution_count": 163,
   "metadata": {},
   "outputs": [
    {
     "data": {
      "text/plain": [
       "1"
      ]
     },
     "execution_count": 163,
     "metadata": {},
     "output_type": "execute_result"
    }
   ],
   "source": [
    "# get min nonzero length \n",
    "min(mini_preprocessed.loc[mini_preprocessed['cleaned_no_stem'].apply(len)>0, \n",
    "                          'cleaned_no_stem'].apply(len))"
   ]
  },
  {
   "cell_type": "markdown",
   "metadata": {},
   "source": [
    "### Initial Pytorch LSTM Implementation"
   ]
  },
  {
   "cell_type": "code",
   "execution_count": 238,
   "metadata": {},
   "outputs": [],
   "source": [
    "lstm_model = LSTMModel(X_train, y_train, X_test, y_test, hidden_dim=3,\n",
    "              num_layers=1, embed_dim=6, batch_size=1, dropout=0, num_classes=2)"
   ]
  },
  {
   "cell_type": "code",
   "execution_count": 239,
   "metadata": {},
   "outputs": [
    {
     "data": {
      "text/plain": [
       "LSTMModel(\n",
       "  (loss_fcn): NLLLoss()\n",
       "  (embedding): Embedding(7500, 6)\n",
       "  (lstm): LSTM(6, 3, batch_first=True)\n",
       "  (linear): Linear(in_features=3, out_features=2, bias=True)\n",
       ")"
      ]
     },
     "execution_count": 239,
     "metadata": {},
     "output_type": "execute_result"
    }
   ],
   "source": [
    "lstm_model.train()"
   ]
  },
  {
   "cell_type": "code",
   "execution_count": 231,
   "metadata": {},
   "outputs": [],
   "source": [
    "NUM_EPOCHS = 1\n",
    "hist = np.zeros(NUM_EPOCHS)"
   ]
  },
  {
   "cell_type": "code",
   "execution_count": 232,
   "metadata": {},
   "outputs": [
    {
     "name": "stdout",
     "output_type": "stream",
     "text": [
      "Epoch 0, Negative Log Linear Loss: 0.05140280723571777\n",
      "\n",
      "Starting Evaluation\n",
      "Epochs: 1; Train Size: 8000; Test Size: 2000)\n",
      "Accuracy: 0.937\n",
      "Precision: 0.0\n",
      "Recall: 0.0\n",
      "AUC-ROC: 0.5\n",
      "Model Metrics:\n",
      "F1 Score: 0.0; Precision: 0.0; Recall: {round(recall, 5)}; AUC-ROC: {round(auc_roc, 5)}; Accuracy: {round(accuracy, 5)}\n"
     ]
    },
    {
     "name": "stderr",
     "output_type": "stream",
     "text": [
      "/Users/lorenh/Documents/Classes/spring_2019/advanced_mlpp/.aml/lib/python3.7/site-packages/sklearn/metrics/classification.py:1437: UndefinedMetricWarning: Precision is ill-defined and being set to 0.0 due to no predicted samples.\n",
      "  'precision', 'predicted', average, warn_for)\n",
      "/Users/lorenh/Documents/Classes/spring_2019/advanced_mlpp/.aml/lib/python3.7/site-packages/sklearn/metrics/classification.py:1437: UndefinedMetricWarning: F-score is ill-defined and being set to 0.0 due to no predicted samples.\n",
      "  'precision', 'predicted', average, warn_for)\n"
     ]
    }
   ],
   "source": [
    "results, model_state_dict = lstm_model.run_model(y_train, X_test, y_test, NUM_EPOCHS, \n",
    "                     hist, text_col='cleaned_no_stem')"
   ]
  },
  {
   "cell_type": "code",
   "execution_count": 234,
   "metadata": {},
   "outputs": [
    {
     "name": "stdout",
     "output_type": "stream",
     "text": [
      "Group Size: 2000\n",
      "Overall Accuracy: 0.937\n",
      "Overall Precision: 0.0\n",
      "Overall Recall: 0.0\n",
      "Overall F1 Score: 0.0\n",
      "ROC_AUC: 0.5\n",
      "\n",
      "Group Size: 126\n",
      "Target Accuracy: 0.0\n",
      "Target Precision: 0.0\n",
      "Target Recall: 0.0\n",
      "Target F1 Score: 0.0\n",
      "\n",
      "Group Size: 1874\n",
      "Non-Target Accuracy: 1.0\n",
      "Non-Target Precision: 1.0\n",
      "Non-Target Recall: 1.0\n",
      "Non-Target F1 Score: 1.0\n",
      "\n",
      "Strong Identity Samples: 6\n",
      "F1 Score: 0.0\n",
      "Obscenity Samples: 17\n",
      "F1 Score: 0.0\n",
      "Insults Samples: 62\n",
      "F1 Score: 0.0\n",
      "Threats Samples: 1\n",
      "F1 Score: 0.0\n"
     ]
    },
    {
     "name": "stderr",
     "output_type": "stream",
     "text": [
      "/Users/lorenh/Documents/Classes/spring_2019/advanced_mlpp/.aml/lib/python3.7/site-packages/sklearn/metrics/classification.py:1437: UndefinedMetricWarning: Precision is ill-defined and being set to 0.0 due to no predicted samples.\n",
      "  'precision', 'predicted', average, warn_for)\n",
      "/Users/lorenh/Documents/Classes/spring_2019/advanced_mlpp/.aml/lib/python3.7/site-packages/sklearn/metrics/classification.py:1437: UndefinedMetricWarning: F-score is ill-defined and being set to 0.0 due to no predicted samples.\n",
      "  'precision', 'predicted', average, warn_for)\n",
      "/Users/lorenh/Documents/Classes/spring_2019/advanced_mlpp/.aml/lib/python3.7/site-packages/sklearn/metrics/classification.py:1439: UndefinedMetricWarning: F-score is ill-defined and being set to 0.0 due to no true samples.\n",
      "  'recall', 'true', average, warn_for)\n"
     ]
    },
    {
     "data": {
      "text/plain": [
       "{'Overall': {'Accuracy': 0.937,\n",
       "  'Precision': 0.0,\n",
       "  'Recall': 0.0,\n",
       "  'F1': 0.0,\n",
       "  'ROC_AUC': 0.5},\n",
       " 'Target': {'Accuracy': 0.0, 'Precision': 0.0, 'Recall': 0.0, 'F1': 0.0},\n",
       " 'Non-Target': {'Accuracy': 1.0, 'Precision': 1.0, 'Recall': 1.0, 'F1': 1.0},\n",
       " 'Strong Identity': {'F1': 0.0},\n",
       " 'Obscenity': {'F1': 0.0},\n",
       " 'Insults': {'F1': 0.0},\n",
       " 'Threats': {'F1': 0.0}}"
      ]
     },
     "execution_count": 234,
     "metadata": {},
     "output_type": "execute_result"
    }
   ],
   "source": [
    "from model_functions import get_metrics\n",
    "\n",
    "get_metrics(results, detailed=True, label_col=\"y_true\", score_col=\"predicted_score\")"
   ]
  },
  {
   "cell_type": "markdown",
   "metadata": {},
   "source": [
    "### Larger LSTM Implementation"
   ]
  },
  {
   "cell_type": "code",
   "execution_count": 240,
   "metadata": {},
   "outputs": [],
   "source": [
    "lstm_model2 = LSTMModel(X_train, y_train, X_test, y_test, hidden_dim=50,\n",
    "              num_layers=1, embed_dim=50, batch_size=1, dropout=0, num_classes=2)"
   ]
  },
  {
   "cell_type": "code",
   "execution_count": 241,
   "metadata": {},
   "outputs": [
    {
     "data": {
      "text/plain": [
       "LSTMModel(\n",
       "  (loss_fcn): NLLLoss()\n",
       "  (embedding): Embedding(7500, 50)\n",
       "  (lstm): LSTM(50, 50, batch_first=True)\n",
       "  (linear): Linear(in_features=50, out_features=2, bias=True)\n",
       ")"
      ]
     },
     "execution_count": 241,
     "metadata": {},
     "output_type": "execute_result"
    }
   ],
   "source": [
    "lstm_model2.train()"
   ]
  },
  {
   "cell_type": "code",
   "execution_count": 242,
   "metadata": {},
   "outputs": [],
   "source": [
    "NUM_EPOCHS = 20\n",
    "hist = np.zeros(NUM_EPOCHS)"
   ]
  },
  {
   "cell_type": "code",
   "execution_count": 243,
   "metadata": {},
   "outputs": [
    {
     "name": "stdout",
     "output_type": "stream",
     "text": [
      "Epoch 0, Negative Log Linear Loss: 0.05155777931213379\n",
      "Epoch 3, Negative Log Linear Loss: 0.051601409912109375\n",
      "Epoch 6, Negative Log Linear Loss: 0.051596879959106445\n",
      "Epoch 9, Negative Log Linear Loss: 0.05164694786071777\n",
      "Epoch 12, Negative Log Linear Loss: 0.017528057098388672\n",
      "Epoch 15, Negative Log Linear Loss: 0.00808262825012207\n",
      "Epoch 18, Negative Log Linear Loss: 0.004567146301269531\n",
      "\n",
      "Starting Evaluation\n",
      "Epochs: 20; Train Size: 8000; Test Size: 2000)\n",
      "Accuracy: 0.924\n",
      "Precision: 0.30303\n",
      "Recall: 0.15873\n",
      "AUC-ROC: 0.56709\n",
      "Model Metrics:\n",
      "F1 Score: 0.20833; Precision: 0.30303; Recall: {round(recall, 5)}; AUC-ROC: {round(auc_roc, 5)}; Accuracy: {round(accuracy, 5)}\n"
     ]
    }
   ],
   "source": [
    "results_20epoch, model_state_dict_20epoch = lstm_model2.run_model(\n",
    "    y_train, X_test, y_test, NUM_EPOCHS, hist, text_col='cleaned_no_stem')"
   ]
  },
  {
   "cell_type": "code",
   "execution_count": 249,
   "metadata": {},
   "outputs": [
    {
     "data": {
      "text/plain": [
       "OrderedDict([('embedding.weight',\n",
       "              tensor([[-0.9963, -0.1814,  0.6065,  0.7021,  2.2757,  0.3787],\n",
       "                      [-0.4711, -2.4050,  0.3767, -0.5562, -0.2703, -0.5602],\n",
       "                      [-0.9521,  0.4496, -1.5851,  0.0607,  0.0985,  0.1245],\n",
       "                      ...,\n",
       "                      [-0.3268, -0.9932, -0.3735,  0.5772, -0.8590, -0.8340],\n",
       "                      [ 0.2362,  0.7435,  0.2148,  0.5386,  0.5705,  1.1198],\n",
       "                      [ 1.4645, -0.7100,  0.2518,  0.9309,  1.3626,  1.8108]])),\n",
       "             ('lstm.weight_ih_l0',\n",
       "              tensor([[ 1.3762, -0.3427, -0.9919, -1.5662, -0.5217, -1.8280],\n",
       "                      [-0.2172,  0.0770, -0.0768,  0.9031,  0.8287,  1.0308],\n",
       "                      [ 0.0131,  0.1612, -0.5108,  0.1390, -0.3730, -0.7225],\n",
       "                      [-1.1693, -1.9495,  0.1058,  1.4080,  1.5893, -0.0336],\n",
       "                      [-1.0675,  0.0564,  0.8971,  0.3192,  0.7321,  0.1933],\n",
       "                      [ 0.6320,  1.0299, -0.2681, -0.6358, -0.7725, -0.8196],\n",
       "                      [ 0.5307,  0.2080, -0.0321, -0.2626,  0.4952, -0.4439],\n",
       "                      [-0.8339, -0.0128, -0.4334, -0.9918, -0.6498, -1.0591],\n",
       "                      [-0.3565, -0.3971, -0.4696, -0.0782, -0.5305, -0.5856],\n",
       "                      [-1.4621, -0.0996,  0.6347,  0.1931,  1.0058,  0.9645],\n",
       "                      [-0.1729, -0.5772, -0.1978, -0.1976, -1.0543, -0.2052],\n",
       "                      [-0.2253, -0.1740, -1.4626, -0.2528, -0.1671, -0.8223]])),\n",
       "             ('lstm.weight_hh_l0', tensor([[ 1.4296,  0.9675,  1.8621],\n",
       "                      [-1.0556, -0.1053,  1.1902],\n",
       "                      [-1.0567, -0.3179,  0.2038],\n",
       "                      [-0.1495, -0.7320,  0.3933],\n",
       "                      [-0.8657, -0.6260,  0.8501],\n",
       "                      [ 0.1559,  0.6329, -1.2396],\n",
       "                      [ 0.4674, -0.8422,  0.3658],\n",
       "                      [ 0.5096,  0.6456, -0.2046],\n",
       "                      [ 1.3909, -0.9730, -0.5423],\n",
       "                      [-0.5922, -0.1552, -0.1745],\n",
       "                      [-1.2661, -1.3288,  0.4810],\n",
       "                      [-0.8691, -0.6443, -0.1801]])),\n",
       "             ('lstm.bias_ih_l0',\n",
       "              tensor([-1.1082,  0.8226,  1.6864,  0.8640,  1.1744, -0.8283, -0.3861, -0.5658,\n",
       "                      -0.3046,  0.5738,  0.5763,  0.8257])),\n",
       "             ('lstm.bias_hh_l0',\n",
       "              tensor([-0.3310,  1.9002,  1.4999,  0.8321,  0.9607,  0.0672, -0.0540, -0.4521,\n",
       "                       0.3612,  0.4018,  0.8815,  0.2036])),\n",
       "             ('linear.weight', tensor([[-1.9299, -0.4655, -0.6289],\n",
       "                      [ 1.8341,  0.3889,  0.7682]])),\n",
       "             ('linear.bias', tensor([ 0.0988, -0.3757]))])"
      ]
     },
     "execution_count": 249,
     "metadata": {},
     "output_type": "execute_result"
    }
   ],
   "source": [
    "model_state_dict_20epoch"
   ]
  },
  {
   "cell_type": "code",
   "execution_count": null,
   "metadata": {},
   "outputs": [],
   "source": [
    "results_20epoch"
   ]
  },
  {
   "cell_type": "code",
   "execution_count": 246,
   "metadata": {},
   "outputs": [],
   "source": [
    "results_20epoch.to_pickle('data/results20_epoch.pkl')"
   ]
  },
  {
   "cell_type": "code",
   "execution_count": null,
   "metadata": {},
   "outputs": [],
   "source": [
    "from sklearn.metrics import accuracy_score, precision_score, recall_score, roc_auc_score, "
   ]
  },
  {
   "cell_type": "code",
   "execution_count": 251,
   "metadata": {},
   "outputs": [],
   "source": [
    "from model_functions import get_metrics"
   ]
  },
  {
   "cell_type": "code",
   "execution_count": 305,
   "metadata": {},
   "outputs": [
    {
     "name": "stdout",
     "output_type": "stream",
     "text": [
      "Group Size: 2000\n",
      "Overall Accuracy: 0.924\n",
      "Overall Precision: 0.303\n",
      "Overall Recall: 0.159\n",
      "Overall F1 Score: 0.208\n",
      "ROC_AUC: 0.567\n",
      "\n",
      "Group Size: 126\n",
      "Target Accuracy: 0.159\n",
      "Target Precision: 1.0\n",
      "Target Recall: 0.159\n",
      "Target F1 Score: 0.274\n",
      "\n",
      "Group Size: 1874\n",
      "Non-Target Accuracy: 0.975\n",
      "Non-Target Precision: 1.0\n",
      "Non-Target Recall: 0.975\n",
      "Non-Target F1 Score: 0.988\n",
      "\n",
      "Strong Identity Samples: 6\n",
      "F1 Score: 0.0\n",
      "Obscenity Samples: 17\n",
      "F1 Score: 0.0\n",
      "Insults Samples: 62\n",
      "F1 Score: 0.0\n",
      "Threats Samples: 1\n",
      "F1 Score: 0.0\n"
     ]
    },
    {
     "name": "stderr",
     "output_type": "stream",
     "text": [
      "/Users/lorenh/Documents/Classes/spring_2019/advanced_mlpp/.aml/lib/python3.7/site-packages/sklearn/metrics/classification.py:1439: UndefinedMetricWarning: F-score is ill-defined and being set to 0.0 due to no true samples.\n",
      "  'recall', 'true', average, warn_for)\n",
      "/Users/lorenh/Documents/Classes/spring_2019/advanced_mlpp/.aml/lib/python3.7/site-packages/sklearn/metrics/classification.py:1437: UndefinedMetricWarning: F-score is ill-defined and being set to 0.0 due to no predicted samples.\n",
      "  'precision', 'predicted', average, warn_for)\n"
     ]
    },
    {
     "data": {
      "text/plain": [
       "{'Overall': {'Accuracy': 0.924,\n",
       "  'Precision': 0.303,\n",
       "  'Recall': 0.159,\n",
       "  'F1': 0.208,\n",
       "  'ROC_AUC': 0.567},\n",
       " 'Target': {'Accuracy': 0.159, 'Precision': 1.0, 'Recall': 0.159, 'F1': 0.274},\n",
       " 'Non-Target': {'Accuracy': 0.975,\n",
       "  'Precision': 1.0,\n",
       "  'Recall': 0.975,\n",
       "  'F1': 0.988},\n",
       " 'Strong Identity': {'F1': 0.0},\n",
       " 'Obscenity': {'F1': 0.0},\n",
       " 'Insults': {'F1': 0.0},\n",
       " 'Threats': {'F1': 0.0}}"
      ]
     },
     "execution_count": 305,
     "metadata": {},
     "output_type": "execute_result"
    }
   ],
   "source": [
    "get_metrics(results_20epoch, detailed=True, \n",
    "            label_col=\"y_true\", score_col=\"predicted_score\")"
   ]
  },
  {
   "cell_type": "markdown",
   "metadata": {},
   "source": [
    "### Keras LSTM Implementation"
   ]
  },
  {
   "cell_type": "code",
   "execution_count": 426,
   "metadata": {},
   "outputs": [
    {
     "name": "stdout",
     "output_type": "stream",
     "text": [
      "Shape of data tensor: torch.Size([10000, 194])\n"
     ]
    }
   ],
   "source": [
    "from keras.preprocessing.sequence import pad_sequences\n",
    "\n",
    "MAX_SEQUENCE_LENGTH = 194\n",
    "X_keras = []\n",
    "for comment, _ in comment_data:\n",
    "        X_keras.append([all_comments.word_to_idx[w] if w in all_comments.word_to_idx.keys() else 0 for w in comment])\n",
    "X_keras = pad_sequences(X_keras, maxlen=MAX_SEQUENCE_LENGTH)\n",
    "print('Shape of data tensor:', X.shape)\n"
   ]
  },
  {
   "cell_type": "code",
   "execution_count": 428,
   "metadata": {},
   "outputs": [
    {
     "name": "stdout",
     "output_type": "stream",
     "text": [
      "Shape of label tensor: (10000, 2)\n"
     ]
    }
   ],
   "source": [
    "y_keras = pd.get_dummies(mini_preprocessed['label']).values\n",
    "print('Shape of label tensor:', y_keras.shape)"
   ]
  },
  {
   "cell_type": "code",
   "execution_count": 468,
   "metadata": {},
   "outputs": [
    {
     "name": "stdout",
     "output_type": "stream",
     "text": [
      "(8000, 194) (8000, 2)\n",
      "(2000, 194) (2000, 2)\n"
     ]
    }
   ],
   "source": [
    "X_train_k, X_test_k, Y_train_k, Y_test_k = train_test_split(X_keras,y_keras, test_size = 0.20, random_state = 233)\n",
    "print(X_train_k.shape,Y_train_k.shape)\n",
    "print(X_test_k.shape,Y_test_k.shape)\n"
   ]
  },
  {
   "cell_type": "code",
   "execution_count": 513,
   "metadata": {},
   "outputs": [
    {
     "name": "stdout",
     "output_type": "stream",
     "text": [
      "_________________________________________________________________\n",
      "Layer (type)                 Output Shape              Param #   \n",
      "=================================================================\n",
      "embedding_15 (Embedding)     (None, 194, 100)          1000000   \n",
      "_________________________________________________________________\n",
      "lstm_15 (LSTM)               (None, 100)               80400     \n",
      "_________________________________________________________________\n",
      "dense_15 (Dense)             (None, 2)                 202       \n",
      "=================================================================\n",
      "Total params: 1,080,602\n",
      "Trainable params: 1,080,602\n",
      "Non-trainable params: 0\n",
      "_________________________________________________________________\n",
      "None\n"
     ]
    }
   ],
   "source": [
    "from keras.models import Sequential\n",
    "from keras.layers import Dense, Embedding, LSTM, SpatialDropout1D\n",
    "from keras.utils.np_utils import to_categorical\n",
    "from keras.layers import Dropout\n",
    "\n",
    "MAX_NB_WORDS = 10000\n",
    "\n",
    "k_model = Sequential()\n",
    "k_model.add(Embedding(MAX_NB_WORDS, EMBEDDING_DIM, input_length=X_keras.shape[1]))\n",
    "# k_model.add(SpatialDropout1D(0.2))\n",
    "k_model.add(LSTM(100, dropout=0.2, recurrent_dropout=0.2))\n",
    "k_model.add(Dense(2, activation='softmax'))\n",
    "\n",
    "\n",
    "k_model.compile(loss='categorical_crossentropy', optimizer='adam', \n",
    "                metrics=['accuracy'])\n",
    "print(k_model.summary())"
   ]
  },
  {
   "cell_type": "code",
   "execution_count": 514,
   "metadata": {},
   "outputs": [
    {
     "name": "stdout",
     "output_type": "stream",
     "text": [
      "Train on 7200 samples, validate on 800 samples\n",
      "Epoch 1/20\n",
      "7200/7200 [==============================] - 21s 3ms/step - loss: 0.2832 - acc: 0.9354 - val_loss: 0.2357 - val_acc: 0.9375\n",
      "Epoch 2/20\n",
      "7200/7200 [==============================] - 22s 3ms/step - loss: 0.2042 - acc: 0.9424 - val_loss: 0.2276 - val_acc: 0.9375\n",
      "Epoch 3/20\n",
      "7200/7200 [==============================] - 21s 3ms/step - loss: 0.1236 - acc: 0.9544 - val_loss: 0.2938 - val_acc: 0.9363\n",
      "Epoch 4/20\n",
      "7200/7200 [==============================] - 20s 3ms/step - loss: 0.0697 - acc: 0.9765 - val_loss: 0.3492 - val_acc: 0.9388\n",
      "Epoch 5/20\n",
      "7200/7200 [==============================] - 22s 3ms/step - loss: 0.0389 - acc: 0.9889 - val_loss: 0.3737 - val_acc: 0.9263\n"
     ]
    }
   ],
   "source": [
    "from keras.callbacks import EarlyStopping\n",
    "\n",
    "epochs = 20\n",
    "batch_size = 100\n",
    "\n",
    "history = k_model.fit(X_train_k, Y_train_k, epochs=epochs, \n",
    "                    batch_size=batch_size, validation_split=0.1,\n",
    "                    callbacks=[EarlyStopping(monitor='val_loss', \n",
    "                                             patience=3, \n",
    "                                             min_delta=0.0001)])"
   ]
  },
  {
   "cell_type": "code",
   "execution_count": 515,
   "metadata": {},
   "outputs": [
    {
     "name": "stdout",
     "output_type": "stream",
     "text": [
      "2000/2000 [==============================] - 3s 1ms/step\n",
      "Test set\n",
      "  Loss: 0.285\n",
      "  Accuracy: 0.938\n"
     ]
    }
   ],
   "source": [
    "accr = k_model.evaluate(X_test_k,Y_test_k)\n",
    "print('Test set\\n  Loss: {:0.3f}\\n  Accuracy: {:0.3f}'.format(accr[0],accr[1]))"
   ]
  },
  {
   "cell_type": "code",
   "execution_count": 516,
   "metadata": {},
   "outputs": [
    {
     "data": {
      "image/png": "[encoded data removed]",
      "text/plain": [
       "<Figure size 432x288 with 1 Axes>"
      ]
     },
     "metadata": {
      "needs_background": "light"
     },
     "output_type": "display_data"
    }
   ],
   "source": [
    "import matplotlib.pyplot as plt\n",
    "\n",
    "plt.title('Loss')\n",
    "plt.plot(history.history['loss'], label='train')\n",
    "plt.plot(history.history['val_loss'], label='test')\n",
    "plt.legend()\n",
    "plt.show();"
   ]
  },
  {
   "cell_type": "code",
   "execution_count": 517,
   "metadata": {},
   "outputs": [
    {
     "data": {
      "image/png": "[encoded data removed]",
      "text/plain": [
       "<Figure size 432x288 with 1 Axes>"
      ]
     },
     "metadata": {
      "needs_background": "light"
     },
     "output_type": "display_data"
    }
   ],
   "source": [
    "plt.title('Accuracy')\n",
    "plt.plot(history.history['acc'], label='train')\n",
    "plt.plot(history.history['val_acc'], label='test')\n",
    "plt.legend()\n",
    "plt.show();"
   ]
  },
  {
   "cell_type": "markdown",
   "metadata": {},
   "source": [
    "### \"Toy\" Model Learnings, Design Modification Decisions, and Tuning: \n",
    "\n",
    "**Hyperparameters**:\n",
    "- Use a single layer, set dropout to zero\n",
    "- Increase number of embedding dimensions (usually 50-500, more for more data)\n",
    "- Increase hidden dimensions to 50\n",
    "- Explicitly set batch size to 1\n",
    "- Changed loss function to Negative Log Linear Loss vs Cross Entropy Loss (and got much better results)\n",
    "- Set softmax dimensions to 2 (current number of classes)\n",
    "\n",
    "**Model Design**:\n",
    "- Preference for Pytorch over Keras\n",
    "- Stop calling linear layer on each item in lstm_output\n",
    "    - Instead pass hn once to linear, then run through softmax\n",
    "    - Call linear layer on hn output of lstm only\n",
    "- Run training steps (`self.forward`, `self.loss_fcn`, `self.backward`, `self.optimizer.step`) on every comment individually to accumulate loss over epoch\n",
    "- Call `self.optimizer.zero_grad` to clear gradient at beginning of each epoch vs. end\n",
    "- Add an unsqueeze(0) to X_vec elements during training (call to `self.forward`) to get (1, `MAX_SEQUENCE_LENGTH`), returning (`BATCH_SIZE`, 1, `NUM_CLASSES`)\n",
    "- Force dimensions for predictions from call to self.forward from (`BATCH_SIZE`, 1, `NUM_CLASSES`) to (`BATCH_SIZE`, `NUM_CLASSES`) with `.view()` function\n",
    "- Start using only second index of each y_vec element with added an unsqueeze(0) during training (call to `self.loss_fcn`) to force dimensions from (`NUM_CLASSES`) to `TOXIC_CLASS_VALUE`, or (1).\n",
    "- Including training and evaluation loops as methods in model class gets a bit unwieldly. In future iterations, move outside model."
   ]
  }
 ],
 "metadata": {
  "kernelspec": {
   "display_name": ".aml",
   "language": "python",
   "name": ".aml"
  },
  "language_info": {
   "codemirror_mode": {
    "name": "ipython",
    "version": 3
   },
   "file_extension": ".py",
   "mimetype": "text/x-python",
   "name": "python",
   "nbconvert_exporter": "python",
   "pygments_lexer": "ipython3",
   "version": "3.7.2"
  }
 },
 "nbformat": 4,
 "nbformat_minor": 2
}
