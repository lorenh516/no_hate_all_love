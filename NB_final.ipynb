{
 "cells": [
  {
   "cell_type": "markdown",
   "metadata": {},
   "source": [
    "# Naive Bayes Model"
   ]
  },
  {
   "cell_type": "markdown",
   "metadata": {},
   "source": [
    "In this notebook, a Naive Bayes model is run on a iid sampled data set of approximately 250K rows of data.  This notebook was run on an AWS SageMaker ml.c5.4xlarge instance."
   ]
  },
  {
   "cell_type": "markdown",
   "metadata": {},
   "source": [
    "#### Import modules"
   ]
  },
  {
   "cell_type": "code",
   "execution_count": 1,
   "metadata": {},
   "outputs": [],
   "source": [
    "import pandas as pd\n",
    "import string\n",
    "import re\n",
    "import string\n",
    "import numpy as np\n",
    "import datetime\n",
    "import matplotlib.pyplot as plt\n",
    "import seaborn as sns\n",
    "\n",
    "import nltk\n",
    "from nltk.corpus import stopwords\n",
    "from nltk.stem import PorterStemmer \n",
    "from nltk.stem import LancasterStemmer \n",
    "\n",
    "import warnings\n",
    "warnings.filterwarnings('ignore')\n",
    "\n",
    "import sklearn\n",
    "from sklearn.feature_extraction.text import CountVectorizer\n",
    "from sklearn.feature_extraction.text import TfidfTransformer\n",
    "from sklearn.feature_extraction.text import TfidfVectorizer\n",
    "\n",
    "from sklearn.naive_bayes import MultinomialNB\n",
    "from sklearn import svm\n",
    "from sklearn.linear_model import LogisticRegression\n",
    "\n",
    "from sklearn.metrics import accuracy_score, precision_score, recall_score, f1_score, roc_auc_score"
   ]
  },
  {
   "cell_type": "code",
   "execution_count": 2,
   "metadata": {},
   "outputs": [
    {
     "name": "stdout",
     "output_type": "stream",
     "text": [
      "[nltk_data] Downloading package stopwords to\n",
      "[nltk_data]     /home/ec2-user/nltk_data...\n",
      "[nltk_data]   Package stopwords is already up-to-date!\n"
     ]
    }
   ],
   "source": [
    "import feature_generation_functions as fgf"
   ]
  },
  {
   "cell_type": "code",
   "execution_count": 3,
   "metadata": {},
   "outputs": [],
   "source": [
    "import model_functions as mf"
   ]
  },
  {
   "cell_type": "code",
   "execution_count": 4,
   "metadata": {},
   "outputs": [],
   "source": [
    "import pickle_functions as pf"
   ]
  },
  {
   "cell_type": "markdown",
   "metadata": {},
   "source": [
    "### Load and shuffle data"
   ]
  },
  {
   "cell_type": "code",
   "execution_count": 5,
   "metadata": {},
   "outputs": [],
   "source": [
    "# train = pd.read_csv(\"s3://advancedml-koch-mathur-hinkson/train.csv\")"
   ]
  },
  {
   "cell_type": "code",
   "execution_count": 6,
   "metadata": {},
   "outputs": [
    {
     "data": {
      "text/plain": [
       "(1804874, 45)"
      ]
     },
     "execution_count": 6,
     "metadata": {},
     "output_type": "execute_result"
    }
   ],
   "source": [
    "train.shape"
   ]
  },
  {
   "cell_type": "markdown",
   "metadata": {},
   "source": [
    "Label comments as toxic (\"1\") or nontoxic (\"0\") using 0.5 threshold"
   ]
  },
  {
   "cell_type": "code",
   "execution_count": 7,
   "metadata": {},
   "outputs": [],
   "source": [
    "train['toxicity_category'] = train.target.apply(lambda x: 1 if x > 0.5 else 0)"
   ]
  },
  {
   "cell_type": "code",
   "execution_count": 8,
   "metadata": {},
   "outputs": [
    {
     "data": {
      "text/plain": [
       "(1804874, 46)"
      ]
     },
     "execution_count": 8,
     "metadata": {},
     "output_type": "execute_result"
    }
   ],
   "source": [
    "train.shape"
   ]
  },
  {
   "cell_type": "markdown",
   "metadata": {},
   "source": [
    "Split into train_set and validation_set"
   ]
  },
  {
   "cell_type": "code",
   "execution_count": 9,
   "metadata": {},
   "outputs": [],
   "source": [
    "#Citation: https://stackoverflow.com/questions/24147278/how-do-i-create-test-and-train-samples-from-one-dataframe-with-pandas\n",
    "msk = np.random.rand(len(train)) < 0.8\n",
    "train_set = train[msk]\n",
    "hold_out_set = train[~msk]\n"
   ]
  },
  {
   "cell_type": "code",
   "execution_count": 10,
   "metadata": {},
   "outputs": [
    {
     "name": "stdout",
     "output_type": "stream",
     "text": [
      "0    1358996\n",
      "1      85262\n",
      "Name: toxicity_category, dtype: int64\n"
     ]
    }
   ],
   "source": [
    "print(train_set.toxicity_category.value_counts())"
   ]
  },
  {
   "cell_type": "code",
   "execution_count": 11,
   "metadata": {},
   "outputs": [
    {
     "name": "stdout",
     "output_type": "stream",
     "text": [
      "0    339440\n",
      "1     21176\n",
      "Name: toxicity_category, dtype: int64\n"
     ]
    }
   ],
   "source": [
    "print(hold_out_set.toxicity_category.value_counts())"
   ]
  },
  {
   "cell_type": "markdown",
   "metadata": {},
   "source": [
    "Randomly sample train_set to create a smaller data frame (train_sample) to run NB on"
   ]
  },
  {
   "cell_type": "code",
   "execution_count": 12,
   "metadata": {},
   "outputs": [],
   "source": [
    "train_sample = train_set.sample(frac=0.75, replace=True)"
   ]
  },
  {
   "cell_type": "code",
   "execution_count": 13,
   "metadata": {},
   "outputs": [
    {
     "name": "stdout",
     "output_type": "stream",
     "text": [
      "0    1018765\n",
      "1      64429\n",
      "Name: toxicity_category, dtype: int64\n"
     ]
    }
   ],
   "source": [
    "print(train_sample.toxicity_category.value_counts())"
   ]
  },
  {
   "cell_type": "markdown",
   "metadata": {},
   "source": [
    "### Generate features"
   ]
  },
  {
   "cell_type": "code",
   "execution_count": 14,
   "metadata": {
    "scrolled": true
   },
   "outputs": [
    {
     "name": "stdout",
     "output_type": "stream",
     "text": [
      "Cleaned with stopwords...Elapsed Time:  0.265 minutes\n",
      "Cleaned without stopwords...Elapsed Time:  0.368 minutes\n",
      "Stemmed (Porter)...Elapsed Time:  8.513 minutes\n",
      "Stemmed (Lancaster)...Elapsed Time:  7.019 minutes\n",
      "\n",
      "DONE GENERATING FEATURES\n"
     ]
    }
   ],
   "source": [
    "train_df = fgf.generate_NB_SVM_features(train_sample)"
   ]
  },
  {
   "cell_type": "code",
   "execution_count": 15,
   "metadata": {},
   "outputs": [
    {
     "name": "stdout",
     "output_type": "stream",
     "text": [
      "Pickled and sent to bucket!\n"
     ]
    }
   ],
   "source": [
    "pf.write_pickle_to_s3bucket(filename='NB_final_1M', \n",
    "                            bucket_name='advancedml-koch-mathur-hinkson', \n",
    "                            df=train_df)"
   ]
  },
  {
   "cell_type": "code",
   "execution_count": 16,
   "metadata": {},
   "outputs": [
    {
     "name": "stdout",
     "output_type": "stream",
     "text": [
      "Cleaned with stopwords...Elapsed Time:  0.088 minutes\n",
      "Cleaned without stopwords...Elapsed Time:  0.123 minutes\n",
      "Stemmed (Porter)...Elapsed Time:  2.788 minutes\n",
      "Stemmed (Lancaster)...Elapsed Time:  2.291 minutes\n",
      "\n",
      "DONE GENERATING FEATURES\n"
     ]
    }
   ],
   "source": [
    "hold_out_df = fgf.generate_NB_SVM_features(hold_out_set)"
   ]
  },
  {
   "cell_type": "code",
   "execution_count": 17,
   "metadata": {},
   "outputs": [
    {
     "name": "stdout",
     "output_type": "stream",
     "text": [
      "Pickled and sent to bucket!\n"
     ]
    }
   ],
   "source": [
    "pf.write_pickle_to_s3bucket(filename='NB_final_holdout_350K', \n",
    "                            bucket_name='advancedml-koch-mathur-hinkson', \n",
    "                            df=hold_out_df)"
   ]
  },
  {
   "cell_type": "markdown",
   "metadata": {},
   "source": [
    "### Reshaping & Weighting"
   ]
  },
  {
   "cell_type": "markdown",
   "metadata": {},
   "source": [
    "Reshape the dataset to include an equal number of toxic and nontoxic samples"
   ]
  },
  {
   "cell_type": "code",
   "execution_count": 6,
   "metadata": {},
   "outputs": [],
   "source": [
    "train_df = pf.read_pickle(filename='NB_final_1M', bucket_name='advancedml-koch-mathur-hinkson')\n"
   ]
  },
  {
   "cell_type": "code",
   "execution_count": 7,
   "metadata": {},
   "outputs": [],
   "source": [
    "hold_out_df = pf.read_pickle(filename='NB_final_holdout_350K', bucket_name='advancedml-koch-mathur-hinkson')\n"
   ]
  },
  {
   "cell_type": "code",
   "execution_count": 8,
   "metadata": {},
   "outputs": [],
   "source": [
    "toxic = train_df[train_df.toxicity_category == 1]\n",
    "nontoxic = train_df[train_df.toxicity_category == 0]"
   ]
  },
  {
   "cell_type": "code",
   "execution_count": 9,
   "metadata": {},
   "outputs": [
    {
     "data": {
      "text/plain": [
       "((1083194, 50), (64429, 50), (1018765, 50))"
      ]
     },
     "execution_count": 9,
     "metadata": {},
     "output_type": "execute_result"
    }
   ],
   "source": [
    "train_df.shape, toxic.shape, nontoxic.shape"
   ]
  },
  {
   "cell_type": "code",
   "execution_count": 10,
   "metadata": {},
   "outputs": [],
   "source": [
    "quarter = len(toxic)\n",
    "ten_percent = round((len(toxic) / 5) * 2)"
   ]
  },
  {
   "cell_type": "code",
   "execution_count": 11,
   "metadata": {},
   "outputs": [
    {
     "data": {
      "text/plain": [
       "103088"
      ]
     },
     "execution_count": 11,
     "metadata": {},
     "output_type": "execute_result"
    }
   ],
   "source": [
    "ten_percent * 4"
   ]
  },
  {
   "cell_type": "code",
   "execution_count": 12,
   "metadata": {},
   "outputs": [],
   "source": [
    "random_df = train_df.sample(quarter*4)"
   ]
  },
  {
   "cell_type": "code",
   "execution_count": 13,
   "metadata": {},
   "outputs": [
    {
     "name": "stdout",
     "output_type": "stream",
     "text": [
      "1    128858\n",
      "0    128858\n",
      "Name: toxicity_category, dtype: int64\n"
     ]
    }
   ],
   "source": [
    "prepared_50 = toxic.append(toxic).append(nontoxic.sample(len(toxic)*2))\n",
    "prepared_50 = prepared_50.sample(frac=1).reset_index(drop=True)\n",
    "print(prepared_50.toxicity_category.value_counts())"
   ]
  },
  {
   "cell_type": "markdown",
   "metadata": {},
   "source": [
    "### Naive Bayes - weighted 50% toxic, 50% nontoxic"
   ]
  },
  {
   "cell_type": "markdown",
   "metadata": {},
   "source": [
    "From NB_iter4 notebook we learned that cleaned_no_stem_str was the feature that yeilded the highest performing model results."
   ]
  },
  {
   "cell_type": "code",
   "execution_count": 14,
   "metadata": {},
   "outputs": [
    {
     "name": "stdout",
     "output_type": "stream",
     "text": [
      "fitting model now\n"
     ]
    }
   ],
   "source": [
    "classifier, output, fitted_vectorizer = mf.run_model(model_df=prepared_50, \n",
    "                                                     model_type=\"MultiNB\", \n",
    "                                                     comments = \"cleaned_no_stem_str\", \n",
    "                                                     train_perc=0.8, \n",
    "                                                     target=\"toxicity_category\", \n",
    "                                                     see_inside=False)"
   ]
  },
  {
   "cell_type": "code",
   "execution_count": 15,
   "metadata": {},
   "outputs": [
    {
     "name": "stdout",
     "output_type": "stream",
     "text": [
      "Overall Accuracy: 0.821624662902819\n",
      "Overall Precision: 0.7826682651138893\n",
      "Overall Recall: 0.8891396552395034\n",
      "Overall F1 Score: 0.8325135716107407\n",
      "ROC_AUC: 0.822\n",
      "\n",
      "Target Accuracy: 0.8891396552395034\n",
      "Target Precision: 1.0\n",
      "Target Recall: 0.8891396552395034\n",
      "Target F1 Score: 0.941317019918021\n",
      "\n",
      "Non-Target Accuracy: 0.7544884692772017\n",
      "Non-Target Precision: 1.0\n",
      "Non-Target Recall: 0.7544884692772017\n",
      "Non-Target F1 Score: 0.8600666034448536\n",
      "\n",
      "Strong Identity Accuracy: 0.9108061749571184\n",
      "Strong Identity Precision: 0.9974937343358395\n",
      "Strong Identity Recall: 0.9128440366972477\n",
      "Strong Identity F1 Score: 1.0\n",
      "\n",
      "Obscenity Accuracy: 0.8790366721401204\n",
      "Obscenity Precision: 1.0\n",
      "Obscenity Recall: 0.8789041095890411\n",
      "Obscenity F1 Score: 1.0\n",
      "\n",
      "Insults Accuracy: 0.9016768698429598\n",
      "Insults Precision: 0.9988791221756829\n",
      "Insults Recall: 0.9025586353944562\n",
      "Insults F1 Score: 1.0\n",
      "\n",
      "Threats Accuracy: 0.8716502115655853\n",
      "Threats Precision: 1.0\n",
      "Threats Recall: 0.8716502115655853\n",
      "Threats F1 Score: 1.0\n",
      "\n"
     ]
    },
    {
     "data": {
      "text/plain": [
       "{'Overall': {'Accuracy': 0.821624662902819,\n",
       "  'Precision': 0.7826682651138893,\n",
       "  'Recall': 0.8891396552395034,\n",
       "  'F1': 0.8325135716107407,\n",
       "  'ROC_AUC': 0.822},\n",
       " 'Target': {'Accuracy': 0.8891396552395034,\n",
       "  'Precision': 1.0,\n",
       "  'Recall': 0.8891396552395034,\n",
       "  'F1': 0.941317019918021},\n",
       " 'Non-Target': {'Accuracy': 0.8716502115655853,\n",
       "  'Precision': 1.0,\n",
       "  'Recall': 0.8716502115655853,\n",
       "  'F1': 1.0}}"
      ]
     },
     "execution_count": 15,
     "metadata": {},
     "output_type": "execute_result"
    }
   ],
   "source": [
    "mf.get_metrics(output=output, detailed=True, should_print=True, round_to=3)"
   ]
  },
  {
   "cell_type": "code",
   "execution_count": 16,
   "metadata": {},
   "outputs": [
    {
     "name": "stdout",
     "output_type": "stream",
     "text": [
      "Index(['id', 'target', 'comment_text', 'severe_toxicity', 'obscene',\n",
      "       'identity_attack', 'insult', 'threat', 'asian', 'atheist', 'bisexual',\n",
      "       'black', 'buddhist', 'christian', 'female', 'heterosexual', 'hindu',\n",
      "       'homosexual_gay_or_lesbian', 'intellectual_or_learning_disability',\n",
      "       'jewish', 'latino', 'male', 'muslim', 'other_disability',\n",
      "       'other_gender', 'other_race_or_ethnicity', 'other_religion',\n",
      "       'other_sexual_orientation', 'physical_disability',\n",
      "       'psychiatric_or_mental_illness', 'transgender', 'white', 'created_date',\n",
      "       'publication_id', 'parent_id', 'article_id', 'rating', 'funny', 'wow',\n",
      "       'sad', 'likes', 'disagree', 'sexual_explicit',\n",
      "       'identity_annotator_count', 'toxicity_annotator_count',\n",
      "       'toxicity_category', 'cleaned_w_stopwords_str', 'cleaned_no_stem_str',\n",
      "       'cleaned_porter_str', 'cleaned_lancaster_str', 'predicted', 'y_test'],\n",
      "      dtype='object')\n"
     ]
    }
   ],
   "source": [
    "hold_out_results = mf.run_model_test(model_df=hold_out_df, \n",
    "                                     clf=classifier, \n",
    "                                     vectorizer=fitted_vectorizer, \n",
    "                                     comments=\"cleaned_no_stem_str\", target=\"toxicity_category\")"
   ]
  },
  {
   "cell_type": "code",
   "execution_count": 17,
   "metadata": {},
   "outputs": [],
   "source": [
    "# hold_out_results.to_csv(\"holdout_results\", sep='|')"
   ]
  },
  {
   "cell_type": "code",
   "execution_count": 18,
   "metadata": {},
   "outputs": [
    {
     "name": "stdout",
     "output_type": "stream",
     "text": [
      "Overall Accuracy: 0.759511502540098\n",
      "Overall Precision: 0.1755627709913085\n",
      "Overall Recall: 0.8375047223271628\n",
      "Overall F1 Score: 0.290276118303681\n",
      "ROC_AUC: 0.796\n",
      "\n",
      "Target Accuracy: 0.8375047223271628\n",
      "Target Precision: 1.0\n",
      "Target Recall: 0.8375047223271628\n",
      "Target F1 Score: 0.9115674230937266\n",
      "\n",
      "Non-Target Accuracy: 0.7546458873438605\n",
      "Non-Target Precision: 1.0\n",
      "Non-Target Recall: 0.7546458873438605\n",
      "Non-Target F1 Score: 0.8601688725765911\n",
      "\n",
      "Strong Identity Accuracy: 0.8375499334221038\n",
      "Strong Identity Precision: 0.9451737451737452\n",
      "Strong Identity Recall: 0.8761632068718683\n",
      "Strong Identity F1 Score: 1.0\n",
      "\n",
      "Obscenity Accuracy: 0.8297734627831715\n",
      "Obscenity Precision: 0.9945141065830722\n",
      "Obscenity Recall: 0.8321311475409836\n",
      "Obscenity F1 Score: 1.0\n",
      "\n",
      "Insults Accuracy: 0.8423837722061233\n",
      "Insults Precision: 0.9816527335947326\n",
      "Insults Recall: 0.854796108999549\n",
      "Insults F1 Score: 1.0\n",
      "\n",
      "Threats Accuracy: 0.8406593406593407\n",
      "Threats Precision: 0.978401727861771\n",
      "Threats Recall: 0.8547169811320755\n",
      "Threats F1 Score: 1.0\n",
      "\n"
     ]
    }
   ],
   "source": [
    "hold_out_metrics = mf.get_metrics(output=hold_out_results, detailed=True, should_print=True, round_to=3)"
   ]
  },
  {
   "cell_type": "markdown",
   "metadata": {},
   "source": [
    "### Feature generation"
   ]
  },
  {
   "cell_type": "code",
   "execution_count": 20,
   "metadata": {},
   "outputs": [],
   "source": [
    "feature_names = fitted_vectorizer.get_feature_names()"
   ]
  },
  {
   "cell_type": "code",
   "execution_count": 21,
   "metadata": {},
   "outputs": [],
   "source": [
    "imp = classifier.coef_.tolist()[0]\n",
    "imp2, names = zip(*sorted(zip(imp,feature_names)))"
   ]
  },
  {
   "cell_type": "code",
   "execution_count": 25,
   "metadata": {},
   "outputs": [],
   "source": [
    "imps = imp2[-10:] + imp2[:10]\n",
    "words = names[-10:] + names[:10]"
   ]
  },
  {
   "cell_type": "code",
   "execution_count": 30,
   "metadata": {},
   "outputs": [],
   "source": [
    "tograph = pd.DataFrame()\n",
    "tograph['importances'] = imps\n",
    "tograph['words'] = words\n",
    "tograph['type'] = tograph.importances.apply(lambda x: 1 if x > 0 else 0)"
   ]
  },
  {
   "cell_type": "code",
   "execution_count": 31,
   "metadata": {},
   "outputs": [
    {
     "data": {
      "text/plain": [
       "<matplotlib.axes._subplots.AxesSubplot at 0x7f4ac78a6e10>"
      ]
     },
     "execution_count": 31,
     "metadata": {},
     "output_type": "execute_result"
    },
    {
     "data": {
      "image/png": "[encoded data removed]",
      "text/plain": [
       "<Figure size 432x288 with 1 Axes>"
      ]
     },
     "metadata": {},
     "output_type": "display_data"
    }
   ],
   "source": [
    "sns.barplot(x=\"importances\", y=\"words\", data=tograph, hue=\"type\")"
   ]
  }
 ],
 "metadata": {
  "kernelspec": {
   "display_name": "conda_python3",
   "language": "python",
   "name": "conda_python3"
  },
  "language_info": {
   "codemirror_mode": {
    "name": "ipython",
    "version": 3
   },
   "file_extension": ".py",
   "mimetype": "text/x-python",
   "name": "python",
   "nbconvert_exporter": "python",
   "pygments_lexer": "ipython3",
   "version": "3.6.5"
  }
 },
 "nbformat": 4,
 "nbformat_minor": 2
}
